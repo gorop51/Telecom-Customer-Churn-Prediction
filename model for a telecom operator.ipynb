{
 "cells": [
  {
   "cell_type": "markdown",
   "metadata": {
    "id": "gZNZ7H-6JbuE"
   },
   "source": [
    "# Проект «Телекоммуникации»"
   ]
  },
  {
   "cell_type": "markdown",
   "metadata": {
    "toc": true
   },
   "source": [
    "<h1>Содержание<span class=\"tocSkip\"></span></h1>\n",
    "<div class=\"toc\"><ul class=\"toc-item\"><li><span><a href=\"#Информация-о-проекте\" data-toc-modified-id=\"Информация-о-проекте-1\"><span class=\"toc-item-num\">1&nbsp;&nbsp;</span>Информация о проекте</a></span><ul class=\"toc-item\"><li><span><a href=\"#Описание-проекта\" data-toc-modified-id=\"Описание-проекта-1.1\"><span class=\"toc-item-num\">1.1&nbsp;&nbsp;</span>Описание проекта</a></span></li><li><span><a href=\"#Цель-проекта\" data-toc-modified-id=\"Цель-проекта-1.2\"><span class=\"toc-item-num\">1.2&nbsp;&nbsp;</span>Цель проекта</a></span></li><li><span><a href=\"#Описание-данных\" data-toc-modified-id=\"Описание-данных-1.3\"><span class=\"toc-item-num\">1.3&nbsp;&nbsp;</span>Описание данных</a></span></li></ul></li><li><span><a href=\"#Подключение-данных-и-библиотек\" data-toc-modified-id=\"Подключение-данных-и-библиотек-2\"><span class=\"toc-item-num\">2&nbsp;&nbsp;</span>Подключение данных и библиотек</a></span><ul class=\"toc-item\"><li><span><a href=\"#Установка-библиотек\" data-toc-modified-id=\"Установка-библиотек-2.1\"><span class=\"toc-item-num\">2.1&nbsp;&nbsp;</span>Установка библиотек</a></span></li><li><span><a href=\"#Подключение-библиотек\" data-toc-modified-id=\"Подключение-библиотек-2.2\"><span class=\"toc-item-num\">2.2&nbsp;&nbsp;</span>Подключение библиотек</a></span></li><li><span><a href=\"#Подключение-данных\" data-toc-modified-id=\"Подключение-данных-2.3\"><span class=\"toc-item-num\">2.3&nbsp;&nbsp;</span>Подключение данных</a></span></li></ul></li><li><span><a href=\"#Исследовательский-анализ\" data-toc-modified-id=\"Исследовательский-анализ-3\"><span class=\"toc-item-num\">3&nbsp;&nbsp;</span>Исследовательский анализ</a></span><ul class=\"toc-item\"><li><span><a href=\"#Примеры-датафреймов\" data-toc-modified-id=\"Примеры-датафреймов-3.1\"><span class=\"toc-item-num\">3.1&nbsp;&nbsp;</span>Примеры датафреймов</a></span></li><li><span><a href=\"#Общая-информация-о-датафреймах\" data-toc-modified-id=\"Общая-информация-о-датафреймах-3.2\"><span class=\"toc-item-num\">3.2&nbsp;&nbsp;</span>Общая информация о датафреймах</a></span></li><li><span><a href=\"#Информация-о-признаках\" data-toc-modified-id=\"Информация-о-признаках-3.3\"><span class=\"toc-item-num\">3.3&nbsp;&nbsp;</span>Информация о признаках</a></span></li><li><span><a href=\"#Заключение\" data-toc-modified-id=\"Заключение-3.4\"><span class=\"toc-item-num\">3.4&nbsp;&nbsp;</span>Заключение</a></span><ul class=\"toc-item\"><li><span><a href=\"#Список-уточняющих-вопросов\" data-toc-modified-id=\"Список-уточняющих-вопросов-3.4.1\"><span class=\"toc-item-num\">3.4.1&nbsp;&nbsp;</span>Список уточняющих вопросов</a></span></li><li><span><a href=\"#План-решения-задачи\" data-toc-modified-id=\"План-решения-задачи-3.4.2\"><span class=\"toc-item-num\">3.4.2&nbsp;&nbsp;</span>План решения задачи</a></span></li><li><span><a href=\"#Цель-проекта\" data-toc-modified-id=\"Цель-проекта-3.4.3\"><span class=\"toc-item-num\">3.4.3&nbsp;&nbsp;</span>Цель проекта</a></span></li></ul></li></ul></li><li><span><a href=\"#Предообработка\" data-toc-modified-id=\"Предообработка-4\"><span class=\"toc-item-num\">4&nbsp;&nbsp;</span>Предообработка</a></span><ul class=\"toc-item\"><li><span><a href=\"#Обьединение-датафреймов\" data-toc-modified-id=\"Обьединение-датафреймов-4.1\"><span class=\"toc-item-num\">4.1&nbsp;&nbsp;</span>Обьединение датафреймов</a></span></li><li><span><a href=\"#Удаление-пропусков-в-поле-&quot;TotalCharges&quot;\" data-toc-modified-id=\"Удаление-пропусков-в-поле-&quot;TotalCharges&quot;-4.2\"><span class=\"toc-item-num\">4.2&nbsp;&nbsp;</span>Удаление пропусков в поле \"<font color=\"green\">TotalCharges</font>\"</a></span></li><li><span><a href=\"#Обработка-поля-&quot;MultipleLines&quot;\" data-toc-modified-id=\"Обработка-поля-&quot;MultipleLines&quot;-4.3\"><span class=\"toc-item-num\">4.3&nbsp;&nbsp;</span>Обработка поля \"<font color=\"green\">MultipleLines</font>\"</a></span></li><li><span><a href=\"#Обработка-поля-&quot;InternetService&quot;\" data-toc-modified-id=\"Обработка-поля-&quot;InternetService&quot;-4.4\"><span class=\"toc-item-num\">4.4&nbsp;&nbsp;</span>Обработка поля \"<font color=\"green\">InternetService</font>\"</a></span></li><li><span><a href=\"#Заполнение-пропусков-от-слияния-датафреймов\" data-toc-modified-id=\"Заполнение-пропусков-от-слияния-датафреймов-4.5\"><span class=\"toc-item-num\">4.5&nbsp;&nbsp;</span>Заполнение пропусков от слияния датафреймов</a></span></li><li><span><a href=\"#Добавление-новых-признаков\" data-toc-modified-id=\"Добавление-новых-признаков-4.6\"><span class=\"toc-item-num\">4.6&nbsp;&nbsp;</span>Добавление новых признаков</a></span></li><li><span><a href=\"#Корректировка-типов-данных\" data-toc-modified-id=\"Корректировка-типов-данных-4.7\"><span class=\"toc-item-num\">4.7&nbsp;&nbsp;</span>Корректировка типов данных</a></span></li></ul></li><li><span><a href=\"#Анализ-данных\" data-toc-modified-id=\"Анализ-данных-5\"><span class=\"toc-item-num\">5&nbsp;&nbsp;</span>Анализ данных</a></span><ul class=\"toc-item\"><li><span><a href=\"#Столбчатые-диаграммы-бинарных-признаков\" data-toc-modified-id=\"Столбчатые-диаграммы-бинарных-признаков-5.1\"><span class=\"toc-item-num\">5.1&nbsp;&nbsp;</span>Столбчатые диаграммы бинарных признаков</a></span></li><li><span><a href=\"#Линейчатые-диаграммы-категориальных-признаков\" data-toc-modified-id=\"Линейчатые-диаграммы-категориальных-признаков-5.2\"><span class=\"toc-item-num\">5.2&nbsp;&nbsp;</span>Линейчатые диаграммы категориальных признаков</a></span></li><li><span><a href=\"#Гистограммы-плотности-численных-признаков\" data-toc-modified-id=\"Гистограммы-плотности-численных-признаков-5.3\"><span class=\"toc-item-num\">5.3&nbsp;&nbsp;</span>Гистограммы плотности численных признаков</a></span></li><li><span><a href=\"#Матрица-корреляций-признаков\" data-toc-modified-id=\"Матрица-корреляций-признаков-5.4\"><span class=\"toc-item-num\">5.4&nbsp;&nbsp;</span>Матрица корреляций признаков</a></span></li><li><span><a href=\"#Обработка-признаков-интернет-услуг\" data-toc-modified-id=\"Обработка-признаков-интернет-услуг-5.5\"><span class=\"toc-item-num\">5.5&nbsp;&nbsp;</span>Обработка признаков интернет услуг</a></span></li><li><span><a href=\"#Удаление-поля-&quot;TotalCharges&quot;\" data-toc-modified-id=\"Удаление-поля-&quot;TotalCharges&quot;-5.6\"><span class=\"toc-item-num\">5.6&nbsp;&nbsp;</span>Удаление поля \"<font color=\"green\">TotalCharges</font>\"</a></span></li></ul></li><li><span><a href=\"#Выбор-лучшей-модели\" data-toc-modified-id=\"Выбор-лучшей-модели-6\"><span class=\"toc-item-num\">6&nbsp;&nbsp;</span>Выбор лучшей модели</a></span><ul class=\"toc-item\"><li><span><a href=\"#Разделение-на-выборки\" data-toc-modified-id=\"Разделение-на-выборки-6.1\"><span class=\"toc-item-num\">6.1&nbsp;&nbsp;</span>Разделение на выборки</a></span></li><li><span><a href=\"#Алгоритм-поиска-наилучших-параметров-с-помощью-кросс-валидации\" data-toc-modified-id=\"Алгоритм-поиска-наилучших-параметров-с-помощью-кросс-валидации-6.2\"><span class=\"toc-item-num\">6.2&nbsp;&nbsp;</span>Алгоритм поиска наилучших параметров с помощью кросс-валидации</a></span></li><li><span><a href=\"#Алгоритм-предообработки-данных\" data-toc-modified-id=\"Алгоритм-предообработки-данных-6.3\"><span class=\"toc-item-num\">6.3&nbsp;&nbsp;</span>Алгоритм предообработки данных</a></span></li><li><span><a href=\"#Удаление-ненужных-переменных\" data-toc-modified-id=\"Удаление-ненужных-переменных-6.4\"><span class=\"toc-item-num\">6.4&nbsp;&nbsp;</span>Удаление ненужных переменных</a></span></li><li><span><a href=\"#DecisionTreeClassifier\" data-toc-modified-id=\"DecisionTreeClassifier-6.5\"><span class=\"toc-item-num\">6.5&nbsp;&nbsp;</span>DecisionTreeClassifier</a></span></li><li><span><a href=\"#RandomForestClassifier\" data-toc-modified-id=\"RandomForestClassifier-6.6\"><span class=\"toc-item-num\">6.6&nbsp;&nbsp;</span>RandomForestClassifier</a></span></li><li><span><a href=\"#LGBMClassifier\" data-toc-modified-id=\"LGBMClassifier-6.7\"><span class=\"toc-item-num\">6.7&nbsp;&nbsp;</span>LGBMClassifier</a></span></li><li><span><a href=\"#LogisticRegression\" data-toc-modified-id=\"LogisticRegression-6.8\"><span class=\"toc-item-num\">6.8&nbsp;&nbsp;</span>LogisticRegression</a></span></li><li><span><a href=\"#Нейросеть\" data-toc-modified-id=\"Нейросеть-6.9\"><span class=\"toc-item-num\">6.9&nbsp;&nbsp;</span>Нейросеть</a></span></li><li><span><a href=\"#Выбор-лучшей-модели\" data-toc-modified-id=\"Выбор-лучшей-модели-6.10\"><span class=\"toc-item-num\">6.10&nbsp;&nbsp;</span>Выбор лучшей модели</a></span></li></ul></li><li><span><a href=\"#Анализ-лучшей-модели\" data-toc-modified-id=\"Анализ-лучшей-модели-7\"><span class=\"toc-item-num\">7&nbsp;&nbsp;</span>Анализ лучшей модели</a></span><ul class=\"toc-item\"><li><span><a href=\"#Важность-признаков\" data-toc-modified-id=\"Важность-признаков-7.1\"><span class=\"toc-item-num\">7.1&nbsp;&nbsp;</span>Важность признаков</a></span></li><li><span><a href=\"#ROC-Curve\" data-toc-modified-id=\"ROC-Curve-7.2\"><span class=\"toc-item-num\">7.2&nbsp;&nbsp;</span>ROC Curve</a></span></li><li><span><a href=\"#Матрица-ошибок\" data-toc-modified-id=\"Матрица-ошибок-7.3\"><span class=\"toc-item-num\">7.3&nbsp;&nbsp;</span>Матрица ошибок</a></span></li></ul></li><li><span><a href=\"#Вывод\" data-toc-modified-id=\"Вывод-8\"><span class=\"toc-item-num\">8&nbsp;&nbsp;</span>Вывод</a></span></li></ul></div>"
   ]
  },
  {
   "cell_type": "markdown",
   "metadata": {
    "id": "Drl3-Gy_JbuH"
   },
   "source": [
    "## Информация о проекте"
   ]
  },
  {
   "cell_type": "markdown",
   "metadata": {
    "id": "tv5PK50ZJbuH"
   },
   "source": [
    "### Описание проекта"
   ]
  },
  {
   "cell_type": "markdown",
   "metadata": {
    "id": "jCUgXqUgJbuH"
   },
   "source": [
    "Оператор связи «Ниединогоразрыва.ком» предоставляет два основных типа услуг:\n",
    "- Стационарную телефонную связь (файл \"<font color='red'>phone_new.csv</font>\"). Возможно подключение телефонного аппарата к нескольким линиям одновременно (поле \"<font color='green'>MultipleLines</font>\").\n",
    "- Интернет (файл \"<font color='red'>internet_new.csv</font>\"). Подключение может быть двух типов (поле \"<font color='green'>InternetService</font>\"): через телефонную линию (\"<font color=\"blue\">DSL</font>\", от англ. digital subscriber line, «цифровая абонентская линия») или оптоволоконный кабель (\"<font color=\"blue\">Fiber optic</font>\")."
   ]
  },
  {
   "cell_type": "markdown",
   "metadata": {
    "id": "jM59TCP5JbuH"
   },
   "source": [
    "Также доступны такие услуги (файл \"<font color='red'>internet_new.csv</font>\"):\n",
    "- Интернет-безопасность: антивирус (поле \"<font color='green'>DeviceProtection</font>\") и блокировка небезопасных сайтов (поле \"<font color='green'>OnlineSecurity</font>\");\n",
    "- Выделенная линия технической поддержки (поле \"<font color='green'>TechSupport</font>\");\n",
    "- Облачное хранилище файлов для резервного копирования данных (поле \"<font color='green'>OnlineBackup</font>\");\n",
    "- Стриминговое телевидение (поле \"<font color='green'>StreamingTV</font>\") и каталог фильмов (поле \"<font color='green'>StreamingMovies</font>\")."
   ]
  },
  {
   "cell_type": "markdown",
   "metadata": {
    "id": "pVMauWVVJbuH"
   },
   "source": [
    "За услуги клиенты могут платить каждый месяц или заключить договор на 1–2 года. Доступны различные способы расчёта и возможность получения электронного чека. Информация о договорах актуальна на 1 февраля 2020."
   ]
  },
  {
   "cell_type": "markdown",
   "metadata": {
    "id": "FRvumLUNJbuH"
   },
   "source": [
    "### Цель проекта"
   ]
  },
  {
   "cell_type": "markdown",
   "metadata": {
    "id": "65hczDu_JbuI"
   },
   "source": [
    "Оператор хочет научиться прогнозировать отток клиентов, основываясь на персональных данных о клиентах, информации об их тарифах и договорах. Если выяснится, что пользователь планирует уйти, ему будут предложены промокоды и специальные условия."
   ]
  },
  {
   "cell_type": "markdown",
   "metadata": {
    "id": "EtMOkaM0JbuI"
   },
   "source": [
    "### Описание данных"
   ]
  },
  {
   "cell_type": "markdown",
   "metadata": {
    "id": "ja9oQj4NJbuI"
   },
   "source": [
    "- Файл \"<font color='red'>contract_new.csv</font>\" (информация о контракте):\n",
    "    - Признаки:\n",
    "        - <font color='green'>BeginDate</font> — дата начала пользования услугами,\n",
    "        - <font color='green'>Type</font> — тип оплаты: ежемесячный, годовой и т.д.,\n",
    "        - <font color='green'>PaperlessBilling</font> — электронный платёжный документ,\n",
    "        - <font color='green'>PaymentMethod</font> — способ оплаты,\n",
    "        - <font color='green'>MonthlyCharges</font> — ежемесячные траты на услуги,\n",
    "        - <font color='green'>TotalCharges</font> — всего потраченно денег на услуги\n",
    "    - Целевой признак:\n",
    "        - <font color='green'>EndDate</font> — дата окончания пользования услугами\n",
    "- Файл \"<font color='red'>personal_new.csv</font>\" (информация о клиентах):\n",
    "    - Признаки:\n",
    "        - <font color='green'>Dependents</font> — наличие статуса иждивенца,\n",
    "        - <font color='green'>SeniorCitizen></font> — наличие пенсионного статуса по возрасту,\n",
    "        - <font color='green'>Partner</font> — наличие супруга(-и)\n",
    "- Файл \"<font color='red'>internet_new.csv</font>\" (информация об использовании клиентами услуг, связанными с интернетом и облачными технологиями):\n",
    "    - Признаки:\n",
    "        - <font color='green'>InternetService</font> — тип подключения: через телефонную линию или оптоволоконный кабель,\n",
    "        - <font color='green'>OnlineSecurity</font> — использование блокировки небезопасных сайтов,\n",
    "        - <font color='green'>OnlineBackup</font> — использование облачного хранилища файлов для резервного копирования данных,\n",
    "        - <font color='green'>DeviceProtection</font> — использование антивируса,\n",
    "        - <font color='green'>TechSupport</font> — использование выделенной линии технической поддержки,\n",
    "        - <font color='green'>StreamingTV</font> — использование стримингового телевидения,\n",
    "        - <font color='green'>StreamingMovies</font> — использование каталога фильмов\n",
    "- Файл \"<font color='red'>phone_new.csv</font>\" (информация об использовании клиентами услуг телефонной связи):\n",
    "    - Признаки:\n",
    "        - <font color='green'>MultipleLines</font> — использование нескольких линий связи для телефонного аппарата"
   ]
  },
  {
   "cell_type": "markdown",
   "metadata": {
    "id": "cGspQgNrJbuI"
   },
   "source": [
    "Во всех файлах поле \"<font color='green'>customerID</font>\" содержит код клиента."
   ]
  },
  {
   "cell_type": "markdown",
   "metadata": {
    "id": "FbI995LvJbuI"
   },
   "source": [
    "## Подключение данных и библиотек"
   ]
  },
  {
   "cell_type": "markdown",
   "metadata": {},
   "source": [
    "### Установка библиотек"
   ]
  },
  {
   "cell_type": "code",
   "execution_count": 1,
   "metadata": {},
   "outputs": [
    {
     "name": "stdout",
     "output_type": "stream",
     "text": [
      "Requirement already satisfied: phik in c:\\users\\admin\\anaconda3\\lib\\site-packages (0.12.3)\n",
      "Requirement already satisfied: numpy>=1.18.0 in c:\\users\\admin\\anaconda3\\lib\\site-packages (from phik) (1.21.5)\n",
      "Requirement already satisfied: scipy>=1.5.2 in c:\\users\\admin\\anaconda3\\lib\\site-packages (from phik) (1.7.3)\n",
      "Requirement already satisfied: pandas>=0.25.1 in c:\\users\\admin\\anaconda3\\lib\\site-packages (from phik) (1.4.2)\n",
      "Requirement already satisfied: matplotlib>=2.2.3 in c:\\users\\admin\\anaconda3\\lib\\site-packages (from phik) (3.5.1)\n",
      "Requirement already satisfied: joblib>=0.14.1 in c:\\users\\admin\\anaconda3\\lib\\site-packages (from phik) (1.2.0)\n",
      "Requirement already satisfied: cycler>=0.10 in c:\\users\\admin\\anaconda3\\lib\\site-packages (from matplotlib>=2.2.3->phik) (0.11.0)\n",
      "Requirement already satisfied: fonttools>=4.22.0 in c:\\users\\admin\\anaconda3\\lib\\site-packages (from matplotlib>=2.2.3->phik) (4.25.0)\n",
      "Requirement already satisfied: kiwisolver>=1.0.1 in c:\\users\\admin\\anaconda3\\lib\\site-packages (from matplotlib>=2.2.3->phik) (1.3.2)\n",
      "Requirement already satisfied: packaging>=20.0 in c:\\users\\admin\\anaconda3\\lib\\site-packages (from matplotlib>=2.2.3->phik) (21.3)\n",
      "Requirement already satisfied: pillow>=6.2.0 in c:\\users\\admin\\anaconda3\\lib\\site-packages (from matplotlib>=2.2.3->phik) (9.0.1)\n",
      "Requirement already satisfied: pyparsing>=2.2.1 in c:\\users\\admin\\anaconda3\\lib\\site-packages (from matplotlib>=2.2.3->phik) (3.0.4)\n",
      "Requirement already satisfied: python-dateutil>=2.7 in c:\\users\\admin\\anaconda3\\lib\\site-packages (from matplotlib>=2.2.3->phik) (2.8.2)\n",
      "Requirement already satisfied: pytz>=2020.1 in c:\\users\\admin\\anaconda3\\lib\\site-packages (from pandas>=0.25.1->phik) (2021.3)\n",
      "Requirement already satisfied: six>=1.5 in c:\\users\\admin\\anaconda3\\lib\\site-packages (from python-dateutil>=2.7->matplotlib>=2.2.3->phik) (1.15.0)\n"
     ]
    },
    {
     "name": "stderr",
     "output_type": "stream",
     "text": [
      "WARNING: Ignoring invalid distribution -rotobuf (c:\\users\\admin\\anaconda3\\lib\\site-packages)\n",
      "WARNING: Ignoring invalid distribution -rotobuf (c:\\users\\admin\\anaconda3\\lib\\site-packages)\n"
     ]
    },
    {
     "name": "stdout",
     "output_type": "stream",
     "text": [
      "Requirement already satisfied: tqdm in c:\\users\\admin\\anaconda3\\lib\\site-packages (4.64.0)\n",
      "Requirement already satisfied: colorama in c:\\users\\admin\\anaconda3\\lib\\site-packages (from tqdm) (0.4.6)\n"
     ]
    },
    {
     "name": "stderr",
     "output_type": "stream",
     "text": [
      "WARNING: Ignoring invalid distribution -rotobuf (c:\\users\\admin\\anaconda3\\lib\\site-packages)\n",
      "WARNING: Ignoring invalid distribution -rotobuf (c:\\users\\admin\\anaconda3\\lib\\site-packages)\n"
     ]
    },
    {
     "name": "stdout",
     "output_type": "stream",
     "text": [
      "Requirement already satisfied: tensorflow_addons in c:\\users\\admin\\anaconda3\\lib\\site-packages (0.15.0)\n",
      "Requirement already satisfied: typeguard>=2.7 in c:\\users\\admin\\anaconda3\\lib\\site-packages (from tensorflow_addons) (2.13.0)\n"
     ]
    },
    {
     "name": "stderr",
     "output_type": "stream",
     "text": [
      "WARNING: Ignoring invalid distribution -rotobuf (c:\\users\\admin\\anaconda3\\lib\\site-packages)\n",
      "WARNING: Ignoring invalid distribution -rotobuf (c:\\users\\admin\\anaconda3\\lib\\site-packages)\n"
     ]
    }
   ],
   "source": [
    "!pip install phik\n",
    "!pip install tqdm\n",
    "!pip install tensorflow_addons"
   ]
  },
  {
   "cell_type": "markdown",
   "metadata": {
    "id": "tAPqhgjuJbuK"
   },
   "source": [
    "### Подключение библиотек"
   ]
  },
  {
   "cell_type": "code",
   "execution_count": 2,
   "metadata": {
    "colab": {
     "base_uri": "https://localhost:8080/"
    },
    "id": "HFOmRjjTJbuK",
    "outputId": "ec7079d2-f010-4c7c-ee8e-8490b223bd3d"
   },
   "outputs": [],
   "source": [
    "import pandas as pd\n",
    "from matplotlib import pyplot as plt\n",
    "from seaborn import histplot, heatmap\n",
    "from phik.report import plot_correlation_matrix\n",
    "from sklearn.metrics import mean_squared_error as mse, roc_auc_score, roc_curve, confusion_matrix\n",
    "from sklearn.model_selection import train_test_split, StratifiedKFold\n",
    "from sklearn.linear_model import LogisticRegression\n",
    "from sklearn.pipeline import Pipeline, FeatureUnion\n",
    "from sklearn.preprocessing import FunctionTransformer, StandardScaler, OrdinalEncoder, OneHotEncoder\n",
    "from sklearn.ensemble import RandomForestClassifier\n",
    "from lightgbm import LGBMClassifier\n",
    "import numpy as np\n",
    "from scipy.misc import derivative\n",
    "from tqdm.auto import tqdm\n",
    "from copy import deepcopy\n",
    "import os, warnings\n",
    "from sklearn.tree import DecisionTreeClassifier\n",
    "import tensorflow as tf\n",
    "import tensorflow_addons as tfa"
   ]
  },
  {
   "cell_type": "markdown",
   "metadata": {
    "id": "KiZbSAhHJbuL"
   },
   "source": [
    "### Подключение данных"
   ]
  },
  {
   "cell_type": "code",
   "execution_count": 3,
   "metadata": {
    "id": "92oz1BAYJbuL"
   },
   "outputs": [],
   "source": [
    "services = ['contract', 'personal', 'internet', 'phone']\n",
    "try:\n",
    "    dfs = {service: pd.read_csv(f'/datasets/{service}_new.csv') for service in services}\n",
    "except FileNotFoundError:\n",
    "    dfs = {service: pd.read_csv(f'D:\\\\jupyter\\\\datasets\\\\{service}_new.csv') for service in services}"
   ]
  },
  {
   "cell_type": "markdown",
   "metadata": {
    "id": "kEX_ekfRJbuL"
   },
   "source": [
    "## Исследовательский анализ"
   ]
  },
  {
   "cell_type": "markdown",
   "metadata": {
    "id": "p_BT5nOzJbuL"
   },
   "source": [
    "### Примеры датафреймов"
   ]
  },
  {
   "cell_type": "code",
   "execution_count": 4,
   "metadata": {
    "colab": {
     "base_uri": "https://localhost:8080/",
     "height": 774
    },
    "id": "s9EhieN8JbuL",
    "outputId": "b62cacd7-f6c2-43bc-d6b8-a546d9ebb5e8"
   },
   "outputs": [
    {
     "data": {
      "text/html": [
       "<div>\n",
       "<style scoped>\n",
       "    .dataframe tbody tr th:only-of-type {\n",
       "        vertical-align: middle;\n",
       "    }\n",
       "\n",
       "    .dataframe tbody tr th {\n",
       "        vertical-align: top;\n",
       "    }\n",
       "\n",
       "    .dataframe thead th {\n",
       "        text-align: right;\n",
       "    }\n",
       "</style>\n",
       "<table border=\"1\" class=\"dataframe\">\n",
       "  <thead>\n",
       "    <tr style=\"text-align: right;\">\n",
       "      <th></th>\n",
       "      <th>customerID</th>\n",
       "      <th>BeginDate</th>\n",
       "      <th>EndDate</th>\n",
       "      <th>Type</th>\n",
       "      <th>PaperlessBilling</th>\n",
       "      <th>PaymentMethod</th>\n",
       "      <th>MonthlyCharges</th>\n",
       "      <th>TotalCharges</th>\n",
       "    </tr>\n",
       "  </thead>\n",
       "  <tbody>\n",
       "    <tr>\n",
       "      <th>0</th>\n",
       "      <td>7590-VHVEG</td>\n",
       "      <td>2020-01-01</td>\n",
       "      <td>No</td>\n",
       "      <td>Month-to-month</td>\n",
       "      <td>Yes</td>\n",
       "      <td>Electronic check</td>\n",
       "      <td>29.85</td>\n",
       "      <td>31.04</td>\n",
       "    </tr>\n",
       "    <tr>\n",
       "      <th>1</th>\n",
       "      <td>5575-GNVDE</td>\n",
       "      <td>2017-04-01</td>\n",
       "      <td>No</td>\n",
       "      <td>One year</td>\n",
       "      <td>No</td>\n",
       "      <td>Mailed check</td>\n",
       "      <td>56.95</td>\n",
       "      <td>2071.84</td>\n",
       "    </tr>\n",
       "    <tr>\n",
       "      <th>2</th>\n",
       "      <td>3668-QPYBK</td>\n",
       "      <td>2019-10-01</td>\n",
       "      <td>No</td>\n",
       "      <td>Month-to-month</td>\n",
       "      <td>Yes</td>\n",
       "      <td>Mailed check</td>\n",
       "      <td>53.85</td>\n",
       "      <td>226.17</td>\n",
       "    </tr>\n",
       "    <tr>\n",
       "      <th>3</th>\n",
       "      <td>7795-CFOCW</td>\n",
       "      <td>2016-05-01</td>\n",
       "      <td>No</td>\n",
       "      <td>One year</td>\n",
       "      <td>No</td>\n",
       "      <td>Bank transfer (automatic)</td>\n",
       "      <td>42.30</td>\n",
       "      <td>1960.6</td>\n",
       "    </tr>\n",
       "    <tr>\n",
       "      <th>4</th>\n",
       "      <td>9237-HQITU</td>\n",
       "      <td>2019-09-01</td>\n",
       "      <td>No</td>\n",
       "      <td>Month-to-month</td>\n",
       "      <td>Yes</td>\n",
       "      <td>Electronic check</td>\n",
       "      <td>70.70</td>\n",
       "      <td>353.5</td>\n",
       "    </tr>\n",
       "  </tbody>\n",
       "</table>\n",
       "</div>"
      ],
      "text/plain": [
       "   customerID   BeginDate EndDate            Type PaperlessBilling  \\\n",
       "0  7590-VHVEG  2020-01-01      No  Month-to-month              Yes   \n",
       "1  5575-GNVDE  2017-04-01      No        One year               No   \n",
       "2  3668-QPYBK  2019-10-01      No  Month-to-month              Yes   \n",
       "3  7795-CFOCW  2016-05-01      No        One year               No   \n",
       "4  9237-HQITU  2019-09-01      No  Month-to-month              Yes   \n",
       "\n",
       "               PaymentMethod  MonthlyCharges TotalCharges  \n",
       "0           Electronic check           29.85        31.04  \n",
       "1               Mailed check           56.95      2071.84  \n",
       "2               Mailed check           53.85       226.17  \n",
       "3  Bank transfer (automatic)           42.30       1960.6  \n",
       "4           Electronic check           70.70        353.5  "
      ]
     },
     "metadata": {},
     "output_type": "display_data"
    },
    {
     "data": {
      "text/html": [
       "<div>\n",
       "<style scoped>\n",
       "    .dataframe tbody tr th:only-of-type {\n",
       "        vertical-align: middle;\n",
       "    }\n",
       "\n",
       "    .dataframe tbody tr th {\n",
       "        vertical-align: top;\n",
       "    }\n",
       "\n",
       "    .dataframe thead th {\n",
       "        text-align: right;\n",
       "    }\n",
       "</style>\n",
       "<table border=\"1\" class=\"dataframe\">\n",
       "  <thead>\n",
       "    <tr style=\"text-align: right;\">\n",
       "      <th></th>\n",
       "      <th>customerID</th>\n",
       "      <th>gender</th>\n",
       "      <th>SeniorCitizen</th>\n",
       "      <th>Partner</th>\n",
       "      <th>Dependents</th>\n",
       "    </tr>\n",
       "  </thead>\n",
       "  <tbody>\n",
       "    <tr>\n",
       "      <th>0</th>\n",
       "      <td>7590-VHVEG</td>\n",
       "      <td>Female</td>\n",
       "      <td>0</td>\n",
       "      <td>Yes</td>\n",
       "      <td>No</td>\n",
       "    </tr>\n",
       "    <tr>\n",
       "      <th>1</th>\n",
       "      <td>5575-GNVDE</td>\n",
       "      <td>Male</td>\n",
       "      <td>0</td>\n",
       "      <td>No</td>\n",
       "      <td>No</td>\n",
       "    </tr>\n",
       "    <tr>\n",
       "      <th>2</th>\n",
       "      <td>3668-QPYBK</td>\n",
       "      <td>Male</td>\n",
       "      <td>0</td>\n",
       "      <td>No</td>\n",
       "      <td>No</td>\n",
       "    </tr>\n",
       "    <tr>\n",
       "      <th>3</th>\n",
       "      <td>7795-CFOCW</td>\n",
       "      <td>Male</td>\n",
       "      <td>0</td>\n",
       "      <td>No</td>\n",
       "      <td>No</td>\n",
       "    </tr>\n",
       "    <tr>\n",
       "      <th>4</th>\n",
       "      <td>9237-HQITU</td>\n",
       "      <td>Female</td>\n",
       "      <td>0</td>\n",
       "      <td>No</td>\n",
       "      <td>No</td>\n",
       "    </tr>\n",
       "  </tbody>\n",
       "</table>\n",
       "</div>"
      ],
      "text/plain": [
       "   customerID  gender  SeniorCitizen Partner Dependents\n",
       "0  7590-VHVEG  Female              0     Yes         No\n",
       "1  5575-GNVDE    Male              0      No         No\n",
       "2  3668-QPYBK    Male              0      No         No\n",
       "3  7795-CFOCW    Male              0      No         No\n",
       "4  9237-HQITU  Female              0      No         No"
      ]
     },
     "metadata": {},
     "output_type": "display_data"
    },
    {
     "data": {
      "text/html": [
       "<div>\n",
       "<style scoped>\n",
       "    .dataframe tbody tr th:only-of-type {\n",
       "        vertical-align: middle;\n",
       "    }\n",
       "\n",
       "    .dataframe tbody tr th {\n",
       "        vertical-align: top;\n",
       "    }\n",
       "\n",
       "    .dataframe thead th {\n",
       "        text-align: right;\n",
       "    }\n",
       "</style>\n",
       "<table border=\"1\" class=\"dataframe\">\n",
       "  <thead>\n",
       "    <tr style=\"text-align: right;\">\n",
       "      <th></th>\n",
       "      <th>customerID</th>\n",
       "      <th>InternetService</th>\n",
       "      <th>OnlineSecurity</th>\n",
       "      <th>OnlineBackup</th>\n",
       "      <th>DeviceProtection</th>\n",
       "      <th>TechSupport</th>\n",
       "      <th>StreamingTV</th>\n",
       "      <th>StreamingMovies</th>\n",
       "    </tr>\n",
       "  </thead>\n",
       "  <tbody>\n",
       "    <tr>\n",
       "      <th>0</th>\n",
       "      <td>7590-VHVEG</td>\n",
       "      <td>DSL</td>\n",
       "      <td>No</td>\n",
       "      <td>Yes</td>\n",
       "      <td>No</td>\n",
       "      <td>No</td>\n",
       "      <td>No</td>\n",
       "      <td>No</td>\n",
       "    </tr>\n",
       "    <tr>\n",
       "      <th>1</th>\n",
       "      <td>5575-GNVDE</td>\n",
       "      <td>DSL</td>\n",
       "      <td>Yes</td>\n",
       "      <td>No</td>\n",
       "      <td>Yes</td>\n",
       "      <td>No</td>\n",
       "      <td>No</td>\n",
       "      <td>No</td>\n",
       "    </tr>\n",
       "    <tr>\n",
       "      <th>2</th>\n",
       "      <td>3668-QPYBK</td>\n",
       "      <td>DSL</td>\n",
       "      <td>Yes</td>\n",
       "      <td>Yes</td>\n",
       "      <td>No</td>\n",
       "      <td>No</td>\n",
       "      <td>No</td>\n",
       "      <td>No</td>\n",
       "    </tr>\n",
       "    <tr>\n",
       "      <th>3</th>\n",
       "      <td>7795-CFOCW</td>\n",
       "      <td>DSL</td>\n",
       "      <td>Yes</td>\n",
       "      <td>No</td>\n",
       "      <td>Yes</td>\n",
       "      <td>Yes</td>\n",
       "      <td>No</td>\n",
       "      <td>No</td>\n",
       "    </tr>\n",
       "    <tr>\n",
       "      <th>4</th>\n",
       "      <td>9237-HQITU</td>\n",
       "      <td>Fiber optic</td>\n",
       "      <td>No</td>\n",
       "      <td>No</td>\n",
       "      <td>No</td>\n",
       "      <td>No</td>\n",
       "      <td>No</td>\n",
       "      <td>No</td>\n",
       "    </tr>\n",
       "  </tbody>\n",
       "</table>\n",
       "</div>"
      ],
      "text/plain": [
       "   customerID InternetService OnlineSecurity OnlineBackup DeviceProtection  \\\n",
       "0  7590-VHVEG             DSL             No          Yes               No   \n",
       "1  5575-GNVDE             DSL            Yes           No              Yes   \n",
       "2  3668-QPYBK             DSL            Yes          Yes               No   \n",
       "3  7795-CFOCW             DSL            Yes           No              Yes   \n",
       "4  9237-HQITU     Fiber optic             No           No               No   \n",
       "\n",
       "  TechSupport StreamingTV StreamingMovies  \n",
       "0          No          No              No  \n",
       "1          No          No              No  \n",
       "2          No          No              No  \n",
       "3         Yes          No              No  \n",
       "4          No          No              No  "
      ]
     },
     "metadata": {},
     "output_type": "display_data"
    },
    {
     "data": {
      "text/html": [
       "<div>\n",
       "<style scoped>\n",
       "    .dataframe tbody tr th:only-of-type {\n",
       "        vertical-align: middle;\n",
       "    }\n",
       "\n",
       "    .dataframe tbody tr th {\n",
       "        vertical-align: top;\n",
       "    }\n",
       "\n",
       "    .dataframe thead th {\n",
       "        text-align: right;\n",
       "    }\n",
       "</style>\n",
       "<table border=\"1\" class=\"dataframe\">\n",
       "  <thead>\n",
       "    <tr style=\"text-align: right;\">\n",
       "      <th></th>\n",
       "      <th>customerID</th>\n",
       "      <th>MultipleLines</th>\n",
       "    </tr>\n",
       "  </thead>\n",
       "  <tbody>\n",
       "    <tr>\n",
       "      <th>0</th>\n",
       "      <td>5575-GNVDE</td>\n",
       "      <td>No</td>\n",
       "    </tr>\n",
       "    <tr>\n",
       "      <th>1</th>\n",
       "      <td>3668-QPYBK</td>\n",
       "      <td>No</td>\n",
       "    </tr>\n",
       "    <tr>\n",
       "      <th>2</th>\n",
       "      <td>9237-HQITU</td>\n",
       "      <td>No</td>\n",
       "    </tr>\n",
       "    <tr>\n",
       "      <th>3</th>\n",
       "      <td>9305-CDSKC</td>\n",
       "      <td>Yes</td>\n",
       "    </tr>\n",
       "    <tr>\n",
       "      <th>4</th>\n",
       "      <td>1452-KIOVK</td>\n",
       "      <td>Yes</td>\n",
       "    </tr>\n",
       "  </tbody>\n",
       "</table>\n",
       "</div>"
      ],
      "text/plain": [
       "   customerID MultipleLines\n",
       "0  5575-GNVDE            No\n",
       "1  3668-QPYBK            No\n",
       "2  9237-HQITU            No\n",
       "3  9305-CDSKC           Yes\n",
       "4  1452-KIOVK           Yes"
      ]
     },
     "metadata": {},
     "output_type": "display_data"
    }
   ],
   "source": [
    "for service in services:\n",
    "    display(dfs[service].head())"
   ]
  },
  {
   "cell_type": "markdown",
   "metadata": {
    "id": "ap5GZTq-JbuL"
   },
   "source": [
    "- Датафреймы можно обьединить с помощью поля \"<font color='green'>customerID</font>\"\n",
    "- Признак \"<font color='green'>BeginDate</font>\" необходимо трансформировать в несколько новых признаков (например кол-во лет и месяцев с начала подписания договора), т.к. использовать его для предсказания в исходном виде невозможно.\n",
    "- Целевой признак \"<font color='green'>EndDate</font>\" следует привести к бинарному виду: \"<font color='blue'>No</font>\" — 0, а \"<font color='blue'>xxxx-xx-xx</font>\" — 1\n",
    "- После преобразований в признаках \"<font color='green'>BeginDate</font>\" и \"<font color='green'>EndDate</font>\" следует изменить их названия, так, чтобы они описывали текущие предназначения новых признаков.\n",
    "- Необходимо узнать кол-во уникальных значений в категориальных признаках \"<font color='green'>gender</font>\", \"<font color='green'>Type</font>\", \"<font color='green'>PaymentMethod</font>\", \"<font color='green'>InternetService</font>\", т.к. в случае если оно равно двум, следует изменить тип соответствующих признаков на бинарный.\n",
    "- Для преобразованных признаков следует изменить названия на более подходящие.\n",
    "- Название признака \"<font color='green'>gender</font>\" должна начинаться с большой буквы (что характерно для стиля \"camelCase\")\n",
    "- Бинарные признаки \"<font color='green'>PaperlessBilling</font>\", \"<font color='green'>Partner</font>\", \"<font color='green'>Dependents</font>\", \"<font color='green'>OnlineSecurity</font>\", \"<font color='green'>OnlineBackup</font>\", \"<font color='green'>DeviceProtection</font>\", \"<font color='green'>TechSupport</font>\", \"<font color='green'>StreamingTV</font>\", \"<font color='green'>StreamingMovies</font>\", \"<font color='green'>MultipleLines</font>\" следует изменить с формата \"<font color='blue'>Yes<font>/<font color='blue'>No</font>\" на \"<font color='blue'>1<font>/<font color='blue'>0</font>\""
   ]
  },
  {
   "cell_type": "markdown",
   "metadata": {
    "id": "j3gViYLbJbuM"
   },
   "source": [
    "### Общая информация о датафреймах"
   ]
  },
  {
   "cell_type": "code",
   "execution_count": 5,
   "metadata": {
    "colab": {
     "base_uri": "https://localhost:8080/"
    },
    "id": "Fbp2q3N7JbuM",
    "outputId": "9738bfca-8b21-4170-cb82-9247da3f1368"
   },
   "outputs": [
    {
     "name": "stdout",
     "output_type": "stream",
     "text": [
      "<class 'pandas.core.frame.DataFrame'>\n",
      "RangeIndex: 7043 entries, 0 to 7042\n",
      "Data columns (total 8 columns):\n",
      " #   Column            Non-Null Count  Dtype  \n",
      "---  ------            --------------  -----  \n",
      " 0   customerID        7043 non-null   object \n",
      " 1   BeginDate         7043 non-null   object \n",
      " 2   EndDate           7043 non-null   object \n",
      " 3   Type              7043 non-null   object \n",
      " 4   PaperlessBilling  7043 non-null   object \n",
      " 5   PaymentMethod     7043 non-null   object \n",
      " 6   MonthlyCharges    7043 non-null   float64\n",
      " 7   TotalCharges      7043 non-null   object \n",
      "dtypes: float64(1), object(7)\n",
      "memory usage: 440.3+ KB\n",
      "None\n",
      "\n",
      "<class 'pandas.core.frame.DataFrame'>\n",
      "RangeIndex: 7043 entries, 0 to 7042\n",
      "Data columns (total 5 columns):\n",
      " #   Column         Non-Null Count  Dtype \n",
      "---  ------         --------------  ----- \n",
      " 0   customerID     7043 non-null   object\n",
      " 1   gender         7043 non-null   object\n",
      " 2   SeniorCitizen  7043 non-null   int64 \n",
      " 3   Partner        7043 non-null   object\n",
      " 4   Dependents     7043 non-null   object\n",
      "dtypes: int64(1), object(4)\n",
      "memory usage: 275.2+ KB\n",
      "None\n",
      "\n",
      "<class 'pandas.core.frame.DataFrame'>\n",
      "RangeIndex: 5517 entries, 0 to 5516\n",
      "Data columns (total 8 columns):\n",
      " #   Column            Non-Null Count  Dtype \n",
      "---  ------            --------------  ----- \n",
      " 0   customerID        5517 non-null   object\n",
      " 1   InternetService   5517 non-null   object\n",
      " 2   OnlineSecurity    5517 non-null   object\n",
      " 3   OnlineBackup      5517 non-null   object\n",
      " 4   DeviceProtection  5517 non-null   object\n",
      " 5   TechSupport       5517 non-null   object\n",
      " 6   StreamingTV       5517 non-null   object\n",
      " 7   StreamingMovies   5517 non-null   object\n",
      "dtypes: object(8)\n",
      "memory usage: 344.9+ KB\n",
      "None\n",
      "\n",
      "<class 'pandas.core.frame.DataFrame'>\n",
      "RangeIndex: 6361 entries, 0 to 6360\n",
      "Data columns (total 2 columns):\n",
      " #   Column         Non-Null Count  Dtype \n",
      "---  ------         --------------  ----- \n",
      " 0   customerID     6361 non-null   object\n",
      " 1   MultipleLines  6361 non-null   object\n",
      "dtypes: object(2)\n",
      "memory usage: 99.5+ KB\n",
      "None\n",
      "\n"
     ]
    }
   ],
   "source": [
    "for service in services:\n",
    "    print(dfs[service].info())\n",
    "    print()"
   ]
  },
  {
   "cell_type": "markdown",
   "metadata": {
    "id": "FMfraUcxJbuM"
   },
   "source": [
    "- В файлах \"<font color='red'>contract_new.csv</font>\" и \"<font color='red'>personal_new.csv</font>\" равное кол-во обьектов и наибольшее из всех четырех файлов. Исходя из чего можно сделать предположение, что в этих двух файлах хранится информация обо всех пользователях, а в двух остальных только о тех, кто пользуется телефоннной связью и интернетом соответственно\n",
    "- Следует уточнить верно ли предположение\n",
    "- Если предположение окажется верным, то следует использовать внешний тип слияния, при обьединении датафреймов, в результате которого появятся пропуски, если клиент не пользуется телефонными и/или интернет услугами\n",
    "- В файлах нет пропусков (все пропуски в обьединенном датафрейме возникнут только от слияния)\n",
    "- Также, если предположение окажется верным, то поле \"<font color='green'>MultipleLines</font>\" следует сделать категориальным признаком, где пропуски (\"<font color='blue'>NaN</font>\") — это категория, обозначающая, что клиент не пользуется телефонными услугами, \"<font color='blue'>Yes</font>\" — категория клиентов, использующих несколько линий, \"<font color='blue'>No</font>\" — категория клиентов, использующих одну линию. А в случае не пользования интернет услугами, пропуски в поле <font color='green'>InternetService</font> следует заменить значением-заглушкой строкового типа (например \"<font color='blue'>None</font>\"), в полях \"<font color='green'>OnlineSecurity</font>\", \"<font color='green'>OnlineBackup</font>\", \"<font color='green'>DeviceProtection</font>\", \"<font color='green'>TechSupport</font>\", \"<font color='green'>StreamingTV</font>\", \"<font color='green'>StreamingMovies</font>\" заменить пропуски на на <font color='blue'>0</font> (\"<font color='blue'>No</font>\")\n",
    "- Тип признака \"<font color='green'>TotalCharges</font>\" нужно изменить с \"<font color='orange'>object</font>\" на \"<font color='orange'>float_</font>\"\n",
    "- После преобразования некоторых признаков в формат \"<font color='blue'>1</font>/<font color='blue'>0</font>\" следует изменить их тип на \"<font color='orange'>uint8</font>\", для экономии памяти\n",
    "- Все категориальные признаки следует привести к типу \"<font color='orange'>category</font>\""
   ]
  },
  {
   "cell_type": "markdown",
   "metadata": {
    "id": "ZiAoGlHLJbuM"
   },
   "source": [
    "### Информация о признаках"
   ]
  },
  {
   "cell_type": "markdown",
   "metadata": {
    "id": "Xxf9hAwhJbuM"
   },
   "source": [
    "Код <code>dfs['contract']['TotalCharges'] = dfs['contract']['TotalCharges'].astype('float_')</code> вызывет ошибку <code>ValueError: could not convert string to float: ''</code>, значит в этом столбце есть пропуски, обьекты с которыми необходимо удалить или восстановить."
   ]
  },
  {
   "cell_type": "code",
   "execution_count": 6,
   "metadata": {
    "colab": {
     "base_uri": "https://localhost:8080/"
    },
    "id": "ChDXzClkJbuM",
    "outputId": "a347f806-47e9-4930-98dd-b0eb567debf9"
   },
   "outputs": [
    {
     "data": {
      "text/plain": [
       "11"
      ]
     },
     "execution_count": 6,
     "metadata": {},
     "output_type": "execute_result"
    }
   ],
   "source": [
    "(dfs['contract']['TotalCharges'] == ' ').sum()"
   ]
  },
  {
   "cell_type": "code",
   "execution_count": 7,
   "metadata": {
    "colab": {
     "base_uri": "https://localhost:8080/",
     "height": 394
    },
    "id": "Q5P4fn8EJbuM",
    "outputId": "d495b251-07aa-4c5c-af6b-fa80261818c5"
   },
   "outputs": [
    {
     "data": {
      "text/html": [
       "<div>\n",
       "<style scoped>\n",
       "    .dataframe tbody tr th:only-of-type {\n",
       "        vertical-align: middle;\n",
       "    }\n",
       "\n",
       "    .dataframe tbody tr th {\n",
       "        vertical-align: top;\n",
       "    }\n",
       "\n",
       "    .dataframe thead th {\n",
       "        text-align: right;\n",
       "    }\n",
       "</style>\n",
       "<table border=\"1\" class=\"dataframe\">\n",
       "  <thead>\n",
       "    <tr style=\"text-align: right;\">\n",
       "      <th></th>\n",
       "      <th>customerID</th>\n",
       "      <th>BeginDate</th>\n",
       "      <th>EndDate</th>\n",
       "      <th>Type</th>\n",
       "      <th>PaperlessBilling</th>\n",
       "      <th>PaymentMethod</th>\n",
       "      <th>MonthlyCharges</th>\n",
       "      <th>TotalCharges</th>\n",
       "    </tr>\n",
       "  </thead>\n",
       "  <tbody>\n",
       "    <tr>\n",
       "      <th>488</th>\n",
       "      <td>4472-LVYGI</td>\n",
       "      <td>2020-02-01</td>\n",
       "      <td>No</td>\n",
       "      <td>Two year</td>\n",
       "      <td>Yes</td>\n",
       "      <td>Bank transfer (automatic)</td>\n",
       "      <td>52.55</td>\n",
       "      <td></td>\n",
       "    </tr>\n",
       "    <tr>\n",
       "      <th>753</th>\n",
       "      <td>3115-CZMZD</td>\n",
       "      <td>2020-02-01</td>\n",
       "      <td>No</td>\n",
       "      <td>Two year</td>\n",
       "      <td>No</td>\n",
       "      <td>Mailed check</td>\n",
       "      <td>20.25</td>\n",
       "      <td></td>\n",
       "    </tr>\n",
       "    <tr>\n",
       "      <th>936</th>\n",
       "      <td>5709-LVOEQ</td>\n",
       "      <td>2020-02-01</td>\n",
       "      <td>No</td>\n",
       "      <td>Two year</td>\n",
       "      <td>No</td>\n",
       "      <td>Mailed check</td>\n",
       "      <td>80.85</td>\n",
       "      <td></td>\n",
       "    </tr>\n",
       "    <tr>\n",
       "      <th>1082</th>\n",
       "      <td>4367-NUYAO</td>\n",
       "      <td>2020-02-01</td>\n",
       "      <td>No</td>\n",
       "      <td>Two year</td>\n",
       "      <td>No</td>\n",
       "      <td>Mailed check</td>\n",
       "      <td>25.75</td>\n",
       "      <td></td>\n",
       "    </tr>\n",
       "    <tr>\n",
       "      <th>1340</th>\n",
       "      <td>1371-DWPAZ</td>\n",
       "      <td>2020-02-01</td>\n",
       "      <td>No</td>\n",
       "      <td>Two year</td>\n",
       "      <td>No</td>\n",
       "      <td>Credit card (automatic)</td>\n",
       "      <td>56.05</td>\n",
       "      <td></td>\n",
       "    </tr>\n",
       "    <tr>\n",
       "      <th>3331</th>\n",
       "      <td>7644-OMVMY</td>\n",
       "      <td>2020-02-01</td>\n",
       "      <td>No</td>\n",
       "      <td>Two year</td>\n",
       "      <td>No</td>\n",
       "      <td>Mailed check</td>\n",
       "      <td>19.85</td>\n",
       "      <td></td>\n",
       "    </tr>\n",
       "    <tr>\n",
       "      <th>3826</th>\n",
       "      <td>3213-VVOLG</td>\n",
       "      <td>2020-02-01</td>\n",
       "      <td>No</td>\n",
       "      <td>Two year</td>\n",
       "      <td>No</td>\n",
       "      <td>Mailed check</td>\n",
       "      <td>25.35</td>\n",
       "      <td></td>\n",
       "    </tr>\n",
       "    <tr>\n",
       "      <th>4380</th>\n",
       "      <td>2520-SGTTA</td>\n",
       "      <td>2020-02-01</td>\n",
       "      <td>No</td>\n",
       "      <td>Two year</td>\n",
       "      <td>No</td>\n",
       "      <td>Mailed check</td>\n",
       "      <td>20.00</td>\n",
       "      <td></td>\n",
       "    </tr>\n",
       "    <tr>\n",
       "      <th>5218</th>\n",
       "      <td>2923-ARZLG</td>\n",
       "      <td>2020-02-01</td>\n",
       "      <td>No</td>\n",
       "      <td>One year</td>\n",
       "      <td>Yes</td>\n",
       "      <td>Mailed check</td>\n",
       "      <td>19.70</td>\n",
       "      <td></td>\n",
       "    </tr>\n",
       "    <tr>\n",
       "      <th>6670</th>\n",
       "      <td>4075-WKNIU</td>\n",
       "      <td>2020-02-01</td>\n",
       "      <td>No</td>\n",
       "      <td>Two year</td>\n",
       "      <td>No</td>\n",
       "      <td>Mailed check</td>\n",
       "      <td>73.35</td>\n",
       "      <td></td>\n",
       "    </tr>\n",
       "    <tr>\n",
       "      <th>6754</th>\n",
       "      <td>2775-SEFEE</td>\n",
       "      <td>2020-02-01</td>\n",
       "      <td>No</td>\n",
       "      <td>Two year</td>\n",
       "      <td>Yes</td>\n",
       "      <td>Bank transfer (automatic)</td>\n",
       "      <td>61.90</td>\n",
       "      <td></td>\n",
       "    </tr>\n",
       "  </tbody>\n",
       "</table>\n",
       "</div>"
      ],
      "text/plain": [
       "      customerID   BeginDate EndDate      Type PaperlessBilling  \\\n",
       "488   4472-LVYGI  2020-02-01      No  Two year              Yes   \n",
       "753   3115-CZMZD  2020-02-01      No  Two year               No   \n",
       "936   5709-LVOEQ  2020-02-01      No  Two year               No   \n",
       "1082  4367-NUYAO  2020-02-01      No  Two year               No   \n",
       "1340  1371-DWPAZ  2020-02-01      No  Two year               No   \n",
       "3331  7644-OMVMY  2020-02-01      No  Two year               No   \n",
       "3826  3213-VVOLG  2020-02-01      No  Two year               No   \n",
       "4380  2520-SGTTA  2020-02-01      No  Two year               No   \n",
       "5218  2923-ARZLG  2020-02-01      No  One year              Yes   \n",
       "6670  4075-WKNIU  2020-02-01      No  Two year               No   \n",
       "6754  2775-SEFEE  2020-02-01      No  Two year              Yes   \n",
       "\n",
       "                  PaymentMethod  MonthlyCharges TotalCharges  \n",
       "488   Bank transfer (automatic)           52.55               \n",
       "753                Mailed check           20.25               \n",
       "936                Mailed check           80.85               \n",
       "1082               Mailed check           25.75               \n",
       "1340    Credit card (automatic)           56.05               \n",
       "3331               Mailed check           19.85               \n",
       "3826               Mailed check           25.35               \n",
       "4380               Mailed check           20.00               \n",
       "5218               Mailed check           19.70               \n",
       "6670               Mailed check           73.35               \n",
       "6754  Bank transfer (automatic)           61.90               "
      ]
     },
     "execution_count": 7,
     "metadata": {},
     "output_type": "execute_result"
    }
   ],
   "source": [
    "dfs['contract'][dfs['contract']['TotalCharges'] == ' ']"
   ]
  },
  {
   "cell_type": "markdown",
   "metadata": {
    "id": "JnPoxOkeJbuN"
   },
   "source": [
    "Всего 11 пропусков. Следует уточнить не означают ли они значение <font color='blue'>0</font>. Можно заметить, что у всех обьектов с пропусками одна и та же дата подписания контракта, возможно в этот день произошел технический сбой, следует уточнить возможно ли восстановить данные. Пока заменим их на -1, а затем удалим."
   ]
  },
  {
   "cell_type": "code",
   "execution_count": 8,
   "metadata": {
    "id": "eXMLJi0WJbuN"
   },
   "outputs": [],
   "source": [
    "dfs['contract'].loc[dfs['contract']['TotalCharges'] == ' ', 'TotalCharges'] = -1"
   ]
  },
  {
   "cell_type": "code",
   "execution_count": 9,
   "metadata": {
    "id": "UknONRR7JbuN"
   },
   "outputs": [],
   "source": [
    "dfs['contract']['TotalCharges'] = dfs['contract']['TotalCharges'].astype('float_')"
   ]
  },
  {
   "cell_type": "code",
   "execution_count": 10,
   "metadata": {
    "colab": {
     "base_uri": "https://localhost:8080/",
     "height": 1000
    },
    "id": "DbYKmWcaJbuN",
    "outputId": "4b6789c3-12f8-4e0d-b9e1-6d6ee250ce85"
   },
   "outputs": [
    {
     "name": "stdout",
     "output_type": "stream",
     "text": [
      "contract: \n"
     ]
    },
    {
     "data": {
      "text/html": [
       "<div>\n",
       "<style scoped>\n",
       "    .dataframe tbody tr th:only-of-type {\n",
       "        vertical-align: middle;\n",
       "    }\n",
       "\n",
       "    .dataframe tbody tr th {\n",
       "        vertical-align: top;\n",
       "    }\n",
       "\n",
       "    .dataframe thead th {\n",
       "        text-align: right;\n",
       "    }\n",
       "</style>\n",
       "<table border=\"1\" class=\"dataframe\">\n",
       "  <thead>\n",
       "    <tr style=\"text-align: right;\">\n",
       "      <th></th>\n",
       "      <th>customerID</th>\n",
       "      <th>BeginDate</th>\n",
       "      <th>EndDate</th>\n",
       "      <th>Type</th>\n",
       "      <th>PaperlessBilling</th>\n",
       "      <th>PaymentMethod</th>\n",
       "      <th>MonthlyCharges</th>\n",
       "      <th>TotalCharges</th>\n",
       "    </tr>\n",
       "  </thead>\n",
       "  <tbody>\n",
       "    <tr>\n",
       "      <th>count</th>\n",
       "      <td>7043</td>\n",
       "      <td>7043</td>\n",
       "      <td>7043</td>\n",
       "      <td>7043</td>\n",
       "      <td>7043</td>\n",
       "      <td>7043</td>\n",
       "      <td>7043.000000</td>\n",
       "      <td>7043.000000</td>\n",
       "    </tr>\n",
       "    <tr>\n",
       "      <th>unique</th>\n",
       "      <td>7043</td>\n",
       "      <td>77</td>\n",
       "      <td>67</td>\n",
       "      <td>3</td>\n",
       "      <td>2</td>\n",
       "      <td>4</td>\n",
       "      <td>NaN</td>\n",
       "      <td>NaN</td>\n",
       "    </tr>\n",
       "    <tr>\n",
       "      <th>top</th>\n",
       "      <td>7590-VHVEG</td>\n",
       "      <td>2014-02-01</td>\n",
       "      <td>No</td>\n",
       "      <td>Month-to-month</td>\n",
       "      <td>Yes</td>\n",
       "      <td>Electronic check</td>\n",
       "      <td>NaN</td>\n",
       "      <td>NaN</td>\n",
       "    </tr>\n",
       "    <tr>\n",
       "      <th>freq</th>\n",
       "      <td>1</td>\n",
       "      <td>366</td>\n",
       "      <td>5942</td>\n",
       "      <td>3875</td>\n",
       "      <td>4171</td>\n",
       "      <td>2365</td>\n",
       "      <td>NaN</td>\n",
       "      <td>NaN</td>\n",
       "    </tr>\n",
       "    <tr>\n",
       "      <th>mean</th>\n",
       "      <td>NaN</td>\n",
       "      <td>NaN</td>\n",
       "      <td>NaN</td>\n",
       "      <td>NaN</td>\n",
       "      <td>NaN</td>\n",
       "      <td>NaN</td>\n",
       "      <td>64.761692</td>\n",
       "      <td>2115.311323</td>\n",
       "    </tr>\n",
       "    <tr>\n",
       "      <th>std</th>\n",
       "      <td>NaN</td>\n",
       "      <td>NaN</td>\n",
       "      <td>NaN</td>\n",
       "      <td>NaN</td>\n",
       "      <td>NaN</td>\n",
       "      <td>NaN</td>\n",
       "      <td>30.090047</td>\n",
       "      <td>2112.744378</td>\n",
       "    </tr>\n",
       "    <tr>\n",
       "      <th>min</th>\n",
       "      <td>NaN</td>\n",
       "      <td>NaN</td>\n",
       "      <td>NaN</td>\n",
       "      <td>NaN</td>\n",
       "      <td>NaN</td>\n",
       "      <td>NaN</td>\n",
       "      <td>18.250000</td>\n",
       "      <td>-1.000000</td>\n",
       "    </tr>\n",
       "    <tr>\n",
       "      <th>25%</th>\n",
       "      <td>NaN</td>\n",
       "      <td>NaN</td>\n",
       "      <td>NaN</td>\n",
       "      <td>NaN</td>\n",
       "      <td>NaN</td>\n",
       "      <td>NaN</td>\n",
       "      <td>35.500000</td>\n",
       "      <td>436.750000</td>\n",
       "    </tr>\n",
       "    <tr>\n",
       "      <th>50%</th>\n",
       "      <td>NaN</td>\n",
       "      <td>NaN</td>\n",
       "      <td>NaN</td>\n",
       "      <td>NaN</td>\n",
       "      <td>NaN</td>\n",
       "      <td>NaN</td>\n",
       "      <td>70.350000</td>\n",
       "      <td>1343.350000</td>\n",
       "    </tr>\n",
       "    <tr>\n",
       "      <th>75%</th>\n",
       "      <td>NaN</td>\n",
       "      <td>NaN</td>\n",
       "      <td>NaN</td>\n",
       "      <td>NaN</td>\n",
       "      <td>NaN</td>\n",
       "      <td>NaN</td>\n",
       "      <td>89.850000</td>\n",
       "      <td>3236.690000</td>\n",
       "    </tr>\n",
       "    <tr>\n",
       "      <th>max</th>\n",
       "      <td>NaN</td>\n",
       "      <td>NaN</td>\n",
       "      <td>NaN</td>\n",
       "      <td>NaN</td>\n",
       "      <td>NaN</td>\n",
       "      <td>NaN</td>\n",
       "      <td>118.750000</td>\n",
       "      <td>9221.380000</td>\n",
       "    </tr>\n",
       "  </tbody>\n",
       "</table>\n",
       "</div>"
      ],
      "text/plain": [
       "        customerID   BeginDate EndDate            Type PaperlessBilling  \\\n",
       "count         7043        7043    7043            7043             7043   \n",
       "unique        7043          77      67               3                2   \n",
       "top     7590-VHVEG  2014-02-01      No  Month-to-month              Yes   \n",
       "freq             1         366    5942            3875             4171   \n",
       "mean           NaN         NaN     NaN             NaN              NaN   \n",
       "std            NaN         NaN     NaN             NaN              NaN   \n",
       "min            NaN         NaN     NaN             NaN              NaN   \n",
       "25%            NaN         NaN     NaN             NaN              NaN   \n",
       "50%            NaN         NaN     NaN             NaN              NaN   \n",
       "75%            NaN         NaN     NaN             NaN              NaN   \n",
       "max            NaN         NaN     NaN             NaN              NaN   \n",
       "\n",
       "           PaymentMethod  MonthlyCharges  TotalCharges  \n",
       "count               7043     7043.000000   7043.000000  \n",
       "unique                 4             NaN           NaN  \n",
       "top     Electronic check             NaN           NaN  \n",
       "freq                2365             NaN           NaN  \n",
       "mean                 NaN       64.761692   2115.311323  \n",
       "std                  NaN       30.090047   2112.744378  \n",
       "min                  NaN       18.250000     -1.000000  \n",
       "25%                  NaN       35.500000    436.750000  \n",
       "50%                  NaN       70.350000   1343.350000  \n",
       "75%                  NaN       89.850000   3236.690000  \n",
       "max                  NaN      118.750000   9221.380000  "
      ]
     },
     "metadata": {},
     "output_type": "display_data"
    },
    {
     "name": "stdout",
     "output_type": "stream",
     "text": [
      "personal: \n"
     ]
    },
    {
     "data": {
      "text/html": [
       "<div>\n",
       "<style scoped>\n",
       "    .dataframe tbody tr th:only-of-type {\n",
       "        vertical-align: middle;\n",
       "    }\n",
       "\n",
       "    .dataframe tbody tr th {\n",
       "        vertical-align: top;\n",
       "    }\n",
       "\n",
       "    .dataframe thead th {\n",
       "        text-align: right;\n",
       "    }\n",
       "</style>\n",
       "<table border=\"1\" class=\"dataframe\">\n",
       "  <thead>\n",
       "    <tr style=\"text-align: right;\">\n",
       "      <th></th>\n",
       "      <th>customerID</th>\n",
       "      <th>gender</th>\n",
       "      <th>SeniorCitizen</th>\n",
       "      <th>Partner</th>\n",
       "      <th>Dependents</th>\n",
       "    </tr>\n",
       "  </thead>\n",
       "  <tbody>\n",
       "    <tr>\n",
       "      <th>count</th>\n",
       "      <td>7043</td>\n",
       "      <td>7043</td>\n",
       "      <td>7043.000000</td>\n",
       "      <td>7043</td>\n",
       "      <td>7043</td>\n",
       "    </tr>\n",
       "    <tr>\n",
       "      <th>unique</th>\n",
       "      <td>7043</td>\n",
       "      <td>2</td>\n",
       "      <td>NaN</td>\n",
       "      <td>2</td>\n",
       "      <td>2</td>\n",
       "    </tr>\n",
       "    <tr>\n",
       "      <th>top</th>\n",
       "      <td>7590-VHVEG</td>\n",
       "      <td>Male</td>\n",
       "      <td>NaN</td>\n",
       "      <td>No</td>\n",
       "      <td>No</td>\n",
       "    </tr>\n",
       "    <tr>\n",
       "      <th>freq</th>\n",
       "      <td>1</td>\n",
       "      <td>3555</td>\n",
       "      <td>NaN</td>\n",
       "      <td>3641</td>\n",
       "      <td>4933</td>\n",
       "    </tr>\n",
       "    <tr>\n",
       "      <th>mean</th>\n",
       "      <td>NaN</td>\n",
       "      <td>NaN</td>\n",
       "      <td>0.162147</td>\n",
       "      <td>NaN</td>\n",
       "      <td>NaN</td>\n",
       "    </tr>\n",
       "    <tr>\n",
       "      <th>std</th>\n",
       "      <td>NaN</td>\n",
       "      <td>NaN</td>\n",
       "      <td>0.368612</td>\n",
       "      <td>NaN</td>\n",
       "      <td>NaN</td>\n",
       "    </tr>\n",
       "    <tr>\n",
       "      <th>min</th>\n",
       "      <td>NaN</td>\n",
       "      <td>NaN</td>\n",
       "      <td>0.000000</td>\n",
       "      <td>NaN</td>\n",
       "      <td>NaN</td>\n",
       "    </tr>\n",
       "    <tr>\n",
       "      <th>25%</th>\n",
       "      <td>NaN</td>\n",
       "      <td>NaN</td>\n",
       "      <td>0.000000</td>\n",
       "      <td>NaN</td>\n",
       "      <td>NaN</td>\n",
       "    </tr>\n",
       "    <tr>\n",
       "      <th>50%</th>\n",
       "      <td>NaN</td>\n",
       "      <td>NaN</td>\n",
       "      <td>0.000000</td>\n",
       "      <td>NaN</td>\n",
       "      <td>NaN</td>\n",
       "    </tr>\n",
       "    <tr>\n",
       "      <th>75%</th>\n",
       "      <td>NaN</td>\n",
       "      <td>NaN</td>\n",
       "      <td>0.000000</td>\n",
       "      <td>NaN</td>\n",
       "      <td>NaN</td>\n",
       "    </tr>\n",
       "    <tr>\n",
       "      <th>max</th>\n",
       "      <td>NaN</td>\n",
       "      <td>NaN</td>\n",
       "      <td>1.000000</td>\n",
       "      <td>NaN</td>\n",
       "      <td>NaN</td>\n",
       "    </tr>\n",
       "  </tbody>\n",
       "</table>\n",
       "</div>"
      ],
      "text/plain": [
       "        customerID gender  SeniorCitizen Partner Dependents\n",
       "count         7043   7043    7043.000000    7043       7043\n",
       "unique        7043      2            NaN       2          2\n",
       "top     7590-VHVEG   Male            NaN      No         No\n",
       "freq             1   3555            NaN    3641       4933\n",
       "mean           NaN    NaN       0.162147     NaN        NaN\n",
       "std            NaN    NaN       0.368612     NaN        NaN\n",
       "min            NaN    NaN       0.000000     NaN        NaN\n",
       "25%            NaN    NaN       0.000000     NaN        NaN\n",
       "50%            NaN    NaN       0.000000     NaN        NaN\n",
       "75%            NaN    NaN       0.000000     NaN        NaN\n",
       "max            NaN    NaN       1.000000     NaN        NaN"
      ]
     },
     "metadata": {},
     "output_type": "display_data"
    },
    {
     "name": "stdout",
     "output_type": "stream",
     "text": [
      "internet: \n"
     ]
    },
    {
     "data": {
      "text/html": [
       "<div>\n",
       "<style scoped>\n",
       "    .dataframe tbody tr th:only-of-type {\n",
       "        vertical-align: middle;\n",
       "    }\n",
       "\n",
       "    .dataframe tbody tr th {\n",
       "        vertical-align: top;\n",
       "    }\n",
       "\n",
       "    .dataframe thead th {\n",
       "        text-align: right;\n",
       "    }\n",
       "</style>\n",
       "<table border=\"1\" class=\"dataframe\">\n",
       "  <thead>\n",
       "    <tr style=\"text-align: right;\">\n",
       "      <th></th>\n",
       "      <th>customerID</th>\n",
       "      <th>InternetService</th>\n",
       "      <th>OnlineSecurity</th>\n",
       "      <th>OnlineBackup</th>\n",
       "      <th>DeviceProtection</th>\n",
       "      <th>TechSupport</th>\n",
       "      <th>StreamingTV</th>\n",
       "      <th>StreamingMovies</th>\n",
       "    </tr>\n",
       "  </thead>\n",
       "  <tbody>\n",
       "    <tr>\n",
       "      <th>count</th>\n",
       "      <td>5517</td>\n",
       "      <td>5517</td>\n",
       "      <td>5517</td>\n",
       "      <td>5517</td>\n",
       "      <td>5517</td>\n",
       "      <td>5517</td>\n",
       "      <td>5517</td>\n",
       "      <td>5517</td>\n",
       "    </tr>\n",
       "    <tr>\n",
       "      <th>unique</th>\n",
       "      <td>5517</td>\n",
       "      <td>2</td>\n",
       "      <td>2</td>\n",
       "      <td>2</td>\n",
       "      <td>2</td>\n",
       "      <td>2</td>\n",
       "      <td>2</td>\n",
       "      <td>2</td>\n",
       "    </tr>\n",
       "    <tr>\n",
       "      <th>top</th>\n",
       "      <td>7590-VHVEG</td>\n",
       "      <td>Fiber optic</td>\n",
       "      <td>No</td>\n",
       "      <td>No</td>\n",
       "      <td>No</td>\n",
       "      <td>No</td>\n",
       "      <td>No</td>\n",
       "      <td>No</td>\n",
       "    </tr>\n",
       "    <tr>\n",
       "      <th>freq</th>\n",
       "      <td>1</td>\n",
       "      <td>3096</td>\n",
       "      <td>3498</td>\n",
       "      <td>3088</td>\n",
       "      <td>3095</td>\n",
       "      <td>3473</td>\n",
       "      <td>2810</td>\n",
       "      <td>2785</td>\n",
       "    </tr>\n",
       "  </tbody>\n",
       "</table>\n",
       "</div>"
      ],
      "text/plain": [
       "        customerID InternetService OnlineSecurity OnlineBackup  \\\n",
       "count         5517            5517           5517         5517   \n",
       "unique        5517               2              2            2   \n",
       "top     7590-VHVEG     Fiber optic             No           No   \n",
       "freq             1            3096           3498         3088   \n",
       "\n",
       "       DeviceProtection TechSupport StreamingTV StreamingMovies  \n",
       "count              5517        5517        5517            5517  \n",
       "unique                2           2           2               2  \n",
       "top                  No          No          No              No  \n",
       "freq               3095        3473        2810            2785  "
      ]
     },
     "metadata": {},
     "output_type": "display_data"
    },
    {
     "name": "stdout",
     "output_type": "stream",
     "text": [
      "phone: \n"
     ]
    },
    {
     "data": {
      "text/html": [
       "<div>\n",
       "<style scoped>\n",
       "    .dataframe tbody tr th:only-of-type {\n",
       "        vertical-align: middle;\n",
       "    }\n",
       "\n",
       "    .dataframe tbody tr th {\n",
       "        vertical-align: top;\n",
       "    }\n",
       "\n",
       "    .dataframe thead th {\n",
       "        text-align: right;\n",
       "    }\n",
       "</style>\n",
       "<table border=\"1\" class=\"dataframe\">\n",
       "  <thead>\n",
       "    <tr style=\"text-align: right;\">\n",
       "      <th></th>\n",
       "      <th>customerID</th>\n",
       "      <th>MultipleLines</th>\n",
       "    </tr>\n",
       "  </thead>\n",
       "  <tbody>\n",
       "    <tr>\n",
       "      <th>count</th>\n",
       "      <td>6361</td>\n",
       "      <td>6361</td>\n",
       "    </tr>\n",
       "    <tr>\n",
       "      <th>unique</th>\n",
       "      <td>6361</td>\n",
       "      <td>2</td>\n",
       "    </tr>\n",
       "    <tr>\n",
       "      <th>top</th>\n",
       "      <td>5575-GNVDE</td>\n",
       "      <td>No</td>\n",
       "    </tr>\n",
       "    <tr>\n",
       "      <th>freq</th>\n",
       "      <td>1</td>\n",
       "      <td>3390</td>\n",
       "    </tr>\n",
       "  </tbody>\n",
       "</table>\n",
       "</div>"
      ],
      "text/plain": [
       "        customerID MultipleLines\n",
       "count         6361          6361\n",
       "unique        6361             2\n",
       "top     5575-GNVDE            No\n",
       "freq             1          3390"
      ]
     },
     "metadata": {},
     "output_type": "display_data"
    }
   ],
   "source": [
    "for service in services:\n",
    "    print(service + ': ')\n",
    "    display(dfs[service].describe(include='all'))"
   ]
  },
  {
   "cell_type": "markdown",
   "metadata": {
    "id": "2NnYqRsEJbuh"
   },
   "source": [
    "- Тип признаков \"<font color='green'>MonthlyCharges</font>\" и \"<font color='green'>TotalCharges</font>\" следует изменить на \"<font color='orange'>float16</font>\" для экономии памяти\n",
    "- Т.к характеристики численных признаков \"<font color='green'>MonthlyCharges</font>\" и \"<font color='green'>TotalCharges</font>\" отличаются, необходимо использовать масштабирование"
   ]
  },
  {
   "cell_type": "markdown",
   "metadata": {
    "id": "BGQ-8jgeJbuh"
   },
   "source": [
    "### Заключение"
   ]
  },
  {
   "cell_type": "markdown",
   "metadata": {},
   "source": [
    "#### Список уточняющих вопросов"
   ]
  },
  {
   "cell_type": "markdown",
   "metadata": {},
   "source": [
    "- Верно ли предположение, что пользователи, которых нет в файле \"<font color='red'>internet_new.csv</font>\" и/или в файле \"<font color='red'>phone_new.csv</font>\", не пользуются соответствующими услугами; а в других файлах содержатся все клиенты?\n",
    "- 1 февраля 2020 года не происходили технические сбои? Если происходили аозможно ли восстановить утерянные данные?"
   ]
  },
  {
   "cell_type": "markdown",
   "metadata": {},
   "source": [
    "#### План решения задачи"
   ]
  },
  {
   "cell_type": "markdown",
   "metadata": {},
   "source": [
    "- Предообработка:\n",
    "    - Обьединенить датафреймы:\n",
    "    - Удалить пропуски в поле \"<font color='green'>TotalCharges</font>\"\n",
    "    - Преобразовать поля \"<font color='green'>MultipleLines</font>\" и \"<font color='green'>InternetService</font>\"\n",
    "    - Заполнить пропуски от слияния датафреймов\n",
    "    - Добавить новые признаки\n",
    "    - Изменить тип данных полей\n",
    "- Анализ данных:\n",
    "     - Разделить признаки на бинарные, категориальные, численные\n",
    "     - Построить столбчатые диаграммы бинарных признаков\n",
    "     - Построить линейчатые диаграммы категориальных признаков\n",
    "     - Построить гистограммы плотности численных признаков\n",
    "     - Сделать выводы по построенным графикам\n",
    "     - Построить матрицу корреляции признаков \n",
    "     - Удалить или преобразовать сильно коррелирующие признаки\n",
    "     - Обработать аномалии в данных, если они имеются\n",
    "- Тестирование моделей:\n",
    "    - Разделить данные на обучающую и тестовую выборки\n",
    "    - Протестировать DecisionTreeClassifier\n",
    "    - Протестировать RandomForestClassifier\n",
    "    - Протестировать LGBMClassifier с функцией потерь focal loss\n",
    "    - Протестировать LogisticRegression\n",
    "    - Протестировать простую нейросеть с функцией потерь focal loss\n",
    "- Анализ тестирования:\n",
    "    - Выбрать лучшую модель по метрике roc-auc\n",
    "    - Проанализировать важность признаков у лучшей модели\n",
    "    - Проанализировать матрицу ошибок у лучшей модели"
   ]
  },
  {
   "cell_type": "markdown",
   "metadata": {},
   "source": [
    "#### Цель проекта"
   ]
  },
  {
   "cell_type": "markdown",
   "metadata": {},
   "source": [
    "Подобрать лучшую модель для прогнозирования оттока клиентов, основываясь на персональных данных о клиентах, информации об их тарифах и договорах. Добиться значения метрики auc-roc >= 0.85 и хорошего значения полноты (метрика recall)."
   ]
  },
  {
   "cell_type": "markdown",
   "metadata": {
    "id": "jwpsNlU0Jbuh"
   },
   "source": [
    "## Предообработка"
   ]
  },
  {
   "cell_type": "markdown",
   "metadata": {
    "id": "WMKfceHEJbuh"
   },
   "source": [
    "### Обьединение датафреймов"
   ]
  },
  {
   "cell_type": "code",
   "execution_count": 11,
   "metadata": {
    "id": "_Dh7dqhPJbuh"
   },
   "outputs": [],
   "source": [
    "key='customerID'\n",
    "df = pd.DataFrame({key: dfs[services[0]][key]})\n",
    "for service in services:\n",
    "    df = dfs[service].merge(df, on=key, how='outer')"
   ]
  },
  {
   "cell_type": "code",
   "execution_count": 12,
   "metadata": {
    "id": "FZz9_3smJbui"
   },
   "outputs": [],
   "source": [
    "df = df.drop(key, axis=1)"
   ]
  },
  {
   "cell_type": "markdown",
   "metadata": {
    "id": "CpZ_1OOOJbui"
   },
   "source": [
    "### Удаление пропусков в поле \"<font color='green'>TotalCharges</font>\""
   ]
  },
  {
   "cell_type": "code",
   "execution_count": 13,
   "metadata": {
    "id": "iIn8BNqrJbui"
   },
   "outputs": [],
   "source": [
    "df = df[df['TotalCharges']!=-1]"
   ]
  },
  {
   "cell_type": "markdown",
   "metadata": {
    "id": "vUesyI6jJbui"
   },
   "source": [
    "### Обработка поля \"<font color='green'>MultipleLines</font>\""
   ]
  },
  {
   "cell_type": "code",
   "execution_count": 14,
   "metadata": {
    "id": "bzbrk7wgJbui"
   },
   "outputs": [],
   "source": [
    "df['MultipleLines'] = df['MultipleLines'].apply(lambda x: 'One line' if x == 'No' else 'Multiple lines' \\\n",
    "                                                if x == 'Yes' else 'Not using')"
   ]
  },
  {
   "cell_type": "code",
   "execution_count": 15,
   "metadata": {
    "id": "mmYpDd3QJbui"
   },
   "outputs": [],
   "source": [
    "df = df.rename(columns={'MultipleLines': 'UsingPhone'})"
   ]
  },
  {
   "cell_type": "markdown",
   "metadata": {
    "id": "KOk3WPwcJbui"
   },
   "source": [
    "### Обработка поля \"<font color='green'>InternetService</font>\""
   ]
  },
  {
   "cell_type": "code",
   "execution_count": 16,
   "metadata": {
    "id": "4Zb4GyViJbuj"
   },
   "outputs": [],
   "source": [
    "df['InternetService'] = df['InternetService'].fillna('Not using')"
   ]
  },
  {
   "cell_type": "code",
   "execution_count": 17,
   "metadata": {
    "id": "lXNljRd_Jbuj"
   },
   "outputs": [],
   "source": [
    "df = df.rename(columns={'InternetService': 'UsingInternet'})"
   ]
  },
  {
   "cell_type": "markdown",
   "metadata": {
    "id": "bUr8tKNbJbuj"
   },
   "source": [
    "### Заполнение пропусков от слияния датафреймов"
   ]
  },
  {
   "cell_type": "code",
   "execution_count": 18,
   "metadata": {
    "id": "VqGovmUeJbuj"
   },
   "outputs": [],
   "source": [
    "df = df.fillna('No')"
   ]
  },
  {
   "cell_type": "markdown",
   "metadata": {
    "id": "Lp9bUvbUJbuj"
   },
   "source": [
    "### Добавление новых признаков"
   ]
  },
  {
   "cell_type": "code",
   "execution_count": 19,
   "metadata": {
    "colab": {
     "base_uri": "https://localhost:8080/"
    },
    "id": "nWNc1YM8Jbuj",
    "outputId": "1ac2a517-72e9-4b9b-ba04-a423528afff3"
   },
   "outputs": [
    {
     "name": "stderr",
     "output_type": "stream",
     "text": [
      "C:\\Users\\Admin\\AppData\\Local\\Temp\\ipykernel_12412\\545392663.py:2: FutureWarning: Inferring datetime64[ns] from data containing strings is deprecated and will be removed in a future version. To retain the old behavior explicitly pass Series(data, dtype=datetime64[ns])\n",
      "  ((df['EndDate'].apply(lambda x: pd.Timestamp('2020-02-01') if x == 'No' else x) - \\\n"
     ]
    }
   ],
   "source": [
    "df['BeginDate'] = \\\n",
    "    ((df['EndDate'].apply(lambda x: pd.Timestamp('2020-02-01') if x == 'No' else x) - \\\n",
    "      pd.to_datetime(df['BeginDate'], format='%Y-%m-%d')).dt.days/30)\n",
    "df = df.rename(columns={'BeginDate': 'Months'})"
   ]
  },
  {
   "cell_type": "code",
   "execution_count": 20,
   "metadata": {
    "id": "STCUqkgPJbuk"
   },
   "outputs": [],
   "source": [
    "df['EndDate'] = df['EndDate'].apply(lambda x: x if x == 'No' else 'Yes')\n",
    "df = df.rename(columns={'EndDate': 'IsGone'})"
   ]
  },
  {
   "cell_type": "markdown",
   "metadata": {
    "id": "lHMN74okJbuk"
   },
   "source": [
    "### Корректировка типов данных"
   ]
  },
  {
   "cell_type": "code",
   "execution_count": 21,
   "metadata": {
    "id": "Jz4AAmgwJbuk"
   },
   "outputs": [],
   "source": [
    "df['gender'] = df['gender'].apply(lambda x: 'Yes' if x == 'Male' else 'No')\n",
    "df = df.rename(columns={'gender': 'IsMale'})"
   ]
  },
  {
   "cell_type": "code",
   "execution_count": 22,
   "metadata": {
    "id": "W3LtwbZyJbuk"
   },
   "outputs": [],
   "source": [
    "df['SeniorCitizen'] = df['SeniorCitizen'].apply(lambda x: 'Yes' if x else 'No')"
   ]
  },
  {
   "cell_type": "code",
   "execution_count": 23,
   "metadata": {
    "id": "1-MdmXV2Jbuk"
   },
   "outputs": [],
   "source": [
    "cat = ['UsingInternet', 'Type', 'UsingPhone', 'PaymentMethod']\n",
    "num = ['Months', 'MonthlyCharges', 'TotalCharges']\n",
    "binary = list(set(df.columns) - set(cat) - set(num))"
   ]
  },
  {
   "cell_type": "code",
   "execution_count": 24,
   "metadata": {
    "id": "gdeN_eD9Jbuk"
   },
   "outputs": [],
   "source": [
    "for column in binary:\n",
    "    df[column] = df[column].apply(lambda x: 1 if x == 'Yes' else 0)\n",
    "df[binary] = df[binary].astype('uint8')"
   ]
  },
  {
   "cell_type": "code",
   "execution_count": 25,
   "metadata": {
    "id": "s9KGkrC2Jbuk"
   },
   "outputs": [],
   "source": [
    "df[num] = df[num].astype('float16')"
   ]
  },
  {
   "cell_type": "code",
   "execution_count": 26,
   "metadata": {
    "id": "c2g_2erYJbul"
   },
   "outputs": [],
   "source": [
    "df[cat] = df[cat].astype('category')"
   ]
  },
  {
   "cell_type": "markdown",
   "metadata": {
    "id": "ISC1bet_Jbul"
   },
   "source": [
    "## Анализ данных"
   ]
  },
  {
   "cell_type": "markdown",
   "metadata": {
    "id": "HI6VLoBhJbul"
   },
   "source": [
    "### Столбчатые диаграммы бинарных признаков"
   ]
  },
  {
   "cell_type": "code",
   "execution_count": 27,
   "metadata": {
    "id": "aNQhU_6DJbul"
   },
   "outputs": [],
   "source": [
    "idx = binary.index('IsGone')\n",
    "binary[idx], binary[1] = binary[1], binary[idx]"
   ]
  },
  {
   "cell_type": "code",
   "execution_count": 28,
   "metadata": {
    "colab": {
     "base_uri": "https://localhost:8080/",
     "height": 1000
    },
    "id": "d92sgMneJbul",
    "outputId": "5ca36c42-8413-4cbd-b9fb-aa7e1d286f49"
   },
   "outputs": [
    {
     "data": {
      "image/png": "[encoded data removed]",
      "text/plain": [
       "<Figure size 864x1152 with 12 Axes>"
      ]
     },
     "metadata": {
      "needs_background": "light"
     },
     "output_type": "display_data"
    }
   ],
   "source": [
    "def draw(ax, column, kind, color=[\"#b4e1ed\",\"#51a6b0\"], use_title=False):\n",
    "    exec(f'''\n",
    "ax.{kind}(df[column].value_counts().sort_index().index, df[column].value_counts().sort_index().values, 0.25,\n",
    "    color=color)\n",
    "    ''')\n",
    "    ax.grid(True)\n",
    "    if not use_title:\n",
    "        ax.text(.5, .85, column,\n",
    "            horizontalalignment='center',\n",
    "            transform=ax.transAxes,\n",
    "            bbox=dict(facecolor='#5dcae7' if column != 'IsGone' else '#984fff', alpha=0.6),\n",
    "            fontsize=12)\n",
    "    else:\n",
    "        ax.set_title(column, fontsize=12)\n",
    "    if kind == 'bar':\n",
    "        ax.set_xticks([0, 1])\n",
    "\n",
    "\n",
    "\n",
    "\n",
    "fig = plt.figure(figsize=(12, 16))\n",
    "fig.suptitle('Столбчатые диаграммы бинарных признаков', fontsize=15)\n",
    "\n",
    "l = 0\n",
    "for i in range(12):\n",
    "    l += (i % 3 == 1 and i > 1)\n",
    "    draw(plt.subplot2grid((4, 3), (i//3, i% 3)), binary[i], 'bar')\n",
    "\n",
    "del l\n",
    "plt.show()\n"
   ]
  },
  {
   "cell_type": "markdown",
   "metadata": {
    "id": "7w7ofw64Jbul"
   },
   "source": [
    "Можем заметить дисбаланс классов в целевом признаке."
   ]
  },
  {
   "cell_type": "markdown",
   "metadata": {
    "id": "-CxielyOJbul"
   },
   "source": [
    "### Линейчатые диаграммы категориальных признаков"
   ]
  },
  {
   "cell_type": "code",
   "execution_count": 29,
   "metadata": {
    "id": "hpztgU96Jbum"
   },
   "outputs": [],
   "source": [
    "cat[-1], cat[0] = cat[0], cat[-1]\n",
    "cat[1], cat[2] = cat[2], cat[1]"
   ]
  },
  {
   "cell_type": "code",
   "execution_count": 30,
   "metadata": {
    "colab": {
     "base_uri": "https://localhost:8080/",
     "height": 1000
    },
    "id": "PxNLPxNlJbum",
    "outputId": "3d78ecab-de58-4091-dbd1-1155c8a709f5"
   },
   "outputs": [
    {
     "data": {
      "image/png": "[encoded data removed]",
      "text/plain": [
       "<Figure size 1080x1080 with 4 Axes>"
      ]
     },
     "metadata": {
      "needs_background": "light"
     },
     "output_type": "display_data"
    }
   ],
   "source": [
    "fig, _ = plt.subplots(ncols=2, nrows=2, figsize=(15, 15))\n",
    "fig.suptitle('Линейчатые диаграммы категориальных признаков', fontsize=15)\n",
    "for idx in range(len(cat)):\n",
    "    draw(fig.axes[idx], cat[idx], 'barh', color=['#c4dee9', '#2e4553', '#c0d9f8', '#0a1c34'], use_title=True)\n",
    "plt.show()"
   ]
  },
  {
   "cell_type": "markdown",
   "metadata": {
    "id": "PzpSCLYdJbum"
   },
   "source": [
    "- Большинство клиентов использует электронные чеки в качестве метода оплаты.\n",
    "- Большинство клиентов используют одну линию телефонной связи.\n",
    "- Большинство клиентов оплачивают услуги по-месячно.\n",
    "- Большинство клиентов пользуются интернетом, подключенным с помощью опто-волокна."
   ]
  },
  {
   "cell_type": "markdown",
   "metadata": {
    "id": "IW1na6VSJbum"
   },
   "source": [
    "### Гистограммы плотности численных признаков"
   ]
  },
  {
   "cell_type": "code",
   "execution_count": 31,
   "metadata": {
    "colab": {
     "base_uri": "https://localhost:8080/",
     "height": 515
    },
    "id": "qHeWI4ypJbum",
    "outputId": "f082092b-a546-4c9a-8112-dcbe93a969a8"
   },
   "outputs": [
    {
     "data": {
      "image/png": "[encoded data removed]",
      "text/plain": [
       "<Figure size 1296x360 with 3 Axes>"
      ]
     },
     "metadata": {
      "needs_background": "light"
     },
     "output_type": "display_data"
    }
   ],
   "source": [
    "fig, _ = plt.subplots(ncols=3, figsize=(18, 5))\n",
    "fig.suptitle('Гистограммы плотности численных признаков', fontsize=15)\n",
    "color=['#b4e1ed', '#5dcae7', '#51a6b0']\n",
    "for idx in range(len(num)):\n",
    "    histplot(\n",
    "        data=df[num[idx]],\n",
    "        ax = fig.axes[idx],\n",
    "        bins=100,\n",
    "        stat=\"density\",\n",
    "        alpha=0.7,\n",
    "        kde=True,\n",
    "        color=color[idx]\n",
    "        \n",
    "    )"
   ]
  },
  {
   "cell_type": "markdown",
   "metadata": {
    "id": "cWSJDgnTJbum"
   },
   "source": [
    "- Распределение кол-ва месяцев действия контракта имеет два пика, возможно это связанно с пиками популярности компании\n",
    "- Распределения по-месячной оплаты и общей суммы трат скошены вправо и имеют пик значений около <font color='blue'>20</font>"
   ]
  },
  {
   "cell_type": "markdown",
   "metadata": {
    "id": "ezn44wqWJbun"
   },
   "source": [
    "### Матрица корреляций признаков"
   ]
  },
  {
   "cell_type": "code",
   "execution_count": 32,
   "metadata": {
    "id": "Lh0BAMgtJbun"
   },
   "outputs": [],
   "source": [
    "matrix = df.phik_matrix(interval_cols=num).loc[binary+cat+num, num[::-1]+cat[::-1]+binary[::-1]]"
   ]
  },
  {
   "cell_type": "code",
   "execution_count": 33,
   "metadata": {
    "colab": {
     "base_uri": "https://localhost:8080/",
     "height": 1000
    },
    "id": "_GcY-S2lJbun",
    "outputId": "24b7545d-f881-4d28-81b9-05c76809dfa2"
   },
   "outputs": [
    {
     "data": {
      "image/png": "[encoded data removed]",
      "text/plain": [
       "<Figure size 864x720 with 2 Axes>"
      ]
     },
     "metadata": {
      "needs_background": "light"
     },
     "output_type": "display_data"
    }
   ],
   "source": [
    "plot_correlation_matrix(matrix.values, x_labels=matrix.columns, y_labels=matrix.index, figsize=(12, 10), color_map='Greens')"
   ]
  },
  {
   "cell_type": "markdown",
   "metadata": {
    "id": "gN6ByZ9TJbun"
   },
   "source": [
    "- Можно заметить, что все бинарные признаки, связанные с интернет услугами, сильно коррелируют между собой, поэтому предлагаю сделать новый признак, который будет сумимировать все эти признаки, таким образом отражая кол-во используемых интернет услуг клиентами\n",
    "- Также, можно заметить, что признак \"<font color='green'>TotalCharges</font>\" сильно коррелирует с признаками \"<font color='green'>MonthlyCharges</font>\", \"<font color='green'>Months</font>\", т.к. <p>\n",
    "    <code>df['TotalCharges'] = df['MonthlyCharges'] * df['Months']</code>\n",
    "</p>\n",
    "Так что предлагаю удалить признак \"<font color='green'>TotalCharges</font>\", но перед этим проверить данное предположение."
   ]
  },
  {
   "cell_type": "markdown",
   "metadata": {
    "id": "MkYc6oY7Jbun"
   },
   "source": [
    "### Обработка признаков интернет услуг"
   ]
  },
  {
   "cell_type": "code",
   "execution_count": 34,
   "metadata": {
    "id": "niMz6-WDJbun"
   },
   "outputs": [],
   "source": [
    "internet = list(set(dfs['internet'].columns) - {key, 'InternetService'})\n",
    "df['InternetServices'] = sum(df[column] for column in internet)\n",
    "df = df.drop(internet, axis=1)"
   ]
  },
  {
   "cell_type": "code",
   "execution_count": 35,
   "metadata": {
    "id": "zBK-rK2tJbun"
   },
   "outputs": [],
   "source": [
    "binary = list(set(binary) - set(internet))\n",
    "num += ['InternetServices']"
   ]
  },
  {
   "cell_type": "markdown",
   "metadata": {
    "id": "wq-NUqudJbuo"
   },
   "source": [
    "Посмотрим на новый признак:"
   ]
  },
  {
   "cell_type": "code",
   "execution_count": 36,
   "metadata": {
    "colab": {
     "base_uri": "https://localhost:8080/",
     "height": 487
    },
    "id": "2cZfDJwHJbuo",
    "outputId": "ca748319-477d-44b1-fffa-9a3f51ea88b0",
    "scrolled": true
   },
   "outputs": [
    {
     "data": {
      "image/png": "[encoded data removed]",
      "text/plain": [
       "<Figure size 864x360 with 1 Axes>"
      ]
     },
     "metadata": {
      "needs_background": "light"
     },
     "output_type": "display_data"
    }
   ],
   "source": [
    "df['InternetServices'].value_counts().sort_index().plot(figsize=(12, 5), kind='bar', width=0.15, rot=0,\n",
    "                                                        color=['#97f683', '#01b526', '#06d872', '#2fa723', '#7bea7f',\n",
    "                                                              '#71d31b', '#23e659'])\n",
    "plt.title('Столбчатая диаграмма кол-ва интернет услуг, используемых клиентами')\n",
    "plt.xlabel('Кол-во интернет услуг, используемых клиентами')\n",
    "plt.ylabel('Абсолютная частота')\n",
    "plt.show()"
   ]
  },
  {
   "cell_type": "markdown",
   "metadata": {
    "id": "wYJQYBNkJbuo"
   },
   "source": [
    "Большинство не используют интернет вообще или используют только интернет без других услуг."
   ]
  },
  {
   "cell_type": "markdown",
   "metadata": {
    "id": "Iu2QkyA1Jbuo"
   },
   "source": [
    "### Удаление поля \"<font color='green'>TotalCharges</font>\""
   ]
  },
  {
   "cell_type": "markdown",
   "metadata": {
    "id": "er7Xfk4SJbuo"
   },
   "source": [
    "Проверим предположение:"
   ]
  },
  {
   "cell_type": "code",
   "execution_count": 37,
   "metadata": {
    "colab": {
     "base_uri": "https://localhost:8080/"
    },
    "id": "tBkPsXlaJbuo",
    "outputId": "736aa3de-7c9e-47d3-f0de-c105c7609509"
   },
   "outputs": [
    {
     "data": {
      "text/plain": [
       "103.45247"
      ]
     },
     "execution_count": 37,
     "metadata": {},
     "output_type": "execute_result"
    }
   ],
   "source": [
    "MSE = mse(df['TotalCharges'].astype('float32'), df['MonthlyCharges'] * df['Months'], squared=False)\n",
    "MSE"
   ]
  },
  {
   "cell_type": "markdown",
   "metadata": {
    "id": "M8k1GjvcJbup"
   },
   "source": [
    "Довольно низкое MSE, что подтверждает предположение о том, что <p><code>df['TotalCharges'] = df['MonthlyCharges'] * df['Months']</code></p>"
   ]
  },
  {
   "cell_type": "code",
   "execution_count": 38,
   "metadata": {
    "id": "GPdnfPXVJbup"
   },
   "outputs": [],
   "source": [
    "df = df.drop('TotalCharges', axis=1)\n",
    "del num[num.index('TotalCharges')]"
   ]
  },
  {
   "cell_type": "markdown",
   "metadata": {
    "id": "9tBAk5PAJbup"
   },
   "source": [
    "## Выбор лучшей модели"
   ]
  },
  {
   "cell_type": "markdown",
   "metadata": {},
   "source": [
    "Отключим ненужные предупреждения:"
   ]
  },
  {
   "cell_type": "code",
   "execution_count": 40,
   "metadata": {
    "id": "dYNmYl1KJbup"
   },
   "outputs": [],
   "source": [
    "warnings.simplefilter('ignore')\n",
    "os.environ['PYTHONWARNINGS'] = 'ignore'"
   ]
  },
  {
   "cell_type": "markdown",
   "metadata": {
    "id": "_swvVtJyJbup"
   },
   "source": [
    "###  Разделение на выборки"
   ]
  },
  {
   "cell_type": "code",
   "execution_count": 41,
   "metadata": {
    "id": "gJpRnb9jJbuq"
   },
   "outputs": [],
   "source": [
    "RANDOM_STATE=30723"
   ]
  },
  {
   "cell_type": "code",
   "execution_count": 42,
   "metadata": {
    "id": "xzdZaReUJbuq"
   },
   "outputs": [],
   "source": [
    "train, test = train_test_split(df, test_size=0.25, stratify=df['IsGone'], random_state=RANDOM_STATE)"
   ]
  },
  {
   "cell_type": "code",
   "execution_count": 43,
   "metadata": {
    "id": "82aE3lgYJbuq"
   },
   "outputs": [],
   "source": [
    "for frame in ['test', 'train']:\n",
    "    exec(f'X_{frame}, y_{frame} = {frame}.drop(\"IsGone\", axis=1), {frame}[\"IsGone\"]')"
   ]
  },
  {
   "cell_type": "code",
   "execution_count": 44,
   "metadata": {
    "id": "MJyeEzL-Jbuo"
   },
   "outputs": [],
   "source": [
    "del binary[binary.index('IsGone')]"
   ]
  },
  {
   "cell_type": "markdown",
   "metadata": {
    "id": "SxFdUrCQJbuq"
   },
   "source": [
    "### Алгоритм поиска наилучших параметров с помощью кросс-валидации"
   ]
  },
  {
   "cell_type": "code",
   "execution_count": 45,
   "metadata": {
    "id": "gqrwtzG8Jbuq"
   },
   "outputs": [],
   "source": [
    "class grid_search_CV_by_roc_auc:\n",
    "\n",
    "    def __init__(self, preprocessing, model, params, cv):\n",
    "        self.cv = cv\n",
    "        self.params = params\n",
    "        self.model = Pipeline([('preprocessing', preprocessing), ('modelling', model)])\n",
    "\n",
    "    def fit(self, X, y):\n",
    "        results = []\n",
    "\n",
    "        params_sets = [[]]\n",
    "        X, y = X.reset_index(drop=True), y.reset_index(drop=True)\n",
    "\n",
    "        for idx in range(len(self.params)):\n",
    "            params_sets = [list(x)+[y] for x in params_sets for y in list(self.params.values())[idx]]\n",
    "        params_dicts = [{list(self.params.keys())[idx]: params_set[idx] for idx in range(len(params_set))} for params_set \\\n",
    "                           in params_sets]\n",
    "        del params_sets\n",
    "\n",
    "        for params in tqdm(params_dicts, colour='#70e8d9', position=0, leave=True, desc='Обработанные наборы гипер-параметров: '):\n",
    "\n",
    "            roc_auc_score_cv = []\n",
    "            test_model = deepcopy(self.model)\n",
    "            test_model['modelling'].set_params(**params)\n",
    "\n",
    "            for train_index, test_index in StratifiedKFold(n_splits=self.cv).split(X, y):\n",
    "\n",
    "                X_train, X_valid = X.iloc[train_index], X.iloc[test_index]\n",
    "                y_train, y_valid = y.iloc[train_index], y.iloc[test_index]\n",
    "                test_model.fit(X_train, y_train)\n",
    "                y_pred = test_model.predict_proba(X_valid)[:, 1]\n",
    "                score = roc_auc_score(y_valid, y_pred)\n",
    "\n",
    "\n",
    "                roc_auc_score_cv.append(score)\n",
    "\n",
    "            result = {}\n",
    "            result['params'] = params\n",
    "            result['roc_auc_score'] = pd.Series(roc_auc_score_cv).mean()\n",
    "            results.append(result)\n",
    "        best_params = sorted(results,key=lambda d: d['roc_auc_score'])[-1]\n",
    "        self.best_score = best_params['roc_auc_score']\n",
    "        self.best_params = best_params['params']\n",
    "        self.model['modelling'].set_params(**self.best_params)\n",
    "        self.model.fit(X, y)\n",
    "        return [self.model, self.best_score]"
   ]
  },
  {
   "cell_type": "markdown",
   "metadata": {
    "id": "_09fCSHrJbuq"
   },
   "source": [
    "### Алгоритм предообработки данных"
   ]
  },
  {
   "cell_type": "code",
   "execution_count": 46,
   "metadata": {
    "id": "aOGC06OzJbuq"
   },
   "outputs": [],
   "source": [
    "columns = binary + cat + num"
   ]
  },
  {
   "cell_type": "code",
   "execution_count": 47,
   "metadata": {
    "id": "hEYXEwfiJbur"
   },
   "outputs": [],
   "source": [
    "cat_pipe = Pipeline([('cat_selector', FunctionTransformer(lambda data: data[cat], validate=False)),\n",
    "                     ('ordinal_encoder', OrdinalEncoder(dtype='uint8'))])\n",
    "bin_pipe = Pipeline([('bin_selector', FunctionTransformer(lambda data: data[binary], validate=False))])\n",
    "num_pipe = Pipeline([('num_selector', FunctionTransformer(lambda data: data[num], validate=False))])\n",
    "preprocessing = Pipeline([('unioning', FeatureUnion([('bin', bin_pipe), ('cat', cat_pipe), ('num', num_pipe)])),\n",
    "                  ('make_df', FunctionTransformer(\n",
    "                      lambda d: \\\n",
    "        pd.concat([pd.Series(d[:, i], name=columns[i], dtype='uint8' if i < len(binary) else 'category' if i <= d.shape[1]-len(cat) else 'float16') \\\n",
    "                   for i in range(d.shape[1])], axis=1)\n",
    "                  ))])"
   ]
  },
  {
   "cell_type": "markdown",
   "metadata": {
    "id": "vkoBKcKuJbur"
   },
   "source": [
    "### Удаление ненужных переменных"
   ]
  },
  {
   "cell_type": "code",
   "execution_count": 48,
   "metadata": {
    "colab": {
     "base_uri": "https://localhost:8080/",
     "height": 165
    },
    "id": "NU82-tiiJbur",
    "outputId": "1c3ef1d2-1355-4b88-fb48-c214603eb1e7"
   },
   "outputs": [],
   "source": [
    "del dfs, color, column, df, fig, frame, i, idx, internet, key, matrix, service, services, train, test"
   ]
  },
  {
   "cell_type": "markdown",
   "metadata": {
    "id": "jKcI8_08Jbur"
   },
   "source": [
    "### DecisionTreeClassifier"
   ]
  },
  {
   "cell_type": "code",
   "execution_count": 49,
   "metadata": {
    "id": "DDYhrPySJbur"
   },
   "outputs": [],
   "source": [
    "result = []\n",
    "def save_result(info):\n",
    "    y_pred = info[0].predict_proba(X_test)[:, 1]\n",
    "    result.append({'model': str(type(info[0]['modelling'])).split('.')[-1][:-2],\n",
    "                   'cross_val_score': info[1],\n",
    "                   'feature_importances': getattr(info[0]['modelling'], 'feature_importances_', 0),\n",
    "                   'y_proba': y_pred})\n",
    "    return info[0]"
   ]
  },
  {
   "cell_type": "code",
   "execution_count": 50,
   "metadata": {
    "id": "ZDnfHg8DJbur"
   },
   "outputs": [],
   "source": [
    "grid_search = grid_search_CV_by_roc_auc(\n",
    "    preprocessing,\n",
    "    DecisionTreeClassifier(random_state=RANDOM_STATE, class_weight='balanced'),\n",
    "    {'criterion': ['gini', 'entropy', 'log_loss'],\n",
    "     'splitter': ['random', 'best'],\n",
    "     'max_depth': [None] + [i for i in range(5, 16)],\n",
    "     'min_samples_split': range(2, 11, 2),\n",
    "     'min_samples_leaf': range(1, 12, 2),\n",
    "     'max_features': ['sqrt', 'log2', None]},\n",
    "    4\n",
    ")"
   ]
  },
  {
   "cell_type": "code",
   "execution_count": 51,
   "metadata": {
    "colab": {
     "referenced_widgets": [
      "3b3763e6a89742b8b10e22f9b59b4753"
     ]
    },
    "id": "zjfbkBYYJbur",
    "outputId": "5a831336-65fa-4405-e1eb-f3fda4412e61"
   },
   "outputs": [
    {
     "data": {
      "application/vnd.jupyter.widget-view+json": {
       "model_id": "f943834f9e7e4c66990007c137ac646d",
       "version_major": 2,
       "version_minor": 0
      },
      "text/plain": [
       "Обработанные наборы гипер-параметров:   0%|          | 0/6480 [00:00<?, ?it/s]"
      ]
     },
     "metadata": {},
     "output_type": "display_data"
    },
    {
     "data": {
      "text/html": [
       "<style>#sk-container-id-1 {color: black;background-color: white;}#sk-container-id-1 pre{padding: 0;}#sk-container-id-1 div.sk-toggleable {background-color: white;}#sk-container-id-1 label.sk-toggleable__label {cursor: pointer;display: block;width: 100%;margin-bottom: 0;padding: 0.3em;box-sizing: border-box;text-align: center;}#sk-container-id-1 label.sk-toggleable__label-arrow:before {content: \"▸\";float: left;margin-right: 0.25em;color: #696969;}#sk-container-id-1 label.sk-toggleable__label-arrow:hover:before {color: black;}#sk-container-id-1 div.sk-estimator:hover label.sk-toggleable__label-arrow:before {color: black;}#sk-container-id-1 div.sk-toggleable__content {max-height: 0;max-width: 0;overflow: hidden;text-align: left;background-color: #f0f8ff;}#sk-container-id-1 div.sk-toggleable__content pre {margin: 0.2em;color: black;border-radius: 0.25em;background-color: #f0f8ff;}#sk-container-id-1 input.sk-toggleable__control:checked~div.sk-toggleable__content {max-height: 200px;max-width: 100%;overflow: auto;}#sk-container-id-1 input.sk-toggleable__control:checked~label.sk-toggleable__label-arrow:before {content: \"▾\";}#sk-container-id-1 div.sk-estimator input.sk-toggleable__control:checked~label.sk-toggleable__label {background-color: #d4ebff;}#sk-container-id-1 div.sk-label input.sk-toggleable__control:checked~label.sk-toggleable__label {background-color: #d4ebff;}#sk-container-id-1 input.sk-hidden--visually {border: 0;clip: rect(1px 1px 1px 1px);clip: rect(1px, 1px, 1px, 1px);height: 1px;margin: -1px;overflow: hidden;padding: 0;position: absolute;width: 1px;}#sk-container-id-1 div.sk-estimator {font-family: monospace;background-color: #f0f8ff;border: 1px dotted black;border-radius: 0.25em;box-sizing: border-box;margin-bottom: 0.5em;}#sk-container-id-1 div.sk-estimator:hover {background-color: #d4ebff;}#sk-container-id-1 div.sk-parallel-item::after {content: \"\";width: 100%;border-bottom: 1px solid gray;flex-grow: 1;}#sk-container-id-1 div.sk-label:hover label.sk-toggleable__label {background-color: #d4ebff;}#sk-container-id-1 div.sk-serial::before {content: \"\";position: absolute;border-left: 1px solid gray;box-sizing: border-box;top: 0;bottom: 0;left: 50%;z-index: 0;}#sk-container-id-1 div.sk-serial {display: flex;flex-direction: column;align-items: center;background-color: white;padding-right: 0.2em;padding-left: 0.2em;position: relative;}#sk-container-id-1 div.sk-item {position: relative;z-index: 1;}#sk-container-id-1 div.sk-parallel {display: flex;align-items: stretch;justify-content: center;background-color: white;position: relative;}#sk-container-id-1 div.sk-item::before, #sk-container-id-1 div.sk-parallel-item::before {content: \"\";position: absolute;border-left: 1px solid gray;box-sizing: border-box;top: 0;bottom: 0;left: 50%;z-index: -1;}#sk-container-id-1 div.sk-parallel-item {display: flex;flex-direction: column;z-index: 1;position: relative;background-color: white;}#sk-container-id-1 div.sk-parallel-item:first-child::after {align-self: flex-end;width: 50%;}#sk-container-id-1 div.sk-parallel-item:last-child::after {align-self: flex-start;width: 50%;}#sk-container-id-1 div.sk-parallel-item:only-child::after {width: 0;}#sk-container-id-1 div.sk-dashed-wrapped {border: 1px dashed gray;margin: 0 0.4em 0.5em 0.4em;box-sizing: border-box;padding-bottom: 0.4em;background-color: white;}#sk-container-id-1 div.sk-label label {font-family: monospace;font-weight: bold;display: inline-block;line-height: 1.2em;}#sk-container-id-1 div.sk-label-container {text-align: center;}#sk-container-id-1 div.sk-container {/* jupyter's `normalize.less` sets `[hidden] { display: none; }` but bootstrap.min.css set `[hidden] { display: none !important; }` so we also need the `!important` here to be able to override the default hidden behavior on the sphinx rendered scikit-learn.org. See: https://github.com/scikit-learn/scikit-learn/issues/21755 */display: inline-block !important;position: relative;}#sk-container-id-1 div.sk-text-repr-fallback {display: none;}</style><div id=\"sk-container-id-1\" class=\"sk-top-container\"><div class=\"sk-text-repr-fallback\"><pre>Pipeline(steps=[(&#x27;preprocessing&#x27;,\n",
       "                 Pipeline(steps=[(&#x27;unioning&#x27;,\n",
       "                                  FeatureUnion(transformer_list=[(&#x27;bin&#x27;,\n",
       "                                                                  Pipeline(steps=[(&#x27;bin_selector&#x27;,\n",
       "                                                                                   FunctionTransformer(func=&lt;function &lt;lambda&gt; at 0x000001700AD08A60&gt;))])),\n",
       "                                                                 (&#x27;cat&#x27;,\n",
       "                                                                  Pipeline(steps=[(&#x27;cat_selector&#x27;,\n",
       "                                                                                   FunctionTransformer(func=&lt;function &lt;lambda&gt; at 0x000001700AD08940&gt;)),\n",
       "                                                                                  (&#x27;ordinal_encoder&#x27;,\n",
       "                                                                                   OrdinalEncoder(dtype=&#x27;uint8&#x27;))])),\n",
       "                                                                 (&#x27;num&#x27;,\n",
       "                                                                  Pipeline(steps=[(&#x27;num_selector&#x27;,\n",
       "                                                                                   FunctionTransformer(func=&lt;function &lt;lambda&gt; at 0x000001700AD08AF0&gt;))]))])),\n",
       "                                 (&#x27;make_df&#x27;,\n",
       "                                  FunctionTransformer(func=&lt;function &lt;lambda&gt; at 0x000001700AD08B80&gt;))])),\n",
       "                (&#x27;modelling&#x27;,\n",
       "                 DecisionTreeClassifier(class_weight=&#x27;balanced&#x27;, max_depth=6,\n",
       "                                        min_samples_leaf=11,\n",
       "                                        min_samples_split=10,\n",
       "                                        random_state=30723))])</pre><b>In a Jupyter environment, please rerun this cell to show the HTML representation or trust the notebook. <br />On GitHub, the HTML representation is unable to render, please try loading this page with nbviewer.org.</b></div><div class=\"sk-container\" hidden><div class=\"sk-item sk-dashed-wrapped\"><div class=\"sk-label-container\"><div class=\"sk-label sk-toggleable\"><input class=\"sk-toggleable__control sk-hidden--visually\" id=\"sk-estimator-id-1\" type=\"checkbox\" ><label for=\"sk-estimator-id-1\" class=\"sk-toggleable__label sk-toggleable__label-arrow\">Pipeline</label><div class=\"sk-toggleable__content\"><pre>Pipeline(steps=[(&#x27;preprocessing&#x27;,\n",
       "                 Pipeline(steps=[(&#x27;unioning&#x27;,\n",
       "                                  FeatureUnion(transformer_list=[(&#x27;bin&#x27;,\n",
       "                                                                  Pipeline(steps=[(&#x27;bin_selector&#x27;,\n",
       "                                                                                   FunctionTransformer(func=&lt;function &lt;lambda&gt; at 0x000001700AD08A60&gt;))])),\n",
       "                                                                 (&#x27;cat&#x27;,\n",
       "                                                                  Pipeline(steps=[(&#x27;cat_selector&#x27;,\n",
       "                                                                                   FunctionTransformer(func=&lt;function &lt;lambda&gt; at 0x000001700AD08940&gt;)),\n",
       "                                                                                  (&#x27;ordinal_encoder&#x27;,\n",
       "                                                                                   OrdinalEncoder(dtype=&#x27;uint8&#x27;))])),\n",
       "                                                                 (&#x27;num&#x27;,\n",
       "                                                                  Pipeline(steps=[(&#x27;num_selector&#x27;,\n",
       "                                                                                   FunctionTransformer(func=&lt;function &lt;lambda&gt; at 0x000001700AD08AF0&gt;))]))])),\n",
       "                                 (&#x27;make_df&#x27;,\n",
       "                                  FunctionTransformer(func=&lt;function &lt;lambda&gt; at 0x000001700AD08B80&gt;))])),\n",
       "                (&#x27;modelling&#x27;,\n",
       "                 DecisionTreeClassifier(class_weight=&#x27;balanced&#x27;, max_depth=6,\n",
       "                                        min_samples_leaf=11,\n",
       "                                        min_samples_split=10,\n",
       "                                        random_state=30723))])</pre></div></div></div><div class=\"sk-serial\"><div class=\"sk-item\"><div class=\"sk-label-container\"><div class=\"sk-label sk-toggleable\"><input class=\"sk-toggleable__control sk-hidden--visually\" id=\"sk-estimator-id-2\" type=\"checkbox\" ><label for=\"sk-estimator-id-2\" class=\"sk-toggleable__label sk-toggleable__label-arrow\">preprocessing: Pipeline</label><div class=\"sk-toggleable__content\"><pre>Pipeline(steps=[(&#x27;unioning&#x27;,\n",
       "                 FeatureUnion(transformer_list=[(&#x27;bin&#x27;,\n",
       "                                                 Pipeline(steps=[(&#x27;bin_selector&#x27;,\n",
       "                                                                  FunctionTransformer(func=&lt;function &lt;lambda&gt; at 0x000001700AD08A60&gt;))])),\n",
       "                                                (&#x27;cat&#x27;,\n",
       "                                                 Pipeline(steps=[(&#x27;cat_selector&#x27;,\n",
       "                                                                  FunctionTransformer(func=&lt;function &lt;lambda&gt; at 0x000001700AD08940&gt;)),\n",
       "                                                                 (&#x27;ordinal_encoder&#x27;,\n",
       "                                                                  OrdinalEncoder(dtype=&#x27;uint8&#x27;))])),\n",
       "                                                (&#x27;num&#x27;,\n",
       "                                                 Pipeline(steps=[(&#x27;num_selector&#x27;,\n",
       "                                                                  FunctionTransformer(func=&lt;function &lt;lambda&gt; at 0x000001700AD08AF0&gt;))]))])),\n",
       "                (&#x27;make_df&#x27;,\n",
       "                 FunctionTransformer(func=&lt;function &lt;lambda&gt; at 0x000001700AD08B80&gt;))])</pre></div></div></div><div class=\"sk-serial\"><div class=\"sk-item sk-dashed-wrapped\"><div class=\"sk-label-container\"><div class=\"sk-label sk-toggleable\"><input class=\"sk-toggleable__control sk-hidden--visually\" id=\"sk-estimator-id-3\" type=\"checkbox\" ><label for=\"sk-estimator-id-3\" class=\"sk-toggleable__label sk-toggleable__label-arrow\">unioning: FeatureUnion</label><div class=\"sk-toggleable__content\"><pre>FeatureUnion(transformer_list=[(&#x27;bin&#x27;,\n",
       "                                Pipeline(steps=[(&#x27;bin_selector&#x27;,\n",
       "                                                 FunctionTransformer(func=&lt;function &lt;lambda&gt; at 0x000001700AD08A60&gt;))])),\n",
       "                               (&#x27;cat&#x27;,\n",
       "                                Pipeline(steps=[(&#x27;cat_selector&#x27;,\n",
       "                                                 FunctionTransformer(func=&lt;function &lt;lambda&gt; at 0x000001700AD08940&gt;)),\n",
       "                                                (&#x27;ordinal_encoder&#x27;,\n",
       "                                                 OrdinalEncoder(dtype=&#x27;uint8&#x27;))])),\n",
       "                               (&#x27;num&#x27;,\n",
       "                                Pipeline(steps=[(&#x27;num_selector&#x27;,\n",
       "                                                 FunctionTransformer(func=&lt;function &lt;lambda&gt; at 0x000001700AD08AF0&gt;))]))])</pre></div></div></div><div class=\"sk-parallel\"><div class=\"sk-parallel-item\"><div class=\"sk-item\"><div class=\"sk-label-container\"><div class=\"sk-label sk-toggleable\"><label>bin</label></div></div><div class=\"sk-serial\"><div class=\"sk-item\"><div class=\"sk-serial\"><div class=\"sk-item\"><div class=\"sk-estimator sk-toggleable\"><input class=\"sk-toggleable__control sk-hidden--visually\" id=\"sk-estimator-id-4\" type=\"checkbox\" ><label for=\"sk-estimator-id-4\" class=\"sk-toggleable__label sk-toggleable__label-arrow\">FunctionTransformer</label><div class=\"sk-toggleable__content\"><pre>FunctionTransformer(func=&lt;function &lt;lambda&gt; at 0x000001700AD08A60&gt;)</pre></div></div></div></div></div></div></div></div><div class=\"sk-parallel-item\"><div class=\"sk-item\"><div class=\"sk-label-container\"><div class=\"sk-label sk-toggleable\"><label>cat</label></div></div><div class=\"sk-serial\"><div class=\"sk-item\"><div class=\"sk-serial\"><div class=\"sk-item\"><div class=\"sk-estimator sk-toggleable\"><input class=\"sk-toggleable__control sk-hidden--visually\" id=\"sk-estimator-id-5\" type=\"checkbox\" ><label for=\"sk-estimator-id-5\" class=\"sk-toggleable__label sk-toggleable__label-arrow\">FunctionTransformer</label><div class=\"sk-toggleable__content\"><pre>FunctionTransformer(func=&lt;function &lt;lambda&gt; at 0x000001700AD08940&gt;)</pre></div></div></div><div class=\"sk-item\"><div class=\"sk-estimator sk-toggleable\"><input class=\"sk-toggleable__control sk-hidden--visually\" id=\"sk-estimator-id-6\" type=\"checkbox\" ><label for=\"sk-estimator-id-6\" class=\"sk-toggleable__label sk-toggleable__label-arrow\">OrdinalEncoder</label><div class=\"sk-toggleable__content\"><pre>OrdinalEncoder(dtype=&#x27;uint8&#x27;)</pre></div></div></div></div></div></div></div></div><div class=\"sk-parallel-item\"><div class=\"sk-item\"><div class=\"sk-label-container\"><div class=\"sk-label sk-toggleable\"><label>num</label></div></div><div class=\"sk-serial\"><div class=\"sk-item\"><div class=\"sk-serial\"><div class=\"sk-item\"><div class=\"sk-estimator sk-toggleable\"><input class=\"sk-toggleable__control sk-hidden--visually\" id=\"sk-estimator-id-7\" type=\"checkbox\" ><label for=\"sk-estimator-id-7\" class=\"sk-toggleable__label sk-toggleable__label-arrow\">FunctionTransformer</label><div class=\"sk-toggleable__content\"><pre>FunctionTransformer(func=&lt;function &lt;lambda&gt; at 0x000001700AD08AF0&gt;)</pre></div></div></div></div></div></div></div></div></div></div><div class=\"sk-item\"><div class=\"sk-estimator sk-toggleable\"><input class=\"sk-toggleable__control sk-hidden--visually\" id=\"sk-estimator-id-8\" type=\"checkbox\" ><label for=\"sk-estimator-id-8\" class=\"sk-toggleable__label sk-toggleable__label-arrow\">FunctionTransformer</label><div class=\"sk-toggleable__content\"><pre>FunctionTransformer(func=&lt;function &lt;lambda&gt; at 0x000001700AD08B80&gt;)</pre></div></div></div></div></div><div class=\"sk-item\"><div class=\"sk-estimator sk-toggleable\"><input class=\"sk-toggleable__control sk-hidden--visually\" id=\"sk-estimator-id-9\" type=\"checkbox\" ><label for=\"sk-estimator-id-9\" class=\"sk-toggleable__label sk-toggleable__label-arrow\">DecisionTreeClassifier</label><div class=\"sk-toggleable__content\"><pre>DecisionTreeClassifier(class_weight=&#x27;balanced&#x27;, max_depth=6,\n",
       "                       min_samples_leaf=11, min_samples_split=10,\n",
       "                       random_state=30723)</pre></div></div></div></div></div></div></div>"
      ],
      "text/plain": [
       "Pipeline(steps=[('preprocessing',\n",
       "                 Pipeline(steps=[('unioning',\n",
       "                                  FeatureUnion(transformer_list=[('bin',\n",
       "                                                                  Pipeline(steps=[('bin_selector',\n",
       "                                                                                   FunctionTransformer(func=<function <lambda> at 0x000001700AD08A60>))])),\n",
       "                                                                 ('cat',\n",
       "                                                                  Pipeline(steps=[('cat_selector',\n",
       "                                                                                   FunctionTransformer(func=<function <lambda> at 0x000001700AD08940>)),\n",
       "                                                                                  ('ordinal_encoder',\n",
       "                                                                                   OrdinalEncoder(dtype='uint8'))])),\n",
       "                                                                 ('num',\n",
       "                                                                  Pipeline(steps=[('num_selector',\n",
       "                                                                                   FunctionTransformer(func=<function <lambda> at 0x000001700AD08AF0>))]))])),\n",
       "                                 ('make_df',\n",
       "                                  FunctionTransformer(func=<function <lambda> at 0x000001700AD08B80>))])),\n",
       "                ('modelling',\n",
       "                 DecisionTreeClassifier(class_weight='balanced', max_depth=6,\n",
       "                                        min_samples_leaf=11,\n",
       "                                        min_samples_split=10,\n",
       "                                        random_state=30723))])"
      ]
     },
     "execution_count": 51,
     "metadata": {},
     "output_type": "execute_result"
    }
   ],
   "source": [
    "save_result(grid_search.fit(X_train, y_train))"
   ]
  },
  {
   "cell_type": "markdown",
   "metadata": {
    "id": "Ra65vbOcJbus"
   },
   "source": [
    "### RandomForestClassifier"
   ]
  },
  {
   "cell_type": "code",
   "execution_count": 52,
   "metadata": {
    "id": "7_g85Xe3Jbus"
   },
   "outputs": [],
   "source": [
    "grid_search = grid_search_CV_by_roc_auc(\n",
    "    preprocessing,\n",
    "    RandomForestClassifier(random_state=RANDOM_STATE, class_weight='balanced', n_jobs=-1),\n",
    "    {'criterion': ['gini', 'entropy', 'log_loss'],\n",
    "     'max_depth': [None] + [5, 15],\n",
    "     'min_samples_split': range(2, 11, 2),\n",
    "     'min_samples_leaf': range(1, 12, 2),\n",
    "     'max_features': ['sqrt', 'log2', None],\n",
    "     'n_estimators': [50, 150, 300]},\n",
    "    4\n",
    ")"
   ]
  },
  {
   "cell_type": "code",
   "execution_count": 53,
   "metadata": {
    "colab": {
     "referenced_widgets": [
      "fec8fe4fd3e74f2089a209ae59db75a2"
     ]
    },
    "id": "_LxXWyiJJbus",
    "outputId": "ae423daf-060d-4673-df32-5b38b8bad958"
   },
   "outputs": [
    {
     "data": {
      "application/vnd.jupyter.widget-view+json": {
       "model_id": "818d19079560467fb8ed204c2c6a13a2",
       "version_major": 2,
       "version_minor": 0
      },
      "text/plain": [
       "Обработанные наборы гипер-параметров:   0%|          | 0/2430 [00:00<?, ?it/s]"
      ]
     },
     "metadata": {},
     "output_type": "display_data"
    },
    {
     "data": {
      "text/html": [
       "<style>#sk-container-id-2 {color: black;background-color: white;}#sk-container-id-2 pre{padding: 0;}#sk-container-id-2 div.sk-toggleable {background-color: white;}#sk-container-id-2 label.sk-toggleable__label {cursor: pointer;display: block;width: 100%;margin-bottom: 0;padding: 0.3em;box-sizing: border-box;text-align: center;}#sk-container-id-2 label.sk-toggleable__label-arrow:before {content: \"▸\";float: left;margin-right: 0.25em;color: #696969;}#sk-container-id-2 label.sk-toggleable__label-arrow:hover:before {color: black;}#sk-container-id-2 div.sk-estimator:hover label.sk-toggleable__label-arrow:before {color: black;}#sk-container-id-2 div.sk-toggleable__content {max-height: 0;max-width: 0;overflow: hidden;text-align: left;background-color: #f0f8ff;}#sk-container-id-2 div.sk-toggleable__content pre {margin: 0.2em;color: black;border-radius: 0.25em;background-color: #f0f8ff;}#sk-container-id-2 input.sk-toggleable__control:checked~div.sk-toggleable__content {max-height: 200px;max-width: 100%;overflow: auto;}#sk-container-id-2 input.sk-toggleable__control:checked~label.sk-toggleable__label-arrow:before {content: \"▾\";}#sk-container-id-2 div.sk-estimator input.sk-toggleable__control:checked~label.sk-toggleable__label {background-color: #d4ebff;}#sk-container-id-2 div.sk-label input.sk-toggleable__control:checked~label.sk-toggleable__label {background-color: #d4ebff;}#sk-container-id-2 input.sk-hidden--visually {border: 0;clip: rect(1px 1px 1px 1px);clip: rect(1px, 1px, 1px, 1px);height: 1px;margin: -1px;overflow: hidden;padding: 0;position: absolute;width: 1px;}#sk-container-id-2 div.sk-estimator {font-family: monospace;background-color: #f0f8ff;border: 1px dotted black;border-radius: 0.25em;box-sizing: border-box;margin-bottom: 0.5em;}#sk-container-id-2 div.sk-estimator:hover {background-color: #d4ebff;}#sk-container-id-2 div.sk-parallel-item::after {content: \"\";width: 100%;border-bottom: 1px solid gray;flex-grow: 1;}#sk-container-id-2 div.sk-label:hover label.sk-toggleable__label {background-color: #d4ebff;}#sk-container-id-2 div.sk-serial::before {content: \"\";position: absolute;border-left: 1px solid gray;box-sizing: border-box;top: 0;bottom: 0;left: 50%;z-index: 0;}#sk-container-id-2 div.sk-serial {display: flex;flex-direction: column;align-items: center;background-color: white;padding-right: 0.2em;padding-left: 0.2em;position: relative;}#sk-container-id-2 div.sk-item {position: relative;z-index: 1;}#sk-container-id-2 div.sk-parallel {display: flex;align-items: stretch;justify-content: center;background-color: white;position: relative;}#sk-container-id-2 div.sk-item::before, #sk-container-id-2 div.sk-parallel-item::before {content: \"\";position: absolute;border-left: 1px solid gray;box-sizing: border-box;top: 0;bottom: 0;left: 50%;z-index: -1;}#sk-container-id-2 div.sk-parallel-item {display: flex;flex-direction: column;z-index: 1;position: relative;background-color: white;}#sk-container-id-2 div.sk-parallel-item:first-child::after {align-self: flex-end;width: 50%;}#sk-container-id-2 div.sk-parallel-item:last-child::after {align-self: flex-start;width: 50%;}#sk-container-id-2 div.sk-parallel-item:only-child::after {width: 0;}#sk-container-id-2 div.sk-dashed-wrapped {border: 1px dashed gray;margin: 0 0.4em 0.5em 0.4em;box-sizing: border-box;padding-bottom: 0.4em;background-color: white;}#sk-container-id-2 div.sk-label label {font-family: monospace;font-weight: bold;display: inline-block;line-height: 1.2em;}#sk-container-id-2 div.sk-label-container {text-align: center;}#sk-container-id-2 div.sk-container {/* jupyter's `normalize.less` sets `[hidden] { display: none; }` but bootstrap.min.css set `[hidden] { display: none !important; }` so we also need the `!important` here to be able to override the default hidden behavior on the sphinx rendered scikit-learn.org. See: https://github.com/scikit-learn/scikit-learn/issues/21755 */display: inline-block !important;position: relative;}#sk-container-id-2 div.sk-text-repr-fallback {display: none;}</style><div id=\"sk-container-id-2\" class=\"sk-top-container\"><div class=\"sk-text-repr-fallback\"><pre>Pipeline(steps=[(&#x27;preprocessing&#x27;,\n",
       "                 Pipeline(steps=[(&#x27;unioning&#x27;,\n",
       "                                  FeatureUnion(transformer_list=[(&#x27;bin&#x27;,\n",
       "                                                                  Pipeline(steps=[(&#x27;bin_selector&#x27;,\n",
       "                                                                                   FunctionTransformer(func=&lt;function &lt;lambda&gt; at 0x000001700AD08A60&gt;))])),\n",
       "                                                                 (&#x27;cat&#x27;,\n",
       "                                                                  Pipeline(steps=[(&#x27;cat_selector&#x27;,\n",
       "                                                                                   FunctionTransformer(func=&lt;function &lt;lambda&gt; at 0x000001700AD08940&gt;)),\n",
       "                                                                                  (&#x27;ordinal_encoder&#x27;,\n",
       "                                                                                   OrdinalEncoder(dtype=&#x27;uint...\n",
       "                                                                  Pipeline(steps=[(&#x27;num_selector&#x27;,\n",
       "                                                                                   FunctionTransformer(func=&lt;function &lt;lambda&gt; at 0x000001700AD08AF0&gt;))]))])),\n",
       "                                 (&#x27;make_df&#x27;,\n",
       "                                  FunctionTransformer(func=&lt;function &lt;lambda&gt; at 0x000001700AD08B80&gt;))])),\n",
       "                (&#x27;modelling&#x27;,\n",
       "                 RandomForestClassifier(class_weight=&#x27;balanced&#x27;,\n",
       "                                        criterion=&#x27;log_loss&#x27;, max_depth=15,\n",
       "                                        max_features=None, min_samples_split=10,\n",
       "                                        n_estimators=300, n_jobs=-1,\n",
       "                                        random_state=30723))])</pre><b>In a Jupyter environment, please rerun this cell to show the HTML representation or trust the notebook. <br />On GitHub, the HTML representation is unable to render, please try loading this page with nbviewer.org.</b></div><div class=\"sk-container\" hidden><div class=\"sk-item sk-dashed-wrapped\"><div class=\"sk-label-container\"><div class=\"sk-label sk-toggleable\"><input class=\"sk-toggleable__control sk-hidden--visually\" id=\"sk-estimator-id-10\" type=\"checkbox\" ><label for=\"sk-estimator-id-10\" class=\"sk-toggleable__label sk-toggleable__label-arrow\">Pipeline</label><div class=\"sk-toggleable__content\"><pre>Pipeline(steps=[(&#x27;preprocessing&#x27;,\n",
       "                 Pipeline(steps=[(&#x27;unioning&#x27;,\n",
       "                                  FeatureUnion(transformer_list=[(&#x27;bin&#x27;,\n",
       "                                                                  Pipeline(steps=[(&#x27;bin_selector&#x27;,\n",
       "                                                                                   FunctionTransformer(func=&lt;function &lt;lambda&gt; at 0x000001700AD08A60&gt;))])),\n",
       "                                                                 (&#x27;cat&#x27;,\n",
       "                                                                  Pipeline(steps=[(&#x27;cat_selector&#x27;,\n",
       "                                                                                   FunctionTransformer(func=&lt;function &lt;lambda&gt; at 0x000001700AD08940&gt;)),\n",
       "                                                                                  (&#x27;ordinal_encoder&#x27;,\n",
       "                                                                                   OrdinalEncoder(dtype=&#x27;uint...\n",
       "                                                                  Pipeline(steps=[(&#x27;num_selector&#x27;,\n",
       "                                                                                   FunctionTransformer(func=&lt;function &lt;lambda&gt; at 0x000001700AD08AF0&gt;))]))])),\n",
       "                                 (&#x27;make_df&#x27;,\n",
       "                                  FunctionTransformer(func=&lt;function &lt;lambda&gt; at 0x000001700AD08B80&gt;))])),\n",
       "                (&#x27;modelling&#x27;,\n",
       "                 RandomForestClassifier(class_weight=&#x27;balanced&#x27;,\n",
       "                                        criterion=&#x27;log_loss&#x27;, max_depth=15,\n",
       "                                        max_features=None, min_samples_split=10,\n",
       "                                        n_estimators=300, n_jobs=-1,\n",
       "                                        random_state=30723))])</pre></div></div></div><div class=\"sk-serial\"><div class=\"sk-item\"><div class=\"sk-label-container\"><div class=\"sk-label sk-toggleable\"><input class=\"sk-toggleable__control sk-hidden--visually\" id=\"sk-estimator-id-11\" type=\"checkbox\" ><label for=\"sk-estimator-id-11\" class=\"sk-toggleable__label sk-toggleable__label-arrow\">preprocessing: Pipeline</label><div class=\"sk-toggleable__content\"><pre>Pipeline(steps=[(&#x27;unioning&#x27;,\n",
       "                 FeatureUnion(transformer_list=[(&#x27;bin&#x27;,\n",
       "                                                 Pipeline(steps=[(&#x27;bin_selector&#x27;,\n",
       "                                                                  FunctionTransformer(func=&lt;function &lt;lambda&gt; at 0x000001700AD08A60&gt;))])),\n",
       "                                                (&#x27;cat&#x27;,\n",
       "                                                 Pipeline(steps=[(&#x27;cat_selector&#x27;,\n",
       "                                                                  FunctionTransformer(func=&lt;function &lt;lambda&gt; at 0x000001700AD08940&gt;)),\n",
       "                                                                 (&#x27;ordinal_encoder&#x27;,\n",
       "                                                                  OrdinalEncoder(dtype=&#x27;uint8&#x27;))])),\n",
       "                                                (&#x27;num&#x27;,\n",
       "                                                 Pipeline(steps=[(&#x27;num_selector&#x27;,\n",
       "                                                                  FunctionTransformer(func=&lt;function &lt;lambda&gt; at 0x000001700AD08AF0&gt;))]))])),\n",
       "                (&#x27;make_df&#x27;,\n",
       "                 FunctionTransformer(func=&lt;function &lt;lambda&gt; at 0x000001700AD08B80&gt;))])</pre></div></div></div><div class=\"sk-serial\"><div class=\"sk-item sk-dashed-wrapped\"><div class=\"sk-label-container\"><div class=\"sk-label sk-toggleable\"><input class=\"sk-toggleable__control sk-hidden--visually\" id=\"sk-estimator-id-12\" type=\"checkbox\" ><label for=\"sk-estimator-id-12\" class=\"sk-toggleable__label sk-toggleable__label-arrow\">unioning: FeatureUnion</label><div class=\"sk-toggleable__content\"><pre>FeatureUnion(transformer_list=[(&#x27;bin&#x27;,\n",
       "                                Pipeline(steps=[(&#x27;bin_selector&#x27;,\n",
       "                                                 FunctionTransformer(func=&lt;function &lt;lambda&gt; at 0x000001700AD08A60&gt;))])),\n",
       "                               (&#x27;cat&#x27;,\n",
       "                                Pipeline(steps=[(&#x27;cat_selector&#x27;,\n",
       "                                                 FunctionTransformer(func=&lt;function &lt;lambda&gt; at 0x000001700AD08940&gt;)),\n",
       "                                                (&#x27;ordinal_encoder&#x27;,\n",
       "                                                 OrdinalEncoder(dtype=&#x27;uint8&#x27;))])),\n",
       "                               (&#x27;num&#x27;,\n",
       "                                Pipeline(steps=[(&#x27;num_selector&#x27;,\n",
       "                                                 FunctionTransformer(func=&lt;function &lt;lambda&gt; at 0x000001700AD08AF0&gt;))]))])</pre></div></div></div><div class=\"sk-parallel\"><div class=\"sk-parallel-item\"><div class=\"sk-item\"><div class=\"sk-label-container\"><div class=\"sk-label sk-toggleable\"><label>bin</label></div></div><div class=\"sk-serial\"><div class=\"sk-item\"><div class=\"sk-serial\"><div class=\"sk-item\"><div class=\"sk-estimator sk-toggleable\"><input class=\"sk-toggleable__control sk-hidden--visually\" id=\"sk-estimator-id-13\" type=\"checkbox\" ><label for=\"sk-estimator-id-13\" class=\"sk-toggleable__label sk-toggleable__label-arrow\">FunctionTransformer</label><div class=\"sk-toggleable__content\"><pre>FunctionTransformer(func=&lt;function &lt;lambda&gt; at 0x000001700AD08A60&gt;)</pre></div></div></div></div></div></div></div></div><div class=\"sk-parallel-item\"><div class=\"sk-item\"><div class=\"sk-label-container\"><div class=\"sk-label sk-toggleable\"><label>cat</label></div></div><div class=\"sk-serial\"><div class=\"sk-item\"><div class=\"sk-serial\"><div class=\"sk-item\"><div class=\"sk-estimator sk-toggleable\"><input class=\"sk-toggleable__control sk-hidden--visually\" id=\"sk-estimator-id-14\" type=\"checkbox\" ><label for=\"sk-estimator-id-14\" class=\"sk-toggleable__label sk-toggleable__label-arrow\">FunctionTransformer</label><div class=\"sk-toggleable__content\"><pre>FunctionTransformer(func=&lt;function &lt;lambda&gt; at 0x000001700AD08940&gt;)</pre></div></div></div><div class=\"sk-item\"><div class=\"sk-estimator sk-toggleable\"><input class=\"sk-toggleable__control sk-hidden--visually\" id=\"sk-estimator-id-15\" type=\"checkbox\" ><label for=\"sk-estimator-id-15\" class=\"sk-toggleable__label sk-toggleable__label-arrow\">OrdinalEncoder</label><div class=\"sk-toggleable__content\"><pre>OrdinalEncoder(dtype=&#x27;uint8&#x27;)</pre></div></div></div></div></div></div></div></div><div class=\"sk-parallel-item\"><div class=\"sk-item\"><div class=\"sk-label-container\"><div class=\"sk-label sk-toggleable\"><label>num</label></div></div><div class=\"sk-serial\"><div class=\"sk-item\"><div class=\"sk-serial\"><div class=\"sk-item\"><div class=\"sk-estimator sk-toggleable\"><input class=\"sk-toggleable__control sk-hidden--visually\" id=\"sk-estimator-id-16\" type=\"checkbox\" ><label for=\"sk-estimator-id-16\" class=\"sk-toggleable__label sk-toggleable__label-arrow\">FunctionTransformer</label><div class=\"sk-toggleable__content\"><pre>FunctionTransformer(func=&lt;function &lt;lambda&gt; at 0x000001700AD08AF0&gt;)</pre></div></div></div></div></div></div></div></div></div></div><div class=\"sk-item\"><div class=\"sk-estimator sk-toggleable\"><input class=\"sk-toggleable__control sk-hidden--visually\" id=\"sk-estimator-id-17\" type=\"checkbox\" ><label for=\"sk-estimator-id-17\" class=\"sk-toggleable__label sk-toggleable__label-arrow\">FunctionTransformer</label><div class=\"sk-toggleable__content\"><pre>FunctionTransformer(func=&lt;function &lt;lambda&gt; at 0x000001700AD08B80&gt;)</pre></div></div></div></div></div><div class=\"sk-item\"><div class=\"sk-estimator sk-toggleable\"><input class=\"sk-toggleable__control sk-hidden--visually\" id=\"sk-estimator-id-18\" type=\"checkbox\" ><label for=\"sk-estimator-id-18\" class=\"sk-toggleable__label sk-toggleable__label-arrow\">RandomForestClassifier</label><div class=\"sk-toggleable__content\"><pre>RandomForestClassifier(class_weight=&#x27;balanced&#x27;, criterion=&#x27;log_loss&#x27;,\n",
       "                       max_depth=15, max_features=None, min_samples_split=10,\n",
       "                       n_estimators=300, n_jobs=-1, random_state=30723)</pre></div></div></div></div></div></div></div>"
      ],
      "text/plain": [
       "Pipeline(steps=[('preprocessing',\n",
       "                 Pipeline(steps=[('unioning',\n",
       "                                  FeatureUnion(transformer_list=[('bin',\n",
       "                                                                  Pipeline(steps=[('bin_selector',\n",
       "                                                                                   FunctionTransformer(func=<function <lambda> at 0x000001700AD08A60>))])),\n",
       "                                                                 ('cat',\n",
       "                                                                  Pipeline(steps=[('cat_selector',\n",
       "                                                                                   FunctionTransformer(func=<function <lambda> at 0x000001700AD08940>)),\n",
       "                                                                                  ('ordinal_encoder',\n",
       "                                                                                   OrdinalEncoder(dtype='uint...\n",
       "                                                                  Pipeline(steps=[('num_selector',\n",
       "                                                                                   FunctionTransformer(func=<function <lambda> at 0x000001700AD08AF0>))]))])),\n",
       "                                 ('make_df',\n",
       "                                  FunctionTransformer(func=<function <lambda> at 0x000001700AD08B80>))])),\n",
       "                ('modelling',\n",
       "                 RandomForestClassifier(class_weight='balanced',\n",
       "                                        criterion='log_loss', max_depth=15,\n",
       "                                        max_features=None, min_samples_split=10,\n",
       "                                        n_estimators=300, n_jobs=-1,\n",
       "                                        random_state=30723))])"
      ]
     },
     "execution_count": 53,
     "metadata": {},
     "output_type": "execute_result"
    }
   ],
   "source": [
    "save_result(grid_search.fit(X_train, y_train))"
   ]
  },
  {
   "cell_type": "markdown",
   "metadata": {
    "id": "gpVnTORcJbus"
   },
   "source": [
    "### LGBMClassifier"
   ]
  },
  {
   "cell_type": "markdown",
   "metadata": {},
   "source": [
    "В качестве функции потерь будем использовать focal loss, т.к. она отлично подходит при дисбалансе классов целевого признака."
   ]
  },
  {
   "cell_type": "code",
   "execution_count": 54,
   "metadata": {
    "id": "eUpffpIIJbus"
   },
   "outputs": [],
   "source": [
    "num_pipe.steps.append(('scalling', StandardScaler()))"
   ]
  },
  {
   "cell_type": "code",
   "execution_count": 55,
   "metadata": {
    "id": "APpsSgD3Jbus"
   },
   "outputs": [],
   "source": [
    "def focal_loss_lgb_sk(y_true, y_pred, alpha, gamma):\n",
    "    a,g = alpha, gamma\n",
    "    def fl(x,t):\n",
    "        p = 1/(1+np.exp(-x))\n",
    "        return -( a*t + (1-a)*(1-t) ) * (( 1 - ( t*p + (1-t)*(1-p)) )**g) * ( t*np.log(p)+(1-t)*np.log(1-p) )\n",
    "    partial_fl = lambda x: fl(x, y_true)\n",
    "    grad = derivative(partial_fl, y_pred, n=1, dx=1e-6)\n",
    "    hess = derivative(partial_fl, y_pred, n=2, dx=1e-6)\n",
    "    return grad, hess"
   ]
  },
  {
   "cell_type": "code",
   "execution_count": 56,
   "metadata": {
    "id": "BOPTctJgJbus"
   },
   "outputs": [],
   "source": [
    "class LGBMClassifier_skl:\n",
    "    def __init__(self, **init_params):\n",
    "        self.model = LGBMClassifier(**init_params)\n",
    "\n",
    "\n",
    "    def set_params(self, alpha, gamma, **kwargs):\n",
    "        self.model.set_params(objective=lambda x,y: focal_loss_lgb_sk(x, y, alpha, gamma), **kwargs)\n",
    "\n",
    "\n",
    "    def fit(self, X, y):\n",
    "        self.model.fit(X, y, categorical_feature=columns[:-len(num)])\n",
    "        self.feature_importances_ = self.model.feature_importances_\n",
    "\n",
    "    def predict_proba(self, X):\n",
    "        y_pred = self.model.predict(X)\n",
    "        y_pred = 1/(1+np.exp(-y_pred))\n",
    "        y_pred = y_pred.reshape(-1, 1)\n",
    "        return np.concatenate((np.zeros(y_pred.shape[0]).reshape(-1, 1), y_pred), axis=1)"
   ]
  },
  {
   "cell_type": "code",
   "execution_count": 58,
   "metadata": {
    "id": "MvVc6pFUJbut"
   },
   "outputs": [],
   "source": [
    "grid_search = grid_search_CV_by_roc_auc(\n",
    "    preprocessing,\n",
    "    LGBMClassifier_skl(random_state=RANDOM_STATE, class_weight='balanced', n_jobs=-1),\n",
    "    {'n_estimators': [50, 150, 300],\n",
    "     'num_leaves': [15, 31, 62],\n",
    "     'max_depth': [-1, 10, 20],\n",
    "     'min_child_samples': [10, 20, 30],\n",
    "     'learning_rate': [0.01, 0.1, 1],\n",
    "     'alpha': [0.05, 0.2, 0.5],\n",
    "     'gamma': [1, 3, 5]},\n",
    "    4\n",
    ")"
   ]
  },
  {
   "cell_type": "code",
   "execution_count": 59,
   "metadata": {
    "colab": {
     "base_uri": "https://localhost:8080/",
     "height": 1000,
     "referenced_widgets": [
      "1f707e6876204ee6aa2c10930a978bb7",
      "c4e3acf9a65a491a84a826500eb27f43",
      "a3a1cea949b34c67a8e4010b00cac89f",
      "bce0f9a6a1754f6f977baa971858e21c",
      "96cf1d55687b47a0a0e9b0a19bc5245e",
      "f052ab6993404c54a4f4ef3cbf5fad5a",
      "3f416abf86a84d618843957d00c4bab2",
      "dd5f389359bd4b31945c36d0c441403d",
      "d719fc57eb794cff940c7bda8e736973",
      "287df6a7f27e4fce92ac90c86c880370",
      "2198212e6dcc4a7bbc5ae145bd847cce"
     ]
    },
    "id": "R_sOkJADJbut",
    "outputId": "1788a4c1-735d-433d-eb7e-6364f6485e8d"
   },
   "outputs": [
    {
     "data": {
      "application/vnd.jupyter.widget-view+json": {
       "model_id": "8fd02d8fe4454ee4a2093e1344822272",
       "version_major": 2,
       "version_minor": 0
      },
      "text/plain": [
       "Обработанные наборы гипер-параметров:   0%|          | 0/2187 [00:00<?, ?it/s]"
      ]
     },
     "metadata": {},
     "output_type": "display_data"
    },
    {
     "data": {
      "text/html": [
       "<style>#sk-container-id-3 {color: black;background-color: white;}#sk-container-id-3 pre{padding: 0;}#sk-container-id-3 div.sk-toggleable {background-color: white;}#sk-container-id-3 label.sk-toggleable__label {cursor: pointer;display: block;width: 100%;margin-bottom: 0;padding: 0.3em;box-sizing: border-box;text-align: center;}#sk-container-id-3 label.sk-toggleable__label-arrow:before {content: \"▸\";float: left;margin-right: 0.25em;color: #696969;}#sk-container-id-3 label.sk-toggleable__label-arrow:hover:before {color: black;}#sk-container-id-3 div.sk-estimator:hover label.sk-toggleable__label-arrow:before {color: black;}#sk-container-id-3 div.sk-toggleable__content {max-height: 0;max-width: 0;overflow: hidden;text-align: left;background-color: #f0f8ff;}#sk-container-id-3 div.sk-toggleable__content pre {margin: 0.2em;color: black;border-radius: 0.25em;background-color: #f0f8ff;}#sk-container-id-3 input.sk-toggleable__control:checked~div.sk-toggleable__content {max-height: 200px;max-width: 100%;overflow: auto;}#sk-container-id-3 input.sk-toggleable__control:checked~label.sk-toggleable__label-arrow:before {content: \"▾\";}#sk-container-id-3 div.sk-estimator input.sk-toggleable__control:checked~label.sk-toggleable__label {background-color: #d4ebff;}#sk-container-id-3 div.sk-label input.sk-toggleable__control:checked~label.sk-toggleable__label {background-color: #d4ebff;}#sk-container-id-3 input.sk-hidden--visually {border: 0;clip: rect(1px 1px 1px 1px);clip: rect(1px, 1px, 1px, 1px);height: 1px;margin: -1px;overflow: hidden;padding: 0;position: absolute;width: 1px;}#sk-container-id-3 div.sk-estimator {font-family: monospace;background-color: #f0f8ff;border: 1px dotted black;border-radius: 0.25em;box-sizing: border-box;margin-bottom: 0.5em;}#sk-container-id-3 div.sk-estimator:hover {background-color: #d4ebff;}#sk-container-id-3 div.sk-parallel-item::after {content: \"\";width: 100%;border-bottom: 1px solid gray;flex-grow: 1;}#sk-container-id-3 div.sk-label:hover label.sk-toggleable__label {background-color: #d4ebff;}#sk-container-id-3 div.sk-serial::before {content: \"\";position: absolute;border-left: 1px solid gray;box-sizing: border-box;top: 0;bottom: 0;left: 50%;z-index: 0;}#sk-container-id-3 div.sk-serial {display: flex;flex-direction: column;align-items: center;background-color: white;padding-right: 0.2em;padding-left: 0.2em;position: relative;}#sk-container-id-3 div.sk-item {position: relative;z-index: 1;}#sk-container-id-3 div.sk-parallel {display: flex;align-items: stretch;justify-content: center;background-color: white;position: relative;}#sk-container-id-3 div.sk-item::before, #sk-container-id-3 div.sk-parallel-item::before {content: \"\";position: absolute;border-left: 1px solid gray;box-sizing: border-box;top: 0;bottom: 0;left: 50%;z-index: -1;}#sk-container-id-3 div.sk-parallel-item {display: flex;flex-direction: column;z-index: 1;position: relative;background-color: white;}#sk-container-id-3 div.sk-parallel-item:first-child::after {align-self: flex-end;width: 50%;}#sk-container-id-3 div.sk-parallel-item:last-child::after {align-self: flex-start;width: 50%;}#sk-container-id-3 div.sk-parallel-item:only-child::after {width: 0;}#sk-container-id-3 div.sk-dashed-wrapped {border: 1px dashed gray;margin: 0 0.4em 0.5em 0.4em;box-sizing: border-box;padding-bottom: 0.4em;background-color: white;}#sk-container-id-3 div.sk-label label {font-family: monospace;font-weight: bold;display: inline-block;line-height: 1.2em;}#sk-container-id-3 div.sk-label-container {text-align: center;}#sk-container-id-3 div.sk-container {/* jupyter's `normalize.less` sets `[hidden] { display: none; }` but bootstrap.min.css set `[hidden] { display: none !important; }` so we also need the `!important` here to be able to override the default hidden behavior on the sphinx rendered scikit-learn.org. See: https://github.com/scikit-learn/scikit-learn/issues/21755 */display: inline-block !important;position: relative;}#sk-container-id-3 div.sk-text-repr-fallback {display: none;}</style><div id=\"sk-container-id-3\" class=\"sk-top-container\"><div class=\"sk-text-repr-fallback\"><pre>Pipeline(steps=[(&#x27;preprocessing&#x27;,\n",
       "                 Pipeline(steps=[(&#x27;unioning&#x27;,\n",
       "                                  FeatureUnion(transformer_list=[(&#x27;bin&#x27;,\n",
       "                                                                  Pipeline(steps=[(&#x27;bin_selector&#x27;,\n",
       "                                                                                   FunctionTransformer(func=&lt;function &lt;lambda&gt; at 0x000001700AD08A60&gt;))])),\n",
       "                                                                 (&#x27;cat&#x27;,\n",
       "                                                                  Pipeline(steps=[(&#x27;cat_selector&#x27;,\n",
       "                                                                                   FunctionTransformer(func=&lt;function &lt;lambda&gt; at 0x000001700AD08940&gt;)),\n",
       "                                                                                  (&#x27;ordinal_encoder&#x27;,\n",
       "                                                                                   OrdinalEncoder(dtype=&#x27;uint8&#x27;))])),\n",
       "                                                                 (&#x27;num&#x27;,\n",
       "                                                                  Pipeline(steps=[(&#x27;num_selector&#x27;,\n",
       "                                                                                   FunctionTransformer(func=&lt;function &lt;lambda&gt; at 0x000001700AD08AF0&gt;)),\n",
       "                                                                                  (&#x27;scalling&#x27;,\n",
       "                                                                                   StandardScaler())]))])),\n",
       "                                 (&#x27;make_df&#x27;,\n",
       "                                  FunctionTransformer(func=&lt;function &lt;lambda&gt; at 0x000001700AD08B80&gt;))])),\n",
       "                (&#x27;modelling&#x27;,\n",
       "                 &lt;__main__.LGBMClassifier_skl object at 0x0000017009978CA0&gt;)])</pre><b>In a Jupyter environment, please rerun this cell to show the HTML representation or trust the notebook. <br />On GitHub, the HTML representation is unable to render, please try loading this page with nbviewer.org.</b></div><div class=\"sk-container\" hidden><div class=\"sk-item sk-dashed-wrapped\"><div class=\"sk-label-container\"><div class=\"sk-label sk-toggleable\"><input class=\"sk-toggleable__control sk-hidden--visually\" id=\"sk-estimator-id-19\" type=\"checkbox\" ><label for=\"sk-estimator-id-19\" class=\"sk-toggleable__label sk-toggleable__label-arrow\">Pipeline</label><div class=\"sk-toggleable__content\"><pre>Pipeline(steps=[(&#x27;preprocessing&#x27;,\n",
       "                 Pipeline(steps=[(&#x27;unioning&#x27;,\n",
       "                                  FeatureUnion(transformer_list=[(&#x27;bin&#x27;,\n",
       "                                                                  Pipeline(steps=[(&#x27;bin_selector&#x27;,\n",
       "                                                                                   FunctionTransformer(func=&lt;function &lt;lambda&gt; at 0x000001700AD08A60&gt;))])),\n",
       "                                                                 (&#x27;cat&#x27;,\n",
       "                                                                  Pipeline(steps=[(&#x27;cat_selector&#x27;,\n",
       "                                                                                   FunctionTransformer(func=&lt;function &lt;lambda&gt; at 0x000001700AD08940&gt;)),\n",
       "                                                                                  (&#x27;ordinal_encoder&#x27;,\n",
       "                                                                                   OrdinalEncoder(dtype=&#x27;uint8&#x27;))])),\n",
       "                                                                 (&#x27;num&#x27;,\n",
       "                                                                  Pipeline(steps=[(&#x27;num_selector&#x27;,\n",
       "                                                                                   FunctionTransformer(func=&lt;function &lt;lambda&gt; at 0x000001700AD08AF0&gt;)),\n",
       "                                                                                  (&#x27;scalling&#x27;,\n",
       "                                                                                   StandardScaler())]))])),\n",
       "                                 (&#x27;make_df&#x27;,\n",
       "                                  FunctionTransformer(func=&lt;function &lt;lambda&gt; at 0x000001700AD08B80&gt;))])),\n",
       "                (&#x27;modelling&#x27;,\n",
       "                 &lt;__main__.LGBMClassifier_skl object at 0x0000017009978CA0&gt;)])</pre></div></div></div><div class=\"sk-serial\"><div class=\"sk-item\"><div class=\"sk-label-container\"><div class=\"sk-label sk-toggleable\"><input class=\"sk-toggleable__control sk-hidden--visually\" id=\"sk-estimator-id-20\" type=\"checkbox\" ><label for=\"sk-estimator-id-20\" class=\"sk-toggleable__label sk-toggleable__label-arrow\">preprocessing: Pipeline</label><div class=\"sk-toggleable__content\"><pre>Pipeline(steps=[(&#x27;unioning&#x27;,\n",
       "                 FeatureUnion(transformer_list=[(&#x27;bin&#x27;,\n",
       "                                                 Pipeline(steps=[(&#x27;bin_selector&#x27;,\n",
       "                                                                  FunctionTransformer(func=&lt;function &lt;lambda&gt; at 0x000001700AD08A60&gt;))])),\n",
       "                                                (&#x27;cat&#x27;,\n",
       "                                                 Pipeline(steps=[(&#x27;cat_selector&#x27;,\n",
       "                                                                  FunctionTransformer(func=&lt;function &lt;lambda&gt; at 0x000001700AD08940&gt;)),\n",
       "                                                                 (&#x27;ordinal_encoder&#x27;,\n",
       "                                                                  OrdinalEncoder(dtype=&#x27;uint8&#x27;))])),\n",
       "                                                (&#x27;num&#x27;,\n",
       "                                                 Pipeline(steps=[(&#x27;num_selector&#x27;,\n",
       "                                                                  FunctionTransformer(func=&lt;function &lt;lambda&gt; at 0x000001700AD08AF0&gt;)),\n",
       "                                                                 (&#x27;scalling&#x27;,\n",
       "                                                                  StandardScaler())]))])),\n",
       "                (&#x27;make_df&#x27;,\n",
       "                 FunctionTransformer(func=&lt;function &lt;lambda&gt; at 0x000001700AD08B80&gt;))])</pre></div></div></div><div class=\"sk-serial\"><div class=\"sk-item sk-dashed-wrapped\"><div class=\"sk-label-container\"><div class=\"sk-label sk-toggleable\"><input class=\"sk-toggleable__control sk-hidden--visually\" id=\"sk-estimator-id-21\" type=\"checkbox\" ><label for=\"sk-estimator-id-21\" class=\"sk-toggleable__label sk-toggleable__label-arrow\">unioning: FeatureUnion</label><div class=\"sk-toggleable__content\"><pre>FeatureUnion(transformer_list=[(&#x27;bin&#x27;,\n",
       "                                Pipeline(steps=[(&#x27;bin_selector&#x27;,\n",
       "                                                 FunctionTransformer(func=&lt;function &lt;lambda&gt; at 0x000001700AD08A60&gt;))])),\n",
       "                               (&#x27;cat&#x27;,\n",
       "                                Pipeline(steps=[(&#x27;cat_selector&#x27;,\n",
       "                                                 FunctionTransformer(func=&lt;function &lt;lambda&gt; at 0x000001700AD08940&gt;)),\n",
       "                                                (&#x27;ordinal_encoder&#x27;,\n",
       "                                                 OrdinalEncoder(dtype=&#x27;uint8&#x27;))])),\n",
       "                               (&#x27;num&#x27;,\n",
       "                                Pipeline(steps=[(&#x27;num_selector&#x27;,\n",
       "                                                 FunctionTransformer(func=&lt;function &lt;lambda&gt; at 0x000001700AD08AF0&gt;)),\n",
       "                                                (&#x27;scalling&#x27;,\n",
       "                                                 StandardScaler())]))])</pre></div></div></div><div class=\"sk-parallel\"><div class=\"sk-parallel-item\"><div class=\"sk-item\"><div class=\"sk-label-container\"><div class=\"sk-label sk-toggleable\"><label>bin</label></div></div><div class=\"sk-serial\"><div class=\"sk-item\"><div class=\"sk-serial\"><div class=\"sk-item\"><div class=\"sk-estimator sk-toggleable\"><input class=\"sk-toggleable__control sk-hidden--visually\" id=\"sk-estimator-id-22\" type=\"checkbox\" ><label for=\"sk-estimator-id-22\" class=\"sk-toggleable__label sk-toggleable__label-arrow\">FunctionTransformer</label><div class=\"sk-toggleable__content\"><pre>FunctionTransformer(func=&lt;function &lt;lambda&gt; at 0x000001700AD08A60&gt;)</pre></div></div></div></div></div></div></div></div><div class=\"sk-parallel-item\"><div class=\"sk-item\"><div class=\"sk-label-container\"><div class=\"sk-label sk-toggleable\"><label>cat</label></div></div><div class=\"sk-serial\"><div class=\"sk-item\"><div class=\"sk-serial\"><div class=\"sk-item\"><div class=\"sk-estimator sk-toggleable\"><input class=\"sk-toggleable__control sk-hidden--visually\" id=\"sk-estimator-id-23\" type=\"checkbox\" ><label for=\"sk-estimator-id-23\" class=\"sk-toggleable__label sk-toggleable__label-arrow\">FunctionTransformer</label><div class=\"sk-toggleable__content\"><pre>FunctionTransformer(func=&lt;function &lt;lambda&gt; at 0x000001700AD08940&gt;)</pre></div></div></div><div class=\"sk-item\"><div class=\"sk-estimator sk-toggleable\"><input class=\"sk-toggleable__control sk-hidden--visually\" id=\"sk-estimator-id-24\" type=\"checkbox\" ><label for=\"sk-estimator-id-24\" class=\"sk-toggleable__label sk-toggleable__label-arrow\">OrdinalEncoder</label><div class=\"sk-toggleable__content\"><pre>OrdinalEncoder(dtype=&#x27;uint8&#x27;)</pre></div></div></div></div></div></div></div></div><div class=\"sk-parallel-item\"><div class=\"sk-item\"><div class=\"sk-label-container\"><div class=\"sk-label sk-toggleable\"><label>num</label></div></div><div class=\"sk-serial\"><div class=\"sk-item\"><div class=\"sk-serial\"><div class=\"sk-item\"><div class=\"sk-estimator sk-toggleable\"><input class=\"sk-toggleable__control sk-hidden--visually\" id=\"sk-estimator-id-25\" type=\"checkbox\" ><label for=\"sk-estimator-id-25\" class=\"sk-toggleable__label sk-toggleable__label-arrow\">FunctionTransformer</label><div class=\"sk-toggleable__content\"><pre>FunctionTransformer(func=&lt;function &lt;lambda&gt; at 0x000001700AD08AF0&gt;)</pre></div></div></div><div class=\"sk-item\"><div class=\"sk-estimator sk-toggleable\"><input class=\"sk-toggleable__control sk-hidden--visually\" id=\"sk-estimator-id-26\" type=\"checkbox\" ><label for=\"sk-estimator-id-26\" class=\"sk-toggleable__label sk-toggleable__label-arrow\">StandardScaler</label><div class=\"sk-toggleable__content\"><pre>StandardScaler()</pre></div></div></div></div></div></div></div></div></div></div><div class=\"sk-item\"><div class=\"sk-estimator sk-toggleable\"><input class=\"sk-toggleable__control sk-hidden--visually\" id=\"sk-estimator-id-27\" type=\"checkbox\" ><label for=\"sk-estimator-id-27\" class=\"sk-toggleable__label sk-toggleable__label-arrow\">FunctionTransformer</label><div class=\"sk-toggleable__content\"><pre>FunctionTransformer(func=&lt;function &lt;lambda&gt; at 0x000001700AD08B80&gt;)</pre></div></div></div></div></div><div class=\"sk-item\"><div class=\"sk-estimator sk-toggleable\"><input class=\"sk-toggleable__control sk-hidden--visually\" id=\"sk-estimator-id-28\" type=\"checkbox\" ><label for=\"sk-estimator-id-28\" class=\"sk-toggleable__label sk-toggleable__label-arrow\">LGBMClassifier_skl</label><div class=\"sk-toggleable__content\"><pre>&lt;__main__.LGBMClassifier_skl object at 0x0000017009978CA0&gt;</pre></div></div></div></div></div></div></div>"
      ],
      "text/plain": [
       "Pipeline(steps=[('preprocessing',\n",
       "                 Pipeline(steps=[('unioning',\n",
       "                                  FeatureUnion(transformer_list=[('bin',\n",
       "                                                                  Pipeline(steps=[('bin_selector',\n",
       "                                                                                   FunctionTransformer(func=<function <lambda> at 0x000001700AD08A60>))])),\n",
       "                                                                 ('cat',\n",
       "                                                                  Pipeline(steps=[('cat_selector',\n",
       "                                                                                   FunctionTransformer(func=<function <lambda> at 0x000001700AD08940>)),\n",
       "                                                                                  ('ordinal_encoder',\n",
       "                                                                                   OrdinalEncoder(dtype='uint8'))])),\n",
       "                                                                 ('num',\n",
       "                                                                  Pipeline(steps=[('num_selector',\n",
       "                                                                                   FunctionTransformer(func=<function <lambda> at 0x000001700AD08AF0>)),\n",
       "                                                                                  ('scalling',\n",
       "                                                                                   StandardScaler())]))])),\n",
       "                                 ('make_df',\n",
       "                                  FunctionTransformer(func=<function <lambda> at 0x000001700AD08B80>))])),\n",
       "                ('modelling',\n",
       "                 <__main__.LGBMClassifier_skl object at 0x0000017009978CA0>)])"
      ]
     },
     "execution_count": 59,
     "metadata": {},
     "output_type": "execute_result"
    }
   ],
   "source": [
    "save_result(grid_search.fit(X_train, y_train))"
   ]
  },
  {
   "cell_type": "markdown",
   "metadata": {
    "id": "1Kd-XhXaJbut"
   },
   "source": [
    "### LogisticRegression"
   ]
  },
  {
   "cell_type": "code",
   "execution_count": 60,
   "metadata": {
    "id": "cC9NMkv8Jbut"
   },
   "outputs": [],
   "source": [
    "cat_pipe.steps[1] = ('OHE', OneHotEncoder(drop='first', sparse=False))\n",
    "columns = binary + [column+f'_{i}' for column in cat for i in range(len(X_train[column].unique())-1)] + num"
   ]
  },
  {
   "cell_type": "code",
   "execution_count": 61,
   "metadata": {
    "id": "O6brqMrrJbut"
   },
   "outputs": [],
   "source": [
    "grid_search = grid_search_CV_by_roc_auc(\n",
    "    preprocessing,\n",
    "    LogisticRegression(random_state=RANDOM_STATE, class_weight='balanced', n_jobs=-1),\n",
    "    {'penalty': ['l2', None],\n",
    "     'tol': [1e-2, 1e-4, 1e-6],\n",
    "     'C': [0.1, 1, 10],\n",
    "     'max_iter': [100, 500, 1000]},\n",
    "    4\n",
    ")"
   ]
  },
  {
   "cell_type": "code",
   "execution_count": 62,
   "metadata": {
    "colab": {
     "referenced_widgets": [
      "4f73444b31694930b7440bd1de0b4b47"
     ]
    },
    "id": "ybGtiLE_Jbut",
    "outputId": "09135a76-7287-4fcb-b715-0c9c6038c7af"
   },
   "outputs": [
    {
     "data": {
      "application/vnd.jupyter.widget-view+json": {
       "model_id": "fa0d926295c54b3d8ea3ab84901e09d6",
       "version_major": 2,
       "version_minor": 0
      },
      "text/plain": [
       "Обработанные наборы гипер-параметров:   0%|          | 0/54 [00:00<?, ?it/s]"
      ]
     },
     "metadata": {},
     "output_type": "display_data"
    },
    {
     "data": {
      "text/html": [
       "<style>#sk-container-id-4 {color: black;background-color: white;}#sk-container-id-4 pre{padding: 0;}#sk-container-id-4 div.sk-toggleable {background-color: white;}#sk-container-id-4 label.sk-toggleable__label {cursor: pointer;display: block;width: 100%;margin-bottom: 0;padding: 0.3em;box-sizing: border-box;text-align: center;}#sk-container-id-4 label.sk-toggleable__label-arrow:before {content: \"▸\";float: left;margin-right: 0.25em;color: #696969;}#sk-container-id-4 label.sk-toggleable__label-arrow:hover:before {color: black;}#sk-container-id-4 div.sk-estimator:hover label.sk-toggleable__label-arrow:before {color: black;}#sk-container-id-4 div.sk-toggleable__content {max-height: 0;max-width: 0;overflow: hidden;text-align: left;background-color: #f0f8ff;}#sk-container-id-4 div.sk-toggleable__content pre {margin: 0.2em;color: black;border-radius: 0.25em;background-color: #f0f8ff;}#sk-container-id-4 input.sk-toggleable__control:checked~div.sk-toggleable__content {max-height: 200px;max-width: 100%;overflow: auto;}#sk-container-id-4 input.sk-toggleable__control:checked~label.sk-toggleable__label-arrow:before {content: \"▾\";}#sk-container-id-4 div.sk-estimator input.sk-toggleable__control:checked~label.sk-toggleable__label {background-color: #d4ebff;}#sk-container-id-4 div.sk-label input.sk-toggleable__control:checked~label.sk-toggleable__label {background-color: #d4ebff;}#sk-container-id-4 input.sk-hidden--visually {border: 0;clip: rect(1px 1px 1px 1px);clip: rect(1px, 1px, 1px, 1px);height: 1px;margin: -1px;overflow: hidden;padding: 0;position: absolute;width: 1px;}#sk-container-id-4 div.sk-estimator {font-family: monospace;background-color: #f0f8ff;border: 1px dotted black;border-radius: 0.25em;box-sizing: border-box;margin-bottom: 0.5em;}#sk-container-id-4 div.sk-estimator:hover {background-color: #d4ebff;}#sk-container-id-4 div.sk-parallel-item::after {content: \"\";width: 100%;border-bottom: 1px solid gray;flex-grow: 1;}#sk-container-id-4 div.sk-label:hover label.sk-toggleable__label {background-color: #d4ebff;}#sk-container-id-4 div.sk-serial::before {content: \"\";position: absolute;border-left: 1px solid gray;box-sizing: border-box;top: 0;bottom: 0;left: 50%;z-index: 0;}#sk-container-id-4 div.sk-serial {display: flex;flex-direction: column;align-items: center;background-color: white;padding-right: 0.2em;padding-left: 0.2em;position: relative;}#sk-container-id-4 div.sk-item {position: relative;z-index: 1;}#sk-container-id-4 div.sk-parallel {display: flex;align-items: stretch;justify-content: center;background-color: white;position: relative;}#sk-container-id-4 div.sk-item::before, #sk-container-id-4 div.sk-parallel-item::before {content: \"\";position: absolute;border-left: 1px solid gray;box-sizing: border-box;top: 0;bottom: 0;left: 50%;z-index: -1;}#sk-container-id-4 div.sk-parallel-item {display: flex;flex-direction: column;z-index: 1;position: relative;background-color: white;}#sk-container-id-4 div.sk-parallel-item:first-child::after {align-self: flex-end;width: 50%;}#sk-container-id-4 div.sk-parallel-item:last-child::after {align-self: flex-start;width: 50%;}#sk-container-id-4 div.sk-parallel-item:only-child::after {width: 0;}#sk-container-id-4 div.sk-dashed-wrapped {border: 1px dashed gray;margin: 0 0.4em 0.5em 0.4em;box-sizing: border-box;padding-bottom: 0.4em;background-color: white;}#sk-container-id-4 div.sk-label label {font-family: monospace;font-weight: bold;display: inline-block;line-height: 1.2em;}#sk-container-id-4 div.sk-label-container {text-align: center;}#sk-container-id-4 div.sk-container {/* jupyter's `normalize.less` sets `[hidden] { display: none; }` but bootstrap.min.css set `[hidden] { display: none !important; }` so we also need the `!important` here to be able to override the default hidden behavior on the sphinx rendered scikit-learn.org. See: https://github.com/scikit-learn/scikit-learn/issues/21755 */display: inline-block !important;position: relative;}#sk-container-id-4 div.sk-text-repr-fallback {display: none;}</style><div id=\"sk-container-id-4\" class=\"sk-top-container\"><div class=\"sk-text-repr-fallback\"><pre>Pipeline(steps=[(&#x27;preprocessing&#x27;,\n",
       "                 Pipeline(steps=[(&#x27;unioning&#x27;,\n",
       "                                  FeatureUnion(transformer_list=[(&#x27;bin&#x27;,\n",
       "                                                                  Pipeline(steps=[(&#x27;bin_selector&#x27;,\n",
       "                                                                                   FunctionTransformer(func=&lt;function &lt;lambda&gt; at 0x000001700AD08A60&gt;))])),\n",
       "                                                                 (&#x27;cat&#x27;,\n",
       "                                                                  Pipeline(steps=[(&#x27;cat_selector&#x27;,\n",
       "                                                                                   FunctionTransformer(func=&lt;function &lt;lambda&gt; at 0x000001700AD08940&gt;)),\n",
       "                                                                                  (&#x27;OHE&#x27;,\n",
       "                                                                                   OneHotEncoder(drop=&#x27;first&#x27;,\n",
       "                                                                                                 sparse=False,\n",
       "                                                                                                 sparse_output=False))])),\n",
       "                                                                 (&#x27;num&#x27;,\n",
       "                                                                  Pipeline(steps=[(&#x27;num_selector&#x27;,\n",
       "                                                                                   FunctionTransformer(func=&lt;function &lt;lambda&gt; at 0x000001700AD08AF0&gt;)),\n",
       "                                                                                  (&#x27;scalling&#x27;,\n",
       "                                                                                   StandardScaler())]))])),\n",
       "                                 (&#x27;make_df&#x27;,\n",
       "                                  FunctionTransformer(func=&lt;function &lt;lambda&gt; at 0x000001700AD08B80&gt;))])),\n",
       "                (&#x27;modelling&#x27;,\n",
       "                 LogisticRegression(C=1, class_weight=&#x27;balanced&#x27;, max_iter=1000,\n",
       "                                    n_jobs=-1, random_state=30723,\n",
       "                                    tol=1e-06))])</pre><b>In a Jupyter environment, please rerun this cell to show the HTML representation or trust the notebook. <br />On GitHub, the HTML representation is unable to render, please try loading this page with nbviewer.org.</b></div><div class=\"sk-container\" hidden><div class=\"sk-item sk-dashed-wrapped\"><div class=\"sk-label-container\"><div class=\"sk-label sk-toggleable\"><input class=\"sk-toggleable__control sk-hidden--visually\" id=\"sk-estimator-id-29\" type=\"checkbox\" ><label for=\"sk-estimator-id-29\" class=\"sk-toggleable__label sk-toggleable__label-arrow\">Pipeline</label><div class=\"sk-toggleable__content\"><pre>Pipeline(steps=[(&#x27;preprocessing&#x27;,\n",
       "                 Pipeline(steps=[(&#x27;unioning&#x27;,\n",
       "                                  FeatureUnion(transformer_list=[(&#x27;bin&#x27;,\n",
       "                                                                  Pipeline(steps=[(&#x27;bin_selector&#x27;,\n",
       "                                                                                   FunctionTransformer(func=&lt;function &lt;lambda&gt; at 0x000001700AD08A60&gt;))])),\n",
       "                                                                 (&#x27;cat&#x27;,\n",
       "                                                                  Pipeline(steps=[(&#x27;cat_selector&#x27;,\n",
       "                                                                                   FunctionTransformer(func=&lt;function &lt;lambda&gt; at 0x000001700AD08940&gt;)),\n",
       "                                                                                  (&#x27;OHE&#x27;,\n",
       "                                                                                   OneHotEncoder(drop=&#x27;first&#x27;,\n",
       "                                                                                                 sparse=False,\n",
       "                                                                                                 sparse_output=False))])),\n",
       "                                                                 (&#x27;num&#x27;,\n",
       "                                                                  Pipeline(steps=[(&#x27;num_selector&#x27;,\n",
       "                                                                                   FunctionTransformer(func=&lt;function &lt;lambda&gt; at 0x000001700AD08AF0&gt;)),\n",
       "                                                                                  (&#x27;scalling&#x27;,\n",
       "                                                                                   StandardScaler())]))])),\n",
       "                                 (&#x27;make_df&#x27;,\n",
       "                                  FunctionTransformer(func=&lt;function &lt;lambda&gt; at 0x000001700AD08B80&gt;))])),\n",
       "                (&#x27;modelling&#x27;,\n",
       "                 LogisticRegression(C=1, class_weight=&#x27;balanced&#x27;, max_iter=1000,\n",
       "                                    n_jobs=-1, random_state=30723,\n",
       "                                    tol=1e-06))])</pre></div></div></div><div class=\"sk-serial\"><div class=\"sk-item\"><div class=\"sk-label-container\"><div class=\"sk-label sk-toggleable\"><input class=\"sk-toggleable__control sk-hidden--visually\" id=\"sk-estimator-id-30\" type=\"checkbox\" ><label for=\"sk-estimator-id-30\" class=\"sk-toggleable__label sk-toggleable__label-arrow\">preprocessing: Pipeline</label><div class=\"sk-toggleable__content\"><pre>Pipeline(steps=[(&#x27;unioning&#x27;,\n",
       "                 FeatureUnion(transformer_list=[(&#x27;bin&#x27;,\n",
       "                                                 Pipeline(steps=[(&#x27;bin_selector&#x27;,\n",
       "                                                                  FunctionTransformer(func=&lt;function &lt;lambda&gt; at 0x000001700AD08A60&gt;))])),\n",
       "                                                (&#x27;cat&#x27;,\n",
       "                                                 Pipeline(steps=[(&#x27;cat_selector&#x27;,\n",
       "                                                                  FunctionTransformer(func=&lt;function &lt;lambda&gt; at 0x000001700AD08940&gt;)),\n",
       "                                                                 (&#x27;OHE&#x27;,\n",
       "                                                                  OneHotEncoder(drop=&#x27;first&#x27;,\n",
       "                                                                                sparse=False,\n",
       "                                                                                sparse_output=False))])),\n",
       "                                                (&#x27;num&#x27;,\n",
       "                                                 Pipeline(steps=[(&#x27;num_selector&#x27;,\n",
       "                                                                  FunctionTransformer(func=&lt;function &lt;lambda&gt; at 0x000001700AD08AF0&gt;)),\n",
       "                                                                 (&#x27;scalling&#x27;,\n",
       "                                                                  StandardScaler())]))])),\n",
       "                (&#x27;make_df&#x27;,\n",
       "                 FunctionTransformer(func=&lt;function &lt;lambda&gt; at 0x000001700AD08B80&gt;))])</pre></div></div></div><div class=\"sk-serial\"><div class=\"sk-item sk-dashed-wrapped\"><div class=\"sk-label-container\"><div class=\"sk-label sk-toggleable\"><input class=\"sk-toggleable__control sk-hidden--visually\" id=\"sk-estimator-id-31\" type=\"checkbox\" ><label for=\"sk-estimator-id-31\" class=\"sk-toggleable__label sk-toggleable__label-arrow\">unioning: FeatureUnion</label><div class=\"sk-toggleable__content\"><pre>FeatureUnion(transformer_list=[(&#x27;bin&#x27;,\n",
       "                                Pipeline(steps=[(&#x27;bin_selector&#x27;,\n",
       "                                                 FunctionTransformer(func=&lt;function &lt;lambda&gt; at 0x000001700AD08A60&gt;))])),\n",
       "                               (&#x27;cat&#x27;,\n",
       "                                Pipeline(steps=[(&#x27;cat_selector&#x27;,\n",
       "                                                 FunctionTransformer(func=&lt;function &lt;lambda&gt; at 0x000001700AD08940&gt;)),\n",
       "                                                (&#x27;OHE&#x27;,\n",
       "                                                 OneHotEncoder(drop=&#x27;first&#x27;,\n",
       "                                                               sparse=False,\n",
       "                                                               sparse_output=False))])),\n",
       "                               (&#x27;num&#x27;,\n",
       "                                Pipeline(steps=[(&#x27;num_selector&#x27;,\n",
       "                                                 FunctionTransformer(func=&lt;function &lt;lambda&gt; at 0x000001700AD08AF0&gt;)),\n",
       "                                                (&#x27;scalling&#x27;,\n",
       "                                                 StandardScaler())]))])</pre></div></div></div><div class=\"sk-parallel\"><div class=\"sk-parallel-item\"><div class=\"sk-item\"><div class=\"sk-label-container\"><div class=\"sk-label sk-toggleable\"><label>bin</label></div></div><div class=\"sk-serial\"><div class=\"sk-item\"><div class=\"sk-serial\"><div class=\"sk-item\"><div class=\"sk-estimator sk-toggleable\"><input class=\"sk-toggleable__control sk-hidden--visually\" id=\"sk-estimator-id-32\" type=\"checkbox\" ><label for=\"sk-estimator-id-32\" class=\"sk-toggleable__label sk-toggleable__label-arrow\">FunctionTransformer</label><div class=\"sk-toggleable__content\"><pre>FunctionTransformer(func=&lt;function &lt;lambda&gt; at 0x000001700AD08A60&gt;)</pre></div></div></div></div></div></div></div></div><div class=\"sk-parallel-item\"><div class=\"sk-item\"><div class=\"sk-label-container\"><div class=\"sk-label sk-toggleable\"><label>cat</label></div></div><div class=\"sk-serial\"><div class=\"sk-item\"><div class=\"sk-serial\"><div class=\"sk-item\"><div class=\"sk-estimator sk-toggleable\"><input class=\"sk-toggleable__control sk-hidden--visually\" id=\"sk-estimator-id-33\" type=\"checkbox\" ><label for=\"sk-estimator-id-33\" class=\"sk-toggleable__label sk-toggleable__label-arrow\">FunctionTransformer</label><div class=\"sk-toggleable__content\"><pre>FunctionTransformer(func=&lt;function &lt;lambda&gt; at 0x000001700AD08940&gt;)</pre></div></div></div><div class=\"sk-item\"><div class=\"sk-estimator sk-toggleable\"><input class=\"sk-toggleable__control sk-hidden--visually\" id=\"sk-estimator-id-34\" type=\"checkbox\" ><label for=\"sk-estimator-id-34\" class=\"sk-toggleable__label sk-toggleable__label-arrow\">OneHotEncoder</label><div class=\"sk-toggleable__content\"><pre>OneHotEncoder(drop=&#x27;first&#x27;, sparse=False, sparse_output=False)</pre></div></div></div></div></div></div></div></div><div class=\"sk-parallel-item\"><div class=\"sk-item\"><div class=\"sk-label-container\"><div class=\"sk-label sk-toggleable\"><label>num</label></div></div><div class=\"sk-serial\"><div class=\"sk-item\"><div class=\"sk-serial\"><div class=\"sk-item\"><div class=\"sk-estimator sk-toggleable\"><input class=\"sk-toggleable__control sk-hidden--visually\" id=\"sk-estimator-id-35\" type=\"checkbox\" ><label for=\"sk-estimator-id-35\" class=\"sk-toggleable__label sk-toggleable__label-arrow\">FunctionTransformer</label><div class=\"sk-toggleable__content\"><pre>FunctionTransformer(func=&lt;function &lt;lambda&gt; at 0x000001700AD08AF0&gt;)</pre></div></div></div><div class=\"sk-item\"><div class=\"sk-estimator sk-toggleable\"><input class=\"sk-toggleable__control sk-hidden--visually\" id=\"sk-estimator-id-36\" type=\"checkbox\" ><label for=\"sk-estimator-id-36\" class=\"sk-toggleable__label sk-toggleable__label-arrow\">StandardScaler</label><div class=\"sk-toggleable__content\"><pre>StandardScaler()</pre></div></div></div></div></div></div></div></div></div></div><div class=\"sk-item\"><div class=\"sk-estimator sk-toggleable\"><input class=\"sk-toggleable__control sk-hidden--visually\" id=\"sk-estimator-id-37\" type=\"checkbox\" ><label for=\"sk-estimator-id-37\" class=\"sk-toggleable__label sk-toggleable__label-arrow\">FunctionTransformer</label><div class=\"sk-toggleable__content\"><pre>FunctionTransformer(func=&lt;function &lt;lambda&gt; at 0x000001700AD08B80&gt;)</pre></div></div></div></div></div><div class=\"sk-item\"><div class=\"sk-estimator sk-toggleable\"><input class=\"sk-toggleable__control sk-hidden--visually\" id=\"sk-estimator-id-38\" type=\"checkbox\" ><label for=\"sk-estimator-id-38\" class=\"sk-toggleable__label sk-toggleable__label-arrow\">LogisticRegression</label><div class=\"sk-toggleable__content\"><pre>LogisticRegression(C=1, class_weight=&#x27;balanced&#x27;, max_iter=1000, n_jobs=-1,\n",
       "                   random_state=30723, tol=1e-06)</pre></div></div></div></div></div></div></div>"
      ],
      "text/plain": [
       "Pipeline(steps=[('preprocessing',\n",
       "                 Pipeline(steps=[('unioning',\n",
       "                                  FeatureUnion(transformer_list=[('bin',\n",
       "                                                                  Pipeline(steps=[('bin_selector',\n",
       "                                                                                   FunctionTransformer(func=<function <lambda> at 0x000001700AD08A60>))])),\n",
       "                                                                 ('cat',\n",
       "                                                                  Pipeline(steps=[('cat_selector',\n",
       "                                                                                   FunctionTransformer(func=<function <lambda> at 0x000001700AD08940>)),\n",
       "                                                                                  ('OHE',\n",
       "                                                                                   OneHotEncoder(drop='first',\n",
       "                                                                                                 sparse=False,\n",
       "                                                                                                 sparse_output=False))])),\n",
       "                                                                 ('num',\n",
       "                                                                  Pipeline(steps=[('num_selector',\n",
       "                                                                                   FunctionTransformer(func=<function <lambda> at 0x000001700AD08AF0>)),\n",
       "                                                                                  ('scalling',\n",
       "                                                                                   StandardScaler())]))])),\n",
       "                                 ('make_df',\n",
       "                                  FunctionTransformer(func=<function <lambda> at 0x000001700AD08B80>))])),\n",
       "                ('modelling',\n",
       "                 LogisticRegression(C=1, class_weight='balanced', max_iter=1000,\n",
       "                                    n_jobs=-1, random_state=30723,\n",
       "                                    tol=1e-06))])"
      ]
     },
     "execution_count": 62,
     "metadata": {},
     "output_type": "execute_result"
    }
   ],
   "source": [
    "save_result(grid_search.fit(X_train, y_train))"
   ]
  },
  {
   "cell_type": "markdown",
   "metadata": {
    "id": "Xux2zn6xJbut"
   },
   "source": [
    "### Нейросеть"
   ]
  },
  {
   "cell_type": "markdown",
   "metadata": {},
   "source": [
    "Тут тоже в качестве функции потерь будем использовать focal loss."
   ]
  },
  {
   "cell_type": "markdown",
   "metadata": {},
   "source": [
    "Отключим предупреждения tensorflow:"
   ]
  },
  {
   "cell_type": "code",
   "execution_count": 68,
   "metadata": {},
   "outputs": [],
   "source": [
    "tf.compat.v1.logging.set_verbosity(tf.compat.v1.logging.ERROR)"
   ]
  },
  {
   "cell_type": "code",
   "execution_count": 69,
   "metadata": {},
   "outputs": [],
   "source": [
    "class Neuronet:\n",
    "    def __init__(self):\n",
    "        self.model = tf.keras.models.Sequential()\n",
    "        self.model.add(tf.keras.layers.Dense(units=64, input_dim=len(columns), activation='relu'))\n",
    "        self.model.add(tf.keras.layers.Dense(units=32, activation='relu'))\n",
    "        self.model.add(tf.keras.layers.Dense(units=2, activation='softmax'))\n",
    "        \n",
    "    def focal_loss_custom(self, alpha, gamma):\n",
    "        def binary_focal_loss(y_true, y_pred):\n",
    "            fln = tfa.losses.SigmoidFocalCrossEntropy(alpha=alpha, gamma=gamma)\n",
    "            y_true_K = tf.ones_like(y_true)\n",
    "            focal_loss = fln(y_true, y_pred)\n",
    "            return focal_loss\n",
    "        return binary_focal_loss\n",
    "    \n",
    "    def set_params(self, learning_rate, alpha, gamma, epochs):\n",
    "        self.model.compile(optimizer=tf.keras.optimizers.Adam(learning_rate=learning_rate), loss=self.focal_loss_custom(alpha, gamma))\n",
    "        self.epochs = epochs\n",
    "        \n",
    "        \n",
    "    def fit(self, X, y):\n",
    "        X = X.to_numpy(dtype=np.float64)\n",
    "        y = tf.keras.utils.to_categorical(y.to_numpy(dtype=np.float64), num_classes=2, dtype='float32')\n",
    "        self.model.fit(X, y, epochs=self.epochs, batch_size=128, verbose=0)\n",
    "    \n",
    "    def predict_proba(self, X):\n",
    "        return self.model.predict(X)"
   ]
  },
  {
   "cell_type": "code",
   "execution_count": 70,
   "metadata": {},
   "outputs": [],
   "source": [
    "grid_search = grid_search_CV_by_roc_auc(\n",
    "    preprocessing,\n",
    "    Neuronet(),\n",
    "    {'learning_rate': [1, 0.1, 0.01],\n",
    "     'epochs': [5, 10, 15],\n",
    "     'alpha': [0.2, 0.5, 0.05],\n",
    "     'gamma': [2, 5, 7]},\n",
    "    4\n",
    ")"
   ]
  },
  {
   "cell_type": "code",
   "execution_count": 71,
   "metadata": {},
   "outputs": [
    {
     "data": {
      "text/html": [
       "<style>#sk-container-id-5 {color: black;background-color: white;}#sk-container-id-5 pre{padding: 0;}#sk-container-id-5 div.sk-toggleable {background-color: white;}#sk-container-id-5 label.sk-toggleable__label {cursor: pointer;display: block;width: 100%;margin-bottom: 0;padding: 0.3em;box-sizing: border-box;text-align: center;}#sk-container-id-5 label.sk-toggleable__label-arrow:before {content: \"▸\";float: left;margin-right: 0.25em;color: #696969;}#sk-container-id-5 label.sk-toggleable__label-arrow:hover:before {color: black;}#sk-container-id-5 div.sk-estimator:hover label.sk-toggleable__label-arrow:before {color: black;}#sk-container-id-5 div.sk-toggleable__content {max-height: 0;max-width: 0;overflow: hidden;text-align: left;background-color: #f0f8ff;}#sk-container-id-5 div.sk-toggleable__content pre {margin: 0.2em;color: black;border-radius: 0.25em;background-color: #f0f8ff;}#sk-container-id-5 input.sk-toggleable__control:checked~div.sk-toggleable__content {max-height: 200px;max-width: 100%;overflow: auto;}#sk-container-id-5 input.sk-toggleable__control:checked~label.sk-toggleable__label-arrow:before {content: \"▾\";}#sk-container-id-5 div.sk-estimator input.sk-toggleable__control:checked~label.sk-toggleable__label {background-color: #d4ebff;}#sk-container-id-5 div.sk-label input.sk-toggleable__control:checked~label.sk-toggleable__label {background-color: #d4ebff;}#sk-container-id-5 input.sk-hidden--visually {border: 0;clip: rect(1px 1px 1px 1px);clip: rect(1px, 1px, 1px, 1px);height: 1px;margin: -1px;overflow: hidden;padding: 0;position: absolute;width: 1px;}#sk-container-id-5 div.sk-estimator {font-family: monospace;background-color: #f0f8ff;border: 1px dotted black;border-radius: 0.25em;box-sizing: border-box;margin-bottom: 0.5em;}#sk-container-id-5 div.sk-estimator:hover {background-color: #d4ebff;}#sk-container-id-5 div.sk-parallel-item::after {content: \"\";width: 100%;border-bottom: 1px solid gray;flex-grow: 1;}#sk-container-id-5 div.sk-label:hover label.sk-toggleable__label {background-color: #d4ebff;}#sk-container-id-5 div.sk-serial::before {content: \"\";position: absolute;border-left: 1px solid gray;box-sizing: border-box;top: 0;bottom: 0;left: 50%;z-index: 0;}#sk-container-id-5 div.sk-serial {display: flex;flex-direction: column;align-items: center;background-color: white;padding-right: 0.2em;padding-left: 0.2em;position: relative;}#sk-container-id-5 div.sk-item {position: relative;z-index: 1;}#sk-container-id-5 div.sk-parallel {display: flex;align-items: stretch;justify-content: center;background-color: white;position: relative;}#sk-container-id-5 div.sk-item::before, #sk-container-id-5 div.sk-parallel-item::before {content: \"\";position: absolute;border-left: 1px solid gray;box-sizing: border-box;top: 0;bottom: 0;left: 50%;z-index: -1;}#sk-container-id-5 div.sk-parallel-item {display: flex;flex-direction: column;z-index: 1;position: relative;background-color: white;}#sk-container-id-5 div.sk-parallel-item:first-child::after {align-self: flex-end;width: 50%;}#sk-container-id-5 div.sk-parallel-item:last-child::after {align-self: flex-start;width: 50%;}#sk-container-id-5 div.sk-parallel-item:only-child::after {width: 0;}#sk-container-id-5 div.sk-dashed-wrapped {border: 1px dashed gray;margin: 0 0.4em 0.5em 0.4em;box-sizing: border-box;padding-bottom: 0.4em;background-color: white;}#sk-container-id-5 div.sk-label label {font-family: monospace;font-weight: bold;display: inline-block;line-height: 1.2em;}#sk-container-id-5 div.sk-label-container {text-align: center;}#sk-container-id-5 div.sk-container {/* jupyter's `normalize.less` sets `[hidden] { display: none; }` but bootstrap.min.css set `[hidden] { display: none !important; }` so we also need the `!important` here to be able to override the default hidden behavior on the sphinx rendered scikit-learn.org. See: https://github.com/scikit-learn/scikit-learn/issues/21755 */display: inline-block !important;position: relative;}#sk-container-id-5 div.sk-text-repr-fallback {display: none;}</style><div id=\"sk-container-id-5\" class=\"sk-top-container\"><div class=\"sk-text-repr-fallback\"><pre>Pipeline(steps=[(&#x27;preprocessing&#x27;,\n",
       "                 Pipeline(steps=[(&#x27;unioning&#x27;,\n",
       "                                  FeatureUnion(transformer_list=[(&#x27;bin&#x27;,\n",
       "                                                                  Pipeline(steps=[(&#x27;bin_selector&#x27;,\n",
       "                                                                                   FunctionTransformer(func=&lt;function &lt;lambda&gt; at 0x000001700AD08A60&gt;))])),\n",
       "                                                                 (&#x27;cat&#x27;,\n",
       "                                                                  Pipeline(steps=[(&#x27;cat_selector&#x27;,\n",
       "                                                                                   FunctionTransformer(func=&lt;function &lt;lambda&gt; at 0x000001700AD08940&gt;)),\n",
       "                                                                                  (&#x27;OHE&#x27;,\n",
       "                                                                                   OneHotEncoder(drop=&#x27;first&#x27;,\n",
       "                                                                                                 sparse=False,\n",
       "                                                                                                 sparse_output=False))])),\n",
       "                                                                 (&#x27;num&#x27;,\n",
       "                                                                  Pipeline(steps=[(&#x27;num_selector&#x27;,\n",
       "                                                                                   FunctionTransformer(func=&lt;function &lt;lambda&gt; at 0x000001700AD08AF0&gt;)),\n",
       "                                                                                  (&#x27;scalling&#x27;,\n",
       "                                                                                   StandardScaler())]))])),\n",
       "                                 (&#x27;make_df&#x27;,\n",
       "                                  FunctionTransformer(func=&lt;function &lt;lambda&gt; at 0x000001700AD08B80&gt;))]),\n",
       "                 &#x27;modelling&#x27;,\n",
       "                 &lt;__main__.Neuronet object at 0x000001700ADCA220&gt;)])</pre><b>In a Jupyter environment, please rerun this cell to show the HTML representation or trust the notebook. <br />On GitHub, the HTML representation is unable to render, please try loading this page with nbviewer.org.</b></div><div class=\"sk-container\" hidden><div class=\"sk-item\"><div class=\"sk-estimator sk-toggleable\"><input class=\"sk-toggleable__control sk-hidden--visually\" id=\"sk-estimator-id-39\" type=\"checkbox\" checked><label for=\"sk-estimator-id-39\" class=\"sk-toggleable__label sk-toggleable__label-arrow\">Pipeline</label><div class=\"sk-toggleable__content\"><pre>Pipeline(steps=[(&#x27;preprocessing&#x27;,\n",
       "                 Pipeline(steps=[(&#x27;unioning&#x27;,\n",
       "                                  FeatureUnion(transformer_list=[(&#x27;bin&#x27;,\n",
       "                                                                  Pipeline(steps=[(&#x27;bin_selector&#x27;,\n",
       "                                                                                   FunctionTransformer(func=&lt;function &lt;lambda&gt; at 0x000001700AD08A60&gt;))])),\n",
       "                                                                 (&#x27;cat&#x27;,\n",
       "                                                                  Pipeline(steps=[(&#x27;cat_selector&#x27;,\n",
       "                                                                                   FunctionTransformer(func=&lt;function &lt;lambda&gt; at 0x000001700AD08940&gt;)),\n",
       "                                                                                  (&#x27;OHE&#x27;,\n",
       "                                                                                   OneHotEncoder(drop=&#x27;first&#x27;,\n",
       "                                                                                                 sparse=False,\n",
       "                                                                                                 sparse_output=False))])),\n",
       "                                                                 (&#x27;num&#x27;,\n",
       "                                                                  Pipeline(steps=[(&#x27;num_selector&#x27;,\n",
       "                                                                                   FunctionTransformer(func=&lt;function &lt;lambda&gt; at 0x000001700AD08AF0&gt;)),\n",
       "                                                                                  (&#x27;scalling&#x27;,\n",
       "                                                                                   StandardScaler())]))])),\n",
       "                                 (&#x27;make_df&#x27;,\n",
       "                                  FunctionTransformer(func=&lt;function &lt;lambda&gt; at 0x000001700AD08B80&gt;))]),\n",
       "                 &#x27;modelling&#x27;,\n",
       "                 &lt;__main__.Neuronet object at 0x000001700ADCA220&gt;)])</pre></div></div></div></div></div>"
      ],
      "text/plain": [
       "Pipeline(steps=[('preprocessing',\n",
       "                 Pipeline(steps=[('unioning',\n",
       "                                  FeatureUnion(transformer_list=[('bin',\n",
       "                                                                  Pipeline(steps=[('bin_selector',\n",
       "                                                                                   FunctionTransformer(func=<function <lambda> at 0x000001700AD08A60>))])),\n",
       "                                                                 ('cat',\n",
       "                                                                  Pipeline(steps=[('cat_selector',\n",
       "                                                                                   FunctionTransformer(func=<function <lambda> at 0x000001700AD08940>)),\n",
       "                                                                                  ('OHE',\n",
       "                                                                                   OneHotEncoder(drop='first',\n",
       "                                                                                                 sparse=False,\n",
       "                                                                                                 sparse_output=False))])),\n",
       "                                                                 ('num',\n",
       "                                                                  Pipeline(steps=[('num_selector',\n",
       "                                                                                   FunctionTransformer(func=<function <lambda> at 0x000001700AD08AF0>)),\n",
       "                                                                                  ('scalling',\n",
       "                                                                                   StandardScaler())]))])),\n",
       "                                 ('make_df',\n",
       "                                  FunctionTransformer(func=<function <lambda> at 0x000001700AD08B80>))]),\n",
       "                 'modelling',\n",
       "                 <__main__.Neuronet object at 0x000001700ADCA220>)])"
      ]
     },
     "execution_count": 71,
     "metadata": {},
     "output_type": "execute_result"
    }
   ],
   "source": [
    "save_result(grid_search.fit(X_train, y_train))"
   ]
  },
  {
   "cell_type": "markdown",
   "metadata": {},
   "source": [
    "### Выбор лучшей модели"
   ]
  },
  {
   "cell_type": "code",
   "execution_count": 72,
   "metadata": {},
   "outputs": [
    {
     "data": {
      "text/html": [
       "<div>\n",
       "<style scoped>\n",
       "    .dataframe tbody tr th:only-of-type {\n",
       "        vertical-align: middle;\n",
       "    }\n",
       "\n",
       "    .dataframe tbody tr th {\n",
       "        vertical-align: top;\n",
       "    }\n",
       "\n",
       "    .dataframe thead th {\n",
       "        text-align: right;\n",
       "    }\n",
       "</style>\n",
       "<table border=\"1\" class=\"dataframe\">\n",
       "  <thead>\n",
       "    <tr style=\"text-align: right;\">\n",
       "      <th></th>\n",
       "      <th>model</th>\n",
       "      <th>cross_val_score</th>\n",
       "    </tr>\n",
       "  </thead>\n",
       "  <tbody>\n",
       "    <tr>\n",
       "      <th>2</th>\n",
       "      <td>LGBMClassifier_skl</td>\n",
       "      <td>0.899697</td>\n",
       "    </tr>\n",
       "    <tr>\n",
       "      <th>4</th>\n",
       "      <td>Neuronet</td>\n",
       "      <td>0.871234</td>\n",
       "    </tr>\n",
       "    <tr>\n",
       "      <th>1</th>\n",
       "      <td>RandomForestClassifier</td>\n",
       "      <td>0.834264</td>\n",
       "    </tr>\n",
       "    <tr>\n",
       "      <th>0</th>\n",
       "      <td>DecisionTreeClassifier</td>\n",
       "      <td>0.807612</td>\n",
       "    </tr>\n",
       "    <tr>\n",
       "      <th>3</th>\n",
       "      <td>LogisticRegression</td>\n",
       "      <td>0.756853</td>\n",
       "    </tr>\n",
       "  </tbody>\n",
       "</table>\n",
       "</div>"
      ],
      "text/plain": [
       "                    model  cross_val_score\n",
       "2      LGBMClassifier_skl         0.899697\n",
       "4                Neuronet         0.871234\n",
       "1  RandomForestClassifier         0.834264\n",
       "0  DecisionTreeClassifier         0.807612\n",
       "3      LogisticRegression         0.756853"
      ]
     },
     "execution_count": 72,
     "metadata": {},
     "output_type": "execute_result"
    }
   ],
   "source": [
    "pd.DataFrame(result).drop(['feature_importances', 'y_proba'], axis=1).sort_values(by='cross_val_score', ascending=False)"
   ]
  },
  {
   "cell_type": "markdown",
   "metadata": {},
   "source": [
    "Выберем лучшей моделью LGBMClassifier, за хорошее значение метрики roc-auc на кросс-валидации и высокую скорость обучения. "
   ]
  },
  {
   "cell_type": "markdown",
   "metadata": {},
   "source": [
    "Протестируем лучшую модель на тестовой выборке:"
   ]
  },
  {
   "cell_type": "code",
   "execution_count": 73,
   "metadata": {},
   "outputs": [
    {
     "data": {
      "text/plain": [
       "0.9129614417948875"
      ]
     },
     "execution_count": 73,
     "metadata": {},
     "output_type": "execute_result"
    }
   ],
   "source": [
    "roc_auc_score(y_test, result[2]['y_proba']) "
   ]
  },
  {
   "cell_type": "markdown",
   "metadata": {},
   "source": [
    "Хорошее значение метрики. "
   ]
  },
  {
   "cell_type": "markdown",
   "metadata": {},
   "source": [
    "## Анализ лучшей модели"
   ]
  },
  {
   "cell_type": "markdown",
   "metadata": {},
   "source": [
    "### Важность признаков"
   ]
  },
  {
   "cell_type": "code",
   "execution_count": 74,
   "metadata": {},
   "outputs": [
    {
     "data": {
      "image/png": "[encoded data removed]",
      "text/plain": [
       "<Figure size 1224x864 with 1 Axes>"
      ]
     },
     "metadata": {
      "needs_background": "light"
     },
     "output_type": "display_data"
    }
   ],
   "source": [
    "columns = binary + cat + num\n",
    "plt.figure(figsize=(17, 12))\n",
    "plt.barh(columns, result[2]['feature_importances'], color=['#ADFF2F','#7FFF00', '#7CFC00', '#00FF00', '#32CD32', '#98FB98',\n",
    "                                                           '#90EE90', '#00FA9A', '#00FF7F','#3CB371', '#2E8B57', '#9ACD32',\n",
    "                                                           '#66CDAA', '#20B2AA', '#008B8B', '#7FFFD4', '#00FFFF'])\n",
    "plt.title('Feature importances')\n",
    "plt.show()"
   ]
  },
  {
   "cell_type": "markdown",
   "metadata": {},
   "source": [
    "Самые важные признаки это кол-во месяцев действия контракта и по-месячная опалата, остальные признаки менее важные."
   ]
  },
  {
   "cell_type": "markdown",
   "metadata": {},
   "source": [
    "### ROC Curve"
   ]
  },
  {
   "cell_type": "code",
   "execution_count": 75,
   "metadata": {},
   "outputs": [
    {
     "data": {
      "image/png": "[encoded data removed]",
      "text/plain": [
       "<Figure size 432x288 with 1 Axes>"
      ]
     },
     "metadata": {
      "needs_background": "light"
     },
     "output_type": "display_data"
    }
   ],
   "source": [
    "fpr, tpr, thresholds = roc_curve(y_test, result[2]['y_proba'])\n",
    "plt.plot(fpr, tpr, color='orange', label='ROC')\n",
    "plt.plot([0, 1], [0, 1], color='darkblue', linestyle='--')\n",
    "plt.xlabel('False Positive Rate')\n",
    "plt.ylabel('True Positive Rate')\n",
    "plt.title('(ROC) Curve')\n",
    "plt.legend()\n",
    "plt.show()"
   ]
  },
  {
   "cell_type": "markdown",
   "metadata": {},
   "source": [
    "Исходя из данных выберем оптимальный порог классификации:"
   ]
  },
  {
   "cell_type": "code",
   "execution_count": 76,
   "metadata": {},
   "outputs": [
    {
     "name": "stdout",
     "output_type": "stream",
     "text": [
      "0.11727954631950886\n"
     ]
    }
   ],
   "source": [
    "best_treshold = thresholds[np.argmax(tpr - 0.5*fpr)]\n",
    "print(best_treshold)"
   ]
  },
  {
   "cell_type": "markdown",
   "metadata": {},
   "source": [
    "Для FPR сделаем вес наполовину меньше, чтобы увеличить конечный TPR, т.к. компании выгоднее лишний раз предложить промокоды и специальные условия, чем терять клиентов."
   ]
  },
  {
   "cell_type": "markdown",
   "metadata": {},
   "source": [
    "### Матрица ошибок"
   ]
  },
  {
   "cell_type": "code",
   "execution_count": 77,
   "metadata": {},
   "outputs": [
    {
     "data": {
      "image/png": "[encoded data removed]",
      "text/plain": [
       "<Figure size 864x720 with 2 Axes>"
      ]
     },
     "metadata": {
      "needs_background": "light"
     },
     "output_type": "display_data"
    }
   ],
   "source": [
    "plt.figure(figsize=(12, 10))\n",
    "heatmap(\n",
    "    pd.DataFrame(confusion_matrix(y_test, result[2]['y_proba'] >= best_treshold,  normalize='true')),\n",
    "    annot=True,\n",
    "    cmap='Greens'\n",
    ")\n",
    "plt.title('Confusion matrix')\n",
    "plt.xlabel('Predicted class')\n",
    "plt.ylabel('True class')\n",
    "plt.show()"
   ]
  },
  {
   "cell_type": "markdown",
   "metadata": {},
   "source": [
    "Успех, модель смогла верно определить 90% клиентов собирающихся уходить от компании."
   ]
  },
  {
   "cell_type": "markdown",
   "metadata": {},
   "source": [
    "## Вывод"
   ]
  },
  {
   "cell_type": "markdown",
   "metadata": {},
   "source": [
    "- Обозначили цель проекта и описали данные, с которыми прийдется работать\n",
    "- Подключили данные и библиотеки, необходимые для выполнения проекта\n",
    "- Провели исследовательский анализ, в котором наметили несколько целей для предообработки\n",
    "- Провели предообработку данных:\n",
    "    - Обьеденили датафреймы\n",
    "    - Удалить пропуски (обычные и возникшие после слияния)\n",
    "    - Преобразовали некоторые признаки, которые в исходном виде не могли быть использованыв\n",
    "    - Добавили новые признаки\n",
    "    - Скорректировали типы данных в полях\n",
    "- Проанализировали данные:\n",
    "     - Разделили признаки на бинарные, категориальные, численные\n",
    "     - Построили графики для всех признаков, с краткими выводами по ним\n",
    "     - Построили матрицу корреляции признаков \n",
    "     - Обработали сильно коррелирующие признаки\n",
    "- Выбрали лучшую модель:\n",
    "    - Разделили данные на обучающую и тестовую выборки\n",
    "    - Провели кросс-валидацию для  DesicionTreeClassifier\n",
    "    - Провели кросс-валидацию для RandomForestClassifier\n",
    "    - Провели кросс-валидацию для LGBMClassifier с функцией потерь focal loss\n",
    "    - Провели кросс-валидацию для LogisticRegression\n",
    "    - Провели кросс-валидацию для простой нейросети с функцией потерь focal loss\n",
    "    - По итогам кросс-валидаций выбрали лучшей моделью LGBMClassifier\n",
    "- Анализ лучшей модели:\n",
    "    - Проанализировали важность признаков у лучшей модели\n",
    "    - Построили ROC-Curve, и выбрали по ней оптимальный порог классификации\n",
    "    - Проанализировали матрицу ошибок у лучшей модели: модель верно определяет 90% клиентов собирающихся уходить от компании"
   ]
  }
 ],
 "metadata": {
  "ExecuteTimeLog": [
   {
    "duration": 422,
    "start_time": "2023-07-04T08:21:52.111Z"
   },
   {
    "duration": 3,
    "start_time": "2023-07-04T08:22:00.068Z"
   },
   {
    "duration": 164,
    "start_time": "2023-07-04T10:26:38.362Z"
   },
   {
    "duration": 430,
    "start_time": "2023-07-04T10:30:57.005Z"
   },
   {
    "duration": 269,
    "start_time": "2023-07-04T10:30:57.898Z"
   },
   {
    "duration": 28,
    "start_time": "2023-07-04T10:31:00.775Z"
   },
   {
    "duration": 15,
    "start_time": "2023-07-04T10:33:33.442Z"
   },
   {
    "duration": 61,
    "start_time": "2023-07-04T10:34:52.245Z"
   },
   {
    "duration": 12,
    "start_time": "2023-07-04T10:34:54.765Z"
   },
   {
    "duration": 13,
    "start_time": "2023-07-04T10:37:12.993Z"
   },
   {
    "duration": 9,
    "start_time": "2023-07-04T10:39:41.839Z"
   },
   {
    "duration": 13,
    "start_time": "2023-07-04T11:01:43.043Z"
   },
   {
    "duration": 15,
    "start_time": "2023-07-04T11:01:57.953Z"
   },
   {
    "duration": 18,
    "start_time": "2023-07-04T11:02:09.631Z"
   },
   {
    "duration": 16,
    "start_time": "2023-07-04T11:02:21.883Z"
   },
   {
    "duration": 12,
    "start_time": "2023-07-04T11:02:32.587Z"
   },
   {
    "duration": 16,
    "start_time": "2023-07-04T11:02:54.347Z"
   },
   {
    "duration": 13,
    "start_time": "2023-07-04T11:03:00.138Z"
   },
   {
    "duration": 12,
    "start_time": "2023-07-04T11:03:45.825Z"
   },
   {
    "duration": 9,
    "start_time": "2023-07-04T11:05:06.457Z"
   },
   {
    "duration": 7,
    "start_time": "2023-07-04T11:05:08.958Z"
   },
   {
    "duration": 6,
    "start_time": "2023-07-04T11:05:23.372Z"
   },
   {
    "duration": 7,
    "start_time": "2023-07-04T11:10:02.939Z"
   },
   {
    "duration": 9,
    "start_time": "2023-07-04T11:10:07.411Z"
   },
   {
    "duration": 4,
    "start_time": "2023-07-04T11:13:05.582Z"
   },
   {
    "duration": 30,
    "start_time": "2023-07-04T11:14:22.313Z"
   },
   {
    "duration": 41,
    "start_time": "2023-07-04T11:14:28.400Z"
   },
   {
    "duration": 25,
    "start_time": "2023-07-04T11:15:30.295Z"
   },
   {
    "duration": 268,
    "start_time": "2023-07-04T11:16:02.208Z"
   },
   {
    "duration": 13,
    "start_time": "2023-07-04T11:16:04.617Z"
   },
   {
    "duration": 3,
    "start_time": "2023-07-04T11:16:11.849Z"
   },
   {
    "duration": 6,
    "start_time": "2023-07-04T11:16:12.675Z"
   },
   {
    "duration": 29,
    "start_time": "2023-07-04T11:18:37.556Z"
   },
   {
    "duration": 27,
    "start_time": "2023-07-04T11:18:45.976Z"
   },
   {
    "duration": 27,
    "start_time": "2023-07-04T11:18:56.762Z"
   },
   {
    "duration": 27,
    "start_time": "2023-07-04T11:19:08.348Z"
   },
   {
    "duration": 15,
    "start_time": "2023-07-04T11:20:48.540Z"
   },
   {
    "duration": 3,
    "start_time": "2023-07-04T11:22:20.791Z"
   },
   {
    "duration": 10,
    "start_time": "2023-07-04T11:22:27.155Z"
   },
   {
    "duration": 3,
    "start_time": "2023-07-04T11:23:18.987Z"
   },
   {
    "duration": 42,
    "start_time": "2023-07-04T11:24:15.327Z"
   },
   {
    "duration": 26,
    "start_time": "2023-07-04T11:24:19.357Z"
   },
   {
    "duration": 17,
    "start_time": "2023-07-04T11:24:29.321Z"
   },
   {
    "duration": 42,
    "start_time": "2023-07-04T11:25:27.257Z"
   },
   {
    "duration": 19,
    "start_time": "2023-07-04T11:25:27.730Z"
   },
   {
    "duration": 4,
    "start_time": "2023-07-04T11:25:39.534Z"
   },
   {
    "duration": 9,
    "start_time": "2023-07-04T11:25:42.356Z"
   },
   {
    "duration": 40,
    "start_time": "2023-07-04T11:25:56.092Z"
   },
   {
    "duration": 17,
    "start_time": "2023-07-04T11:25:56.260Z"
   },
   {
    "duration": 18,
    "start_time": "2023-07-04T11:58:04.347Z"
   },
   {
    "duration": 6,
    "start_time": "2023-07-04T12:01:10.049Z"
   },
   {
    "duration": 6,
    "start_time": "2023-07-04T12:01:12.711Z"
   },
   {
    "duration": 15,
    "start_time": "2023-07-04T12:03:25.149Z"
   },
   {
    "duration": 629,
    "start_time": "2023-07-04T12:03:28.226Z"
   },
   {
    "duration": 18,
    "start_time": "2023-07-04T12:03:40.818Z"
   },
   {
    "duration": 329,
    "start_time": "2023-07-04T12:09:05.550Z"
   },
   {
    "duration": 5,
    "start_time": "2023-07-04T12:14:10.900Z"
   },
   {
    "duration": 67,
    "start_time": "2023-07-04T12:14:36.342Z"
   },
   {
    "duration": 42,
    "start_time": "2023-07-04T12:14:55.460Z"
   },
   {
    "duration": 44,
    "start_time": "2023-07-04T12:14:59.937Z"
   },
   {
    "duration": 4,
    "start_time": "2023-07-04T12:15:30.562Z"
   },
   {
    "duration": 58,
    "start_time": "2023-07-04T12:15:32.500Z"
   },
   {
    "duration": 72,
    "start_time": "2023-07-04T12:38:25.541Z"
   },
   {
    "duration": 17,
    "start_time": "2023-07-04T15:05:10.102Z"
   },
   {
    "duration": 13,
    "start_time": "2023-07-04T15:05:16.078Z"
   },
   {
    "duration": 10,
    "start_time": "2023-07-04T15:05:25.375Z"
   },
   {
    "duration": 423,
    "start_time": "2023-07-04T15:05:30.775Z"
   },
   {
    "duration": 3,
    "start_time": "2023-07-04T15:05:50.371Z"
   },
   {
    "duration": 394,
    "start_time": "2023-07-04T15:05:54.331Z"
   },
   {
    "duration": 2501,
    "start_time": "2023-07-04T15:05:56.861Z"
   },
   {
    "duration": 71900,
    "start_time": "2023-07-04T15:06:10.644Z"
   },
   {
    "duration": 0,
    "start_time": "2023-07-04T15:07:44.648Z"
   },
   {
    "duration": 115522,
    "start_time": "2023-07-04T15:09:44.945Z"
   },
   {
    "duration": 5,
    "start_time": "2023-07-04T15:28:16.918Z"
   },
   {
    "duration": 6,
    "start_time": "2023-07-04T15:28:19.002Z"
   },
   {
    "duration": 6,
    "start_time": "2023-07-04T17:13:12.952Z"
   },
   {
    "duration": 50,
    "start_time": "2023-07-04T17:36:51.870Z"
   },
   {
    "duration": 986,
    "start_time": "2023-07-05T19:31:06.838Z"
   },
   {
    "duration": 590,
    "start_time": "2023-07-05T19:31:07.827Z"
   },
   {
    "duration": 63,
    "start_time": "2023-07-05T19:31:08.419Z"
   },
   {
    "duration": 4,
    "start_time": "2023-07-05T19:31:08.491Z"
   },
   {
    "duration": 74,
    "start_time": "2023-07-05T19:31:08.497Z"
   },
   {
    "duration": 26,
    "start_time": "2023-07-05T19:31:08.578Z"
   },
   {
    "duration": 19,
    "start_time": "2023-07-05T19:31:16.228Z"
   },
   {
    "duration": 47,
    "start_time": "2023-07-07T10:30:44.497Z"
   },
   {
    "duration": 996,
    "start_time": "2023-07-07T10:30:47.008Z"
   },
   {
    "duration": 382,
    "start_time": "2023-07-07T10:30:48.006Z"
   },
   {
    "duration": 48,
    "start_time": "2023-07-07T10:30:48.511Z"
   },
   {
    "duration": 55,
    "start_time": "2023-07-07T10:32:25.267Z"
   },
   {
    "duration": 44,
    "start_time": "2023-07-07T10:32:44.201Z"
   },
   {
    "duration": 44,
    "start_time": "2023-07-07T15:23:27.579Z"
   },
   {
    "duration": 40,
    "start_time": "2023-07-07T15:25:31.742Z"
   },
   {
    "duration": 40,
    "start_time": "2023-07-07T15:26:17.815Z"
   },
   {
    "duration": 37,
    "start_time": "2023-07-07T15:28:53.940Z"
   },
   {
    "duration": 16,
    "start_time": "2023-07-07T15:29:09.569Z"
   },
   {
    "duration": 6,
    "start_time": "2023-07-07T15:29:41.186Z"
   },
   {
    "duration": 12,
    "start_time": "2023-07-07T15:29:53.644Z"
   },
   {
    "duration": 5,
    "start_time": "2023-07-07T15:30:01.045Z"
   },
   {
    "duration": 4,
    "start_time": "2023-07-07T15:30:07.422Z"
   },
   {
    "duration": 5,
    "start_time": "2023-07-07T15:30:13.271Z"
   },
   {
    "duration": 13,
    "start_time": "2023-07-07T15:31:01.779Z"
   },
   {
    "duration": 14,
    "start_time": "2023-07-07T15:31:06.188Z"
   },
   {
    "duration": 464,
    "start_time": "2023-07-07T15:32:58.022Z"
   },
   {
    "duration": 5,
    "start_time": "2023-07-07T15:34:49.228Z"
   },
   {
    "duration": 8,
    "start_time": "2023-07-07T15:36:10.602Z"
   },
   {
    "duration": 8,
    "start_time": "2023-07-07T15:36:15.708Z"
   },
   {
    "duration": 4,
    "start_time": "2023-07-07T15:36:28.945Z"
   },
   {
    "duration": 4,
    "start_time": "2023-07-07T15:36:32.551Z"
   },
   {
    "duration": 799,
    "start_time": "2023-07-07T15:36:49.285Z"
   },
   {
    "duration": 818,
    "start_time": "2023-07-07T15:38:43.839Z"
   },
   {
    "duration": 4,
    "start_time": "2023-07-07T15:43:45.890Z"
   },
   {
    "duration": 44,
    "start_time": "2023-07-07T15:43:51.594Z"
   },
   {
    "duration": 13,
    "start_time": "2023-07-07T15:44:10.626Z"
   },
   {
    "duration": 28,
    "start_time": "2023-07-07T15:44:26.974Z"
   },
   {
    "duration": 10,
    "start_time": "2023-07-07T15:44:33.993Z"
   },
   {
    "duration": 7,
    "start_time": "2023-07-07T15:46:56.072Z"
   },
   {
    "duration": 7,
    "start_time": "2023-07-07T15:47:05.243Z"
   },
   {
    "duration": 6,
    "start_time": "2023-07-07T15:47:12.631Z"
   },
   {
    "duration": 5,
    "start_time": "2023-07-07T15:47:56.553Z"
   },
   {
    "duration": 7,
    "start_time": "2023-07-07T15:48:01.063Z"
   },
   {
    "duration": 6,
    "start_time": "2023-07-07T15:48:05.277Z"
   },
   {
    "duration": 851,
    "start_time": "2023-07-07T15:49:41.649Z"
   },
   {
    "duration": 6,
    "start_time": "2023-07-07T15:50:04.101Z"
   },
   {
    "duration": 668,
    "start_time": "2023-07-07T15:50:16.646Z"
   },
   {
    "duration": 96,
    "start_time": "2023-07-07T15:50:17.316Z"
   },
   {
    "duration": 28,
    "start_time": "2023-07-07T15:50:17.413Z"
   },
   {
    "duration": 32,
    "start_time": "2023-07-07T15:50:17.443Z"
   },
   {
    "duration": 5,
    "start_time": "2023-07-07T15:50:17.477Z"
   },
   {
    "duration": 10,
    "start_time": "2023-07-07T15:50:17.483Z"
   },
   {
    "duration": 5,
    "start_time": "2023-07-07T15:51:02.973Z"
   },
   {
    "duration": 78,
    "start_time": "2023-07-07T15:51:14.739Z"
   },
   {
    "duration": 108,
    "start_time": "2023-07-07T15:55:48.329Z"
   },
   {
    "duration": 72,
    "start_time": "2023-07-07T15:56:17.518Z"
   },
   {
    "duration": 93,
    "start_time": "2023-07-07T15:56:28.144Z"
   },
   {
    "duration": 77,
    "start_time": "2023-07-07T15:56:55.089Z"
   },
   {
    "duration": 75,
    "start_time": "2023-07-07T15:57:01.572Z"
   },
   {
    "duration": 71,
    "start_time": "2023-07-07T15:57:12.087Z"
   },
   {
    "duration": 64,
    "start_time": "2023-07-07T15:57:18.420Z"
   },
   {
    "duration": 113,
    "start_time": "2023-07-07T15:57:29.456Z"
   },
   {
    "duration": 108,
    "start_time": "2023-07-07T15:57:46.355Z"
   },
   {
    "duration": 93,
    "start_time": "2023-07-07T15:57:48.715Z"
   },
   {
    "duration": 7,
    "start_time": "2023-07-07T16:17:26.980Z"
   },
   {
    "duration": 50,
    "start_time": "2023-07-07T17:15:42.843Z"
   },
   {
    "duration": 675,
    "start_time": "2023-07-07T17:15:58.192Z"
   },
   {
    "duration": 103,
    "start_time": "2023-07-07T17:15:58.868Z"
   },
   {
    "duration": 28,
    "start_time": "2023-07-07T17:15:58.973Z"
   },
   {
    "duration": 30,
    "start_time": "2023-07-07T17:15:59.003Z"
   },
   {
    "duration": 4,
    "start_time": "2023-07-07T17:15:59.035Z"
   },
   {
    "duration": 24,
    "start_time": "2023-07-07T17:15:59.040Z"
   },
   {
    "duration": 8,
    "start_time": "2023-07-07T17:15:59.066Z"
   },
   {
    "duration": 92,
    "start_time": "2023-07-07T17:15:59.075Z"
   },
   {
    "duration": 35,
    "start_time": "2023-07-07T17:16:03.995Z"
   },
   {
    "duration": 3,
    "start_time": "2023-07-07T17:16:11.073Z"
   },
   {
    "duration": 5,
    "start_time": "2023-07-07T17:16:30.329Z"
   },
   {
    "duration": 51,
    "start_time": "2023-07-07T17:16:49.337Z"
   },
   {
    "duration": 24,
    "start_time": "2023-07-07T17:17:02.865Z"
   },
   {
    "duration": 54,
    "start_time": "2023-07-07T17:21:34.315Z"
   },
   {
    "duration": 6,
    "start_time": "2023-07-07T17:21:34.790Z"
   },
   {
    "duration": 77,
    "start_time": "2023-07-07T17:23:57.797Z"
   },
   {
    "duration": 4,
    "start_time": "2023-07-07T17:24:01.130Z"
   },
   {
    "duration": 44,
    "start_time": "2023-07-07T17:24:01.296Z"
   },
   {
    "duration": 6,
    "start_time": "2023-07-07T17:50:54.840Z"
   },
   {
    "duration": 5,
    "start_time": "2023-07-07T17:51:07.982Z"
   },
   {
    "duration": 6,
    "start_time": "2023-07-07T17:51:22.127Z"
   },
   {
    "duration": 5,
    "start_time": "2023-07-07T17:51:25.081Z"
   },
   {
    "duration": 96,
    "start_time": "2023-07-07T17:51:49.195Z"
   },
   {
    "duration": 8,
    "start_time": "2023-07-07T17:51:51.777Z"
   },
   {
    "duration": 7,
    "start_time": "2023-07-07T17:51:54.053Z"
   },
   {
    "duration": 12,
    "start_time": "2023-07-07T17:51:57.285Z"
   },
   {
    "duration": 8,
    "start_time": "2023-07-07T17:52:03.016Z"
   },
   {
    "duration": 6,
    "start_time": "2023-07-07T17:52:06.125Z"
   },
   {
    "duration": 5,
    "start_time": "2023-07-07T17:52:10.100Z"
   },
   {
    "duration": 10,
    "start_time": "2023-07-07T17:52:16.364Z"
   },
   {
    "duration": 8,
    "start_time": "2023-07-07T17:52:27.006Z"
   },
   {
    "duration": 22,
    "start_time": "2023-07-07T17:52:29.614Z"
   },
   {
    "duration": 26,
    "start_time": "2023-07-07T17:54:54.548Z"
   },
   {
    "duration": 139,
    "start_time": "2023-07-07T17:55:01.272Z"
   },
   {
    "duration": 11,
    "start_time": "2023-07-07T17:55:08.892Z"
   },
   {
    "duration": 9,
    "start_time": "2023-07-07T17:55:11.090Z"
   },
   {
    "duration": 5,
    "start_time": "2023-07-07T17:55:14.402Z"
   },
   {
    "duration": 16,
    "start_time": "2023-07-07T17:55:14.540Z"
   },
   {
    "duration": 9,
    "start_time": "2023-07-07T17:55:14.698Z"
   },
   {
    "duration": 4,
    "start_time": "2023-07-07T17:55:19.310Z"
   },
   {
    "duration": 424,
    "start_time": "2023-07-07T17:56:00.276Z"
   },
   {
    "duration": 5,
    "start_time": "2023-07-07T17:56:23.468Z"
   },
   {
    "duration": 12,
    "start_time": "2023-07-07T17:56:27.582Z"
   },
   {
    "duration": 8,
    "start_time": "2023-07-07T17:56:28.196Z"
   },
   {
    "duration": 8,
    "start_time": "2023-07-07T17:56:30.772Z"
   },
   {
    "duration": 11,
    "start_time": "2023-07-07T17:56:31.024Z"
   },
   {
    "duration": 7,
    "start_time": "2023-07-07T17:56:31.201Z"
   },
   {
    "duration": 347,
    "start_time": "2023-07-07T17:56:36.099Z"
   },
   {
    "duration": 6,
    "start_time": "2023-07-07T17:56:38.180Z"
   },
   {
    "duration": 17,
    "start_time": "2023-07-07T17:56:38.373Z"
   },
   {
    "duration": 381,
    "start_time": "2023-07-07T17:56:38.511Z"
   },
   {
    "duration": 112,
    "start_time": "2023-07-07T17:56:55.491Z"
   },
   {
    "duration": 221,
    "start_time": "2023-07-07T17:57:07.234Z"
   },
   {
    "duration": 10,
    "start_time": "2023-07-07T17:59:04.977Z"
   },
   {
    "duration": 5,
    "start_time": "2023-07-07T18:00:38.405Z"
   },
   {
    "duration": 5,
    "start_time": "2023-07-07T18:00:42.804Z"
   },
   {
    "duration": 91,
    "start_time": "2023-07-07T18:00:47.529Z"
   },
   {
    "duration": 4,
    "start_time": "2023-07-07T18:00:52.305Z"
   },
   {
    "duration": 5,
    "start_time": "2023-07-07T18:00:55.878Z"
   },
   {
    "duration": 4,
    "start_time": "2023-07-07T18:00:59.547Z"
   },
   {
    "duration": 9,
    "start_time": "2023-07-07T18:01:19.948Z"
   },
   {
    "duration": 8,
    "start_time": "2023-07-07T18:01:40.816Z"
   },
   {
    "duration": 9,
    "start_time": "2023-07-07T18:02:05.614Z"
   },
   {
    "duration": 9,
    "start_time": "2023-07-07T18:02:27.902Z"
   },
   {
    "duration": 15,
    "start_time": "2023-07-07T18:02:31.053Z"
   },
   {
    "duration": 11,
    "start_time": "2023-07-07T18:03:07.080Z"
   },
   {
    "duration": 7,
    "start_time": "2023-07-07T18:03:11.099Z"
   },
   {
    "duration": 17,
    "start_time": "2023-07-07T18:13:59.318Z"
   },
   {
    "duration": 593,
    "start_time": "2023-07-07T18:15:33.697Z"
   },
   {
    "duration": 92,
    "start_time": "2023-07-07T18:15:34.292Z"
   },
   {
    "duration": 29,
    "start_time": "2023-07-07T18:15:34.386Z"
   },
   {
    "duration": 31,
    "start_time": "2023-07-07T18:15:34.417Z"
   },
   {
    "duration": 16,
    "start_time": "2023-07-07T18:15:34.450Z"
   },
   {
    "duration": 10,
    "start_time": "2023-07-07T18:15:34.468Z"
   },
   {
    "duration": 13,
    "start_time": "2023-07-07T18:15:34.480Z"
   },
   {
    "duration": 88,
    "start_time": "2023-07-07T18:15:34.494Z"
   },
   {
    "duration": 35,
    "start_time": "2023-07-07T18:15:34.584Z"
   },
   {
    "duration": 7,
    "start_time": "2023-07-07T18:15:34.621Z"
   },
   {
    "duration": 39,
    "start_time": "2023-07-07T18:15:34.630Z"
   },
   {
    "duration": 84,
    "start_time": "2023-07-07T18:20:08.214Z"
   },
   {
    "duration": 8,
    "start_time": "2023-07-07T18:20:11.751Z"
   },
   {
    "duration": 798,
    "start_time": "2023-07-07T18:20:31.488Z"
   },
   {
    "duration": 17,
    "start_time": "2023-07-07T18:22:34.928Z"
   },
   {
    "duration": 15,
    "start_time": "2023-07-07T18:23:00.365Z"
   },
   {
    "duration": 17,
    "start_time": "2023-07-07T18:23:09.101Z"
   },
   {
    "duration": 7,
    "start_time": "2023-07-07T18:23:27.139Z"
   },
   {
    "duration": 6,
    "start_time": "2023-07-07T18:23:30.521Z"
   },
   {
    "duration": 16,
    "start_time": "2023-07-07T18:25:17.782Z"
   },
   {
    "duration": 8,
    "start_time": "2023-07-07T18:25:31.188Z"
   },
   {
    "duration": 11,
    "start_time": "2023-07-07T18:25:33.310Z"
   },
   {
    "duration": 10,
    "start_time": "2023-07-07T18:25:37.353Z"
   },
   {
    "duration": 9,
    "start_time": "2023-07-07T18:25:42.079Z"
   },
   {
    "duration": 8,
    "start_time": "2023-07-07T18:25:43.564Z"
   },
   {
    "duration": 9,
    "start_time": "2023-07-07T18:25:47.467Z"
   },
   {
    "duration": 4,
    "start_time": "2023-07-07T18:26:09.012Z"
   },
   {
    "duration": 9,
    "start_time": "2023-07-07T18:26:13.383Z"
   },
   {
    "duration": 7,
    "start_time": "2023-07-07T18:26:15.864Z"
   },
   {
    "duration": 8,
    "start_time": "2023-07-07T18:26:21.554Z"
   },
   {
    "duration": 8,
    "start_time": "2023-07-07T18:26:23.162Z"
   },
   {
    "duration": 7,
    "start_time": "2023-07-07T18:26:27.763Z"
   },
   {
    "duration": 6,
    "start_time": "2023-07-07T18:27:01.213Z"
   },
   {
    "duration": 5,
    "start_time": "2023-07-07T18:27:03.511Z"
   },
   {
    "duration": 6,
    "start_time": "2023-07-07T18:27:06.769Z"
   },
   {
    "duration": 13,
    "start_time": "2023-07-07T18:27:16.363Z"
   },
   {
    "duration": 10,
    "start_time": "2023-07-07T18:32:57.322Z"
   },
   {
    "duration": 23,
    "start_time": "2023-07-07T18:33:00.866Z"
   },
   {
    "duration": 6,
    "start_time": "2023-07-07T18:35:43.858Z"
   },
   {
    "duration": 22,
    "start_time": "2023-07-07T18:35:54.224Z"
   },
   {
    "duration": 7,
    "start_time": "2023-07-07T18:36:49.101Z"
   },
   {
    "duration": 22,
    "start_time": "2023-07-07T18:36:49.482Z"
   },
   {
    "duration": 691,
    "start_time": "2023-07-07T18:37:00.229Z"
   },
   {
    "duration": 93,
    "start_time": "2023-07-07T18:37:00.923Z"
   },
   {
    "duration": 31,
    "start_time": "2023-07-07T18:37:01.018Z"
   },
   {
    "duration": 55,
    "start_time": "2023-07-07T18:37:01.051Z"
   },
   {
    "duration": 28,
    "start_time": "2023-07-07T18:37:01.107Z"
   },
   {
    "duration": 78,
    "start_time": "2023-07-07T18:37:01.136Z"
   },
   {
    "duration": 50,
    "start_time": "2023-07-07T18:37:01.216Z"
   },
   {
    "duration": 120,
    "start_time": "2023-07-07T18:37:01.267Z"
   },
   {
    "duration": 36,
    "start_time": "2023-07-07T18:37:01.389Z"
   },
   {
    "duration": 25,
    "start_time": "2023-07-07T18:37:01.427Z"
   },
   {
    "duration": 30,
    "start_time": "2023-07-07T18:37:01.454Z"
   },
   {
    "duration": 45,
    "start_time": "2023-07-07T18:37:01.486Z"
   },
   {
    "duration": 58,
    "start_time": "2023-07-07T18:37:01.532Z"
   },
   {
    "duration": 76,
    "start_time": "2023-07-07T18:37:01.591Z"
   },
   {
    "duration": 740,
    "start_time": "2023-07-07T18:41:51.737Z"
   },
   {
    "duration": 111,
    "start_time": "2023-07-07T18:41:52.481Z"
   },
   {
    "duration": 30,
    "start_time": "2023-07-07T18:41:52.594Z"
   },
   {
    "duration": 37,
    "start_time": "2023-07-07T18:41:52.627Z"
   },
   {
    "duration": 7,
    "start_time": "2023-07-07T18:41:52.666Z"
   },
   {
    "duration": 18,
    "start_time": "2023-07-07T18:41:52.675Z"
   },
   {
    "duration": 13,
    "start_time": "2023-07-07T18:41:52.694Z"
   },
   {
    "duration": 107,
    "start_time": "2023-07-07T18:41:52.708Z"
   },
   {
    "duration": 53,
    "start_time": "2023-07-07T18:41:52.816Z"
   },
   {
    "duration": 7,
    "start_time": "2023-07-07T18:41:52.872Z"
   },
   {
    "duration": 25,
    "start_time": "2023-07-07T18:41:52.881Z"
   },
   {
    "duration": 13,
    "start_time": "2023-07-07T18:41:52.908Z"
   },
   {
    "duration": 7,
    "start_time": "2023-07-07T18:41:52.923Z"
   },
   {
    "duration": 5,
    "start_time": "2023-07-07T18:42:25.684Z"
   },
   {
    "duration": 142,
    "start_time": "2023-07-07T18:42:25.691Z"
   },
   {
    "duration": 41,
    "start_time": "2023-07-07T18:42:25.835Z"
   },
   {
    "duration": 33,
    "start_time": "2023-07-07T18:42:25.879Z"
   },
   {
    "duration": 4,
    "start_time": "2023-07-07T18:42:25.914Z"
   },
   {
    "duration": 8,
    "start_time": "2023-07-07T18:42:25.920Z"
   },
   {
    "duration": 7,
    "start_time": "2023-07-07T18:42:25.930Z"
   },
   {
    "duration": 141,
    "start_time": "2023-07-07T18:42:25.939Z"
   },
   {
    "duration": 37,
    "start_time": "2023-07-07T18:42:26.082Z"
   },
   {
    "duration": 6,
    "start_time": "2023-07-07T18:42:26.121Z"
   },
   {
    "duration": 38,
    "start_time": "2023-07-07T18:42:26.129Z"
   },
   {
    "duration": 24,
    "start_time": "2023-07-07T18:42:26.169Z"
   },
   {
    "duration": 19,
    "start_time": "2023-07-07T18:42:26.195Z"
   },
   {
    "duration": 16,
    "start_time": "2023-07-07T18:42:35.932Z"
   },
   {
    "duration": 8,
    "start_time": "2023-07-07T18:45:20.731Z"
   },
   {
    "duration": 18,
    "start_time": "2023-07-07T18:45:22.903Z"
   },
   {
    "duration": 637,
    "start_time": "2023-07-07T18:49:03.395Z"
   },
   {
    "duration": 106,
    "start_time": "2023-07-07T18:49:04.034Z"
   },
   {
    "duration": 45,
    "start_time": "2023-07-07T18:49:04.142Z"
   },
   {
    "duration": 33,
    "start_time": "2023-07-07T18:49:04.188Z"
   },
   {
    "duration": 5,
    "start_time": "2023-07-07T18:49:04.223Z"
   },
   {
    "duration": 23,
    "start_time": "2023-07-07T18:49:04.229Z"
   },
   {
    "duration": 6,
    "start_time": "2023-07-07T18:49:04.254Z"
   },
   {
    "duration": 127,
    "start_time": "2023-07-07T18:49:04.262Z"
   },
   {
    "duration": 35,
    "start_time": "2023-07-07T18:49:04.390Z"
   },
   {
    "duration": 5,
    "start_time": "2023-07-07T18:49:04.427Z"
   },
   {
    "duration": 5,
    "start_time": "2023-07-07T18:50:27.570Z"
   },
   {
    "duration": 14,
    "start_time": "2023-07-07T18:51:05.480Z"
   },
   {
    "duration": 18,
    "start_time": "2023-07-07T18:51:23.328Z"
   },
   {
    "duration": 24,
    "start_time": "2023-07-07T18:51:26.468Z"
   },
   {
    "duration": 20,
    "start_time": "2023-07-07T18:51:29.882Z"
   },
   {
    "duration": 11,
    "start_time": "2023-07-07T18:52:05.544Z"
   },
   {
    "duration": 27,
    "start_time": "2023-07-07T18:52:05.558Z"
   },
   {
    "duration": 7,
    "start_time": "2023-07-07T18:52:06.469Z"
   },
   {
    "duration": 37,
    "start_time": "2023-07-07T19:01:08.486Z"
   },
   {
    "duration": 677,
    "start_time": "2023-07-07T19:01:41.739Z"
   },
   {
    "duration": 111,
    "start_time": "2023-07-07T19:01:42.418Z"
   },
   {
    "duration": 38,
    "start_time": "2023-07-07T19:01:42.531Z"
   },
   {
    "duration": 34,
    "start_time": "2023-07-07T19:01:42.571Z"
   },
   {
    "duration": 5,
    "start_time": "2023-07-07T19:01:42.607Z"
   },
   {
    "duration": 11,
    "start_time": "2023-07-07T19:01:42.613Z"
   },
   {
    "duration": 10,
    "start_time": "2023-07-07T19:01:42.625Z"
   },
   {
    "duration": 130,
    "start_time": "2023-07-07T19:01:42.636Z"
   },
   {
    "duration": 41,
    "start_time": "2023-07-07T19:01:42.767Z"
   },
   {
    "duration": 6,
    "start_time": "2023-07-07T19:01:42.811Z"
   },
   {
    "duration": 15,
    "start_time": "2023-07-07T19:01:42.819Z"
   },
   {
    "duration": 23,
    "start_time": "2023-07-07T19:01:42.835Z"
   },
   {
    "duration": 40,
    "start_time": "2023-07-07T19:01:42.859Z"
   },
   {
    "duration": 7,
    "start_time": "2023-07-07T19:01:42.901Z"
   },
   {
    "duration": 24,
    "start_time": "2023-07-07T19:01:42.909Z"
   },
   {
    "duration": 8,
    "start_time": "2023-07-07T19:04:56.395Z"
   },
   {
    "duration": 17,
    "start_time": "2023-07-07T19:04:57.200Z"
   },
   {
    "duration": 6,
    "start_time": "2023-07-07T19:06:05.435Z"
   },
   {
    "duration": 15,
    "start_time": "2023-07-07T19:06:06.029Z"
   },
   {
    "duration": 617,
    "start_time": "2023-07-07T19:07:56.482Z"
   },
   {
    "duration": 96,
    "start_time": "2023-07-07T19:07:57.101Z"
   },
   {
    "duration": 29,
    "start_time": "2023-07-07T19:07:57.199Z"
   },
   {
    "duration": 31,
    "start_time": "2023-07-07T19:07:57.230Z"
   },
   {
    "duration": 5,
    "start_time": "2023-07-07T19:07:57.263Z"
   },
   {
    "duration": 8,
    "start_time": "2023-07-07T19:07:57.270Z"
   },
   {
    "duration": 9,
    "start_time": "2023-07-07T19:07:57.279Z"
   },
   {
    "duration": 104,
    "start_time": "2023-07-07T19:07:57.290Z"
   },
   {
    "duration": 35,
    "start_time": "2023-07-07T19:07:57.396Z"
   },
   {
    "duration": 24,
    "start_time": "2023-07-07T19:07:57.434Z"
   },
   {
    "duration": 7,
    "start_time": "2023-07-07T19:07:57.460Z"
   },
   {
    "duration": 12,
    "start_time": "2023-07-07T19:07:57.468Z"
   },
   {
    "duration": 12,
    "start_time": "2023-07-07T19:07:57.482Z"
   },
   {
    "duration": 8,
    "start_time": "2023-07-07T19:07:57.496Z"
   },
   {
    "duration": 6,
    "start_time": "2023-07-07T19:07:57.506Z"
   },
   {
    "duration": 9,
    "start_time": "2023-07-07T19:07:57.513Z"
   },
   {
    "duration": 40,
    "start_time": "2023-07-07T19:07:57.523Z"
   },
   {
    "duration": 10,
    "start_time": "2023-07-07T19:07:57.564Z"
   },
   {
    "duration": 66,
    "start_time": "2023-07-07T19:08:11.181Z"
   },
   {
    "duration": 5,
    "start_time": "2023-07-07T19:08:30.012Z"
   },
   {
    "duration": 674,
    "start_time": "2023-07-07T19:10:01.140Z"
   },
   {
    "duration": 94,
    "start_time": "2023-07-07T19:10:01.816Z"
   },
   {
    "duration": 35,
    "start_time": "2023-07-07T19:10:01.912Z"
   },
   {
    "duration": 62,
    "start_time": "2023-07-07T19:10:01.950Z"
   },
   {
    "duration": 14,
    "start_time": "2023-07-07T19:10:02.014Z"
   },
   {
    "duration": 97,
    "start_time": "2023-07-07T19:10:02.029Z"
   },
   {
    "duration": 109,
    "start_time": "2023-07-07T19:10:02.127Z"
   },
   {
    "duration": 116,
    "start_time": "2023-07-07T19:10:02.237Z"
   },
   {
    "duration": 36,
    "start_time": "2023-07-07T19:10:02.355Z"
   },
   {
    "duration": 7,
    "start_time": "2023-07-07T19:10:02.393Z"
   },
   {
    "duration": 23,
    "start_time": "2023-07-07T19:10:02.401Z"
   },
   {
    "duration": 49,
    "start_time": "2023-07-07T19:10:02.425Z"
   },
   {
    "duration": 10,
    "start_time": "2023-07-07T19:10:11.487Z"
   },
   {
    "duration": 68,
    "start_time": "2023-07-07T19:10:14.863Z"
   },
   {
    "duration": 12,
    "start_time": "2023-07-07T19:10:16.532Z"
   },
   {
    "duration": 12,
    "start_time": "2023-07-07T19:10:45.493Z"
   },
   {
    "duration": 10,
    "start_time": "2023-07-07T19:13:45.534Z"
   },
   {
    "duration": 10,
    "start_time": "2023-07-07T19:13:49.614Z"
   },
   {
    "duration": 9,
    "start_time": "2023-07-07T19:13:54.022Z"
   },
   {
    "duration": 8,
    "start_time": "2023-07-07T19:24:51.973Z"
   },
   {
    "duration": 11,
    "start_time": "2023-07-07T19:24:55.450Z"
   },
   {
    "duration": 10,
    "start_time": "2023-07-07T19:25:02.000Z"
   },
   {
    "duration": 9,
    "start_time": "2023-07-07T19:25:06.889Z"
   },
   {
    "duration": 8,
    "start_time": "2023-07-07T19:26:21.432Z"
   },
   {
    "duration": 12,
    "start_time": "2023-07-07T19:26:41.989Z"
   },
   {
    "duration": 10,
    "start_time": "2023-07-07T19:27:22.047Z"
   },
   {
    "duration": 12,
    "start_time": "2023-07-07T19:27:42.895Z"
   },
   {
    "duration": 8,
    "start_time": "2023-07-07T19:28:06.519Z"
   },
   {
    "duration": 642,
    "start_time": "2023-07-07T19:34:23.192Z"
   },
   {
    "duration": 91,
    "start_time": "2023-07-07T19:34:23.836Z"
   },
   {
    "duration": 31,
    "start_time": "2023-07-07T19:34:23.928Z"
   },
   {
    "duration": 33,
    "start_time": "2023-07-07T19:34:23.961Z"
   },
   {
    "duration": 5,
    "start_time": "2023-07-07T19:34:23.995Z"
   },
   {
    "duration": 13,
    "start_time": "2023-07-07T19:34:24.002Z"
   },
   {
    "duration": 7,
    "start_time": "2023-07-07T19:34:24.016Z"
   },
   {
    "duration": 102,
    "start_time": "2023-07-07T19:34:24.025Z"
   },
   {
    "duration": 50,
    "start_time": "2023-07-07T19:34:24.128Z"
   },
   {
    "duration": 6,
    "start_time": "2023-07-07T19:34:24.181Z"
   },
   {
    "duration": 16,
    "start_time": "2023-07-07T19:34:24.188Z"
   },
   {
    "duration": 17,
    "start_time": "2023-07-07T19:34:24.206Z"
   },
   {
    "duration": 13,
    "start_time": "2023-07-07T19:34:24.225Z"
   },
   {
    "duration": 11,
    "start_time": "2023-07-07T19:34:24.239Z"
   },
   {
    "duration": 10,
    "start_time": "2023-07-07T19:34:24.252Z"
   },
   {
    "duration": 10,
    "start_time": "2023-07-07T19:34:24.263Z"
   },
   {
    "duration": 20,
    "start_time": "2023-07-07T19:34:24.275Z"
   },
   {
    "duration": 68,
    "start_time": "2023-07-07T19:52:04.382Z"
   },
   {
    "duration": 3,
    "start_time": "2023-07-07T19:52:06.741Z"
   },
   {
    "duration": 8,
    "start_time": "2023-07-07T19:52:07.894Z"
   },
   {
    "duration": 3,
    "start_time": "2023-07-07T19:52:19.196Z"
   },
   {
    "duration": 3,
    "start_time": "2023-07-07T19:52:19.494Z"
   },
   {
    "duration": 6,
    "start_time": "2023-07-07T19:55:24.812Z"
   },
   {
    "duration": 2,
    "start_time": "2023-07-07T19:55:31.598Z"
   },
   {
    "duration": 4,
    "start_time": "2023-07-07T19:55:34.551Z"
   },
   {
    "duration": 3,
    "start_time": "2023-07-07T19:55:54.714Z"
   },
   {
    "duration": 3,
    "start_time": "2023-07-07T19:56:05.838Z"
   },
   {
    "duration": 4,
    "start_time": "2023-07-07T19:56:07.794Z"
   },
   {
    "duration": 707,
    "start_time": "2023-07-07T20:07:46.415Z"
   },
   {
    "duration": 19,
    "start_time": "2023-07-07T20:08:43.435Z"
   },
   {
    "duration": 37,
    "start_time": "2023-07-07T20:09:34.243Z"
   },
   {
    "duration": 16,
    "start_time": "2023-07-07T20:09:39.553Z"
   },
   {
    "duration": 9,
    "start_time": "2023-07-07T20:11:03.519Z"
   },
   {
    "duration": 654,
    "start_time": "2023-07-07T20:13:45.638Z"
   },
   {
    "duration": 91,
    "start_time": "2023-07-07T20:13:46.294Z"
   },
   {
    "duration": 31,
    "start_time": "2023-07-07T20:13:46.386Z"
   },
   {
    "duration": 33,
    "start_time": "2023-07-07T20:13:46.419Z"
   },
   {
    "duration": 4,
    "start_time": "2023-07-07T20:13:46.454Z"
   },
   {
    "duration": 14,
    "start_time": "2023-07-07T20:13:46.460Z"
   },
   {
    "duration": 8,
    "start_time": "2023-07-07T20:13:46.476Z"
   },
   {
    "duration": 99,
    "start_time": "2023-07-07T20:13:46.485Z"
   },
   {
    "duration": 34,
    "start_time": "2023-07-07T20:13:46.585Z"
   },
   {
    "duration": 5,
    "start_time": "2023-07-07T20:13:46.621Z"
   },
   {
    "duration": 24,
    "start_time": "2023-07-07T20:13:46.628Z"
   },
   {
    "duration": 14,
    "start_time": "2023-07-07T20:13:46.654Z"
   },
   {
    "duration": 13,
    "start_time": "2023-07-07T20:13:46.670Z"
   },
   {
    "duration": 6,
    "start_time": "2023-07-07T20:13:46.684Z"
   },
   {
    "duration": 21,
    "start_time": "2023-07-07T20:13:46.692Z"
   },
   {
    "duration": 11,
    "start_time": "2023-07-07T20:13:46.715Z"
   },
   {
    "duration": 21,
    "start_time": "2023-07-07T20:13:46.727Z"
   },
   {
    "duration": 12,
    "start_time": "2023-07-07T20:13:46.750Z"
   },
   {
    "duration": 42,
    "start_time": "2023-07-07T20:13:46.764Z"
   },
   {
    "duration": 5,
    "start_time": "2023-07-07T20:13:46.808Z"
   },
   {
    "duration": 10,
    "start_time": "2023-07-07T20:13:46.815Z"
   },
   {
    "duration": 14,
    "start_time": "2023-07-07T20:13:46.826Z"
   },
   {
    "duration": 14,
    "start_time": "2023-07-07T20:14:10.847Z"
   },
   {
    "duration": 617,
    "start_time": "2023-07-07T20:51:13.502Z"
   },
   {
    "duration": 96,
    "start_time": "2023-07-07T20:51:14.122Z"
   },
   {
    "duration": 34,
    "start_time": "2023-07-07T20:51:14.219Z"
   },
   {
    "duration": 37,
    "start_time": "2023-07-07T20:51:14.255Z"
   },
   {
    "duration": 5,
    "start_time": "2023-07-07T20:51:14.294Z"
   },
   {
    "duration": 7,
    "start_time": "2023-07-07T20:51:14.301Z"
   },
   {
    "duration": 12,
    "start_time": "2023-07-07T20:51:14.310Z"
   },
   {
    "duration": 101,
    "start_time": "2023-07-07T20:51:14.324Z"
   },
   {
    "duration": 54,
    "start_time": "2023-07-07T20:51:14.427Z"
   },
   {
    "duration": 6,
    "start_time": "2023-07-07T20:51:14.484Z"
   },
   {
    "duration": 7,
    "start_time": "2023-07-07T20:51:14.491Z"
   },
   {
    "duration": 11,
    "start_time": "2023-07-07T20:51:14.499Z"
   },
   {
    "duration": 11,
    "start_time": "2023-07-07T20:51:14.512Z"
   },
   {
    "duration": 32,
    "start_time": "2023-07-07T20:51:14.525Z"
   },
   {
    "duration": 10,
    "start_time": "2023-07-07T20:51:14.559Z"
   },
   {
    "duration": 13,
    "start_time": "2023-07-07T20:51:14.571Z"
   },
   {
    "duration": 18,
    "start_time": "2023-07-07T20:51:14.586Z"
   },
   {
    "duration": 12,
    "start_time": "2023-07-07T20:51:14.606Z"
   },
   {
    "duration": 45,
    "start_time": "2023-07-07T20:51:14.620Z"
   },
   {
    "duration": 5,
    "start_time": "2023-07-07T20:51:14.667Z"
   },
   {
    "duration": 13,
    "start_time": "2023-07-07T20:51:14.674Z"
   },
   {
    "duration": 14,
    "start_time": "2023-07-07T20:51:14.689Z"
   },
   {
    "duration": 16,
    "start_time": "2023-07-07T20:51:14.705Z"
   },
   {
    "duration": 650,
    "start_time": "2023-07-07T21:06:05.829Z"
   },
   {
    "duration": 93,
    "start_time": "2023-07-07T21:06:06.482Z"
   },
   {
    "duration": 31,
    "start_time": "2023-07-07T21:06:06.576Z"
   },
   {
    "duration": 31,
    "start_time": "2023-07-07T21:06:06.609Z"
   },
   {
    "duration": 5,
    "start_time": "2023-07-07T21:06:06.652Z"
   },
   {
    "duration": 14,
    "start_time": "2023-07-07T21:06:06.658Z"
   },
   {
    "duration": 19,
    "start_time": "2023-07-07T21:06:06.673Z"
   },
   {
    "duration": 94,
    "start_time": "2023-07-07T21:06:06.694Z"
   },
   {
    "duration": 34,
    "start_time": "2023-07-07T21:06:06.789Z"
   },
   {
    "duration": 5,
    "start_time": "2023-07-07T21:06:06.826Z"
   },
   {
    "duration": 23,
    "start_time": "2023-07-07T21:06:06.832Z"
   },
   {
    "duration": 21,
    "start_time": "2023-07-07T21:06:06.857Z"
   },
   {
    "duration": 12,
    "start_time": "2023-07-07T21:06:06.880Z"
   },
   {
    "duration": 15,
    "start_time": "2023-07-07T21:06:06.893Z"
   },
   {
    "duration": 9,
    "start_time": "2023-07-07T21:06:06.910Z"
   },
   {
    "duration": 11,
    "start_time": "2023-07-07T21:06:06.920Z"
   },
   {
    "duration": 21,
    "start_time": "2023-07-07T21:06:06.933Z"
   },
   {
    "duration": 10,
    "start_time": "2023-07-07T21:06:06.956Z"
   },
   {
    "duration": 41,
    "start_time": "2023-07-07T21:06:06.967Z"
   },
   {
    "duration": 5,
    "start_time": "2023-07-07T21:06:07.009Z"
   },
   {
    "duration": 11,
    "start_time": "2023-07-07T21:06:07.016Z"
   },
   {
    "duration": 70,
    "start_time": "2023-07-07T21:09:08.981Z"
   },
   {
    "duration": 8,
    "start_time": "2023-07-07T21:09:17.426Z"
   },
   {
    "duration": 6,
    "start_time": "2023-07-07T21:09:21.611Z"
   },
   {
    "duration": 771,
    "start_time": "2023-07-08T09:40:14.863Z"
   },
   {
    "duration": 293,
    "start_time": "2023-07-08T09:40:15.636Z"
   },
   {
    "duration": 31,
    "start_time": "2023-07-08T09:40:15.931Z"
   },
   {
    "duration": 37,
    "start_time": "2023-07-08T09:40:15.964Z"
   },
   {
    "duration": 5,
    "start_time": "2023-07-08T09:40:16.003Z"
   },
   {
    "duration": 8,
    "start_time": "2023-07-08T09:40:16.010Z"
   },
   {
    "duration": 7,
    "start_time": "2023-07-08T09:40:16.019Z"
   },
   {
    "duration": 105,
    "start_time": "2023-07-08T09:40:16.027Z"
   },
   {
    "duration": 43,
    "start_time": "2023-07-08T09:40:16.134Z"
   },
   {
    "duration": 25,
    "start_time": "2023-07-08T09:40:16.179Z"
   },
   {
    "duration": 5,
    "start_time": "2023-07-08T09:40:16.206Z"
   },
   {
    "duration": 13,
    "start_time": "2023-07-08T09:40:16.213Z"
   },
   {
    "duration": 10,
    "start_time": "2023-07-08T09:40:16.228Z"
   },
   {
    "duration": 6,
    "start_time": "2023-07-08T09:40:16.241Z"
   },
   {
    "duration": 5,
    "start_time": "2023-07-08T09:40:16.248Z"
   },
   {
    "duration": 6,
    "start_time": "2023-07-08T09:40:16.254Z"
   },
   {
    "duration": 42,
    "start_time": "2023-07-08T09:40:16.261Z"
   },
   {
    "duration": 42,
    "start_time": "2023-07-08T09:40:16.304Z"
   },
   {
    "duration": 6,
    "start_time": "2023-07-08T09:40:16.347Z"
   },
   {
    "duration": 11,
    "start_time": "2023-07-08T09:40:16.354Z"
   },
   {
    "duration": 22,
    "start_time": "2023-07-08T09:40:20.626Z"
   },
   {
    "duration": 4,
    "start_time": "2023-07-08T09:54:29.997Z"
   },
   {
    "duration": 3,
    "start_time": "2023-07-08T10:02:24.991Z"
   },
   {
    "duration": 3,
    "start_time": "2023-07-08T10:02:34.331Z"
   },
   {
    "duration": 60024,
    "start_time": "2023-07-08T10:08:15.754Z"
   },
   {
    "duration": 9,
    "start_time": "2023-07-08T10:09:32.163Z"
   },
   {
    "duration": 3,
    "start_time": "2023-07-08T10:34:32.342Z"
   },
   {
    "duration": 3,
    "start_time": "2023-07-08T10:34:58.304Z"
   },
   {
    "duration": 4,
    "start_time": "2023-07-08T10:35:04.456Z"
   },
   {
    "duration": 115,
    "start_time": "2023-07-08T10:38:08.186Z"
   },
   {
    "duration": 106,
    "start_time": "2023-07-08T10:38:24.163Z"
   },
   {
    "duration": 70098,
    "start_time": "2023-07-08T10:38:41.002Z"
   },
   {
    "duration": 8,
    "start_time": "2023-07-08T10:40:01.826Z"
   },
   {
    "duration": 8,
    "start_time": "2023-07-08T10:40:05.928Z"
   },
   {
    "duration": 155,
    "start_time": "2023-07-08T10:40:25.322Z"
   },
   {
    "duration": 7,
    "start_time": "2023-07-08T10:40:58.154Z"
   },
   {
    "duration": 6138,
    "start_time": "2023-07-08T10:41:32.544Z"
   },
   {
    "duration": 10,
    "start_time": "2023-07-08T10:41:41.317Z"
   },
   {
    "duration": 8,
    "start_time": "2023-07-08T10:41:46.816Z"
   },
   {
    "duration": 98,
    "start_time": "2023-07-08T10:41:53.460Z"
   },
   {
    "duration": 90,
    "start_time": "2023-07-08T10:42:03.432Z"
   },
   {
    "duration": 9,
    "start_time": "2023-07-08T10:45:50.563Z"
   },
   {
    "duration": 225,
    "start_time": "2023-07-08T10:45:55.580Z"
   },
   {
    "duration": 238,
    "start_time": "2023-07-08T10:47:20.706Z"
   },
   {
    "duration": 222,
    "start_time": "2023-07-08T10:50:49.199Z"
   },
   {
    "duration": 220,
    "start_time": "2023-07-08T10:50:59.976Z"
   },
   {
    "duration": 212,
    "start_time": "2023-07-08T10:53:27.181Z"
   },
   {
    "duration": 259,
    "start_time": "2023-07-08T10:53:32.376Z"
   },
   {
    "duration": 4,
    "start_time": "2023-07-08T10:53:39.713Z"
   },
   {
    "duration": 14,
    "start_time": "2023-07-08T10:53:45.556Z"
   },
   {
    "duration": 74,
    "start_time": "2023-07-08T10:53:53.285Z"
   },
   {
    "duration": 149,
    "start_time": "2023-07-08T10:53:58.077Z"
   },
   {
    "duration": 8,
    "start_time": "2023-07-08T10:54:00.052Z"
   },
   {
    "duration": 5,
    "start_time": "2023-07-08T10:54:05.105Z"
   },
   {
    "duration": 216,
    "start_time": "2023-07-08T10:54:20.081Z"
   },
   {
    "duration": 5,
    "start_time": "2023-07-08T10:54:35.094Z"
   },
   {
    "duration": 7,
    "start_time": "2023-07-08T10:54:38.054Z"
   },
   {
    "duration": 5,
    "start_time": "2023-07-08T10:54:39.714Z"
   },
   {
    "duration": 7,
    "start_time": "2023-07-08T10:54:51.570Z"
   },
   {
    "duration": 7,
    "start_time": "2023-07-08T10:54:54.740Z"
   },
   {
    "duration": 5,
    "start_time": "2023-07-08T10:54:56.710Z"
   },
   {
    "duration": 82,
    "start_time": "2023-07-08T10:55:00.142Z"
   },
   {
    "duration": 265,
    "start_time": "2023-07-08T10:55:02.651Z"
   },
   {
    "duration": 243,
    "start_time": "2023-07-08T10:55:32.058Z"
   },
   {
    "duration": 219,
    "start_time": "2023-07-08T10:55:39.251Z"
   },
   {
    "duration": 215,
    "start_time": "2023-07-08T10:56:10.579Z"
   },
   {
    "duration": 245,
    "start_time": "2023-07-08T10:56:28.695Z"
   },
   {
    "duration": 215,
    "start_time": "2023-07-08T10:58:50.860Z"
   },
   {
    "duration": 300,
    "start_time": "2023-07-08T11:01:05.992Z"
   },
   {
    "duration": 219,
    "start_time": "2023-07-08T11:01:11.432Z"
   },
   {
    "duration": 244,
    "start_time": "2023-07-08T11:01:18.295Z"
   },
   {
    "duration": 230,
    "start_time": "2023-07-08T11:01:23.242Z"
   },
   {
    "duration": 251,
    "start_time": "2023-07-08T11:04:46.508Z"
   },
   {
    "duration": 248,
    "start_time": "2023-07-08T11:04:51.999Z"
   },
   {
    "duration": 221,
    "start_time": "2023-07-08T11:06:27.160Z"
   },
   {
    "duration": 3,
    "start_time": "2023-07-08T11:07:11.293Z"
   },
   {
    "duration": 293,
    "start_time": "2023-07-08T11:07:55.998Z"
   },
   {
    "duration": 247,
    "start_time": "2023-07-08T11:08:00.692Z"
   },
   {
    "duration": 301,
    "start_time": "2023-07-08T11:26:32.574Z"
   },
   {
    "duration": 6,
    "start_time": "2023-07-08T11:30:16.993Z"
   },
   {
    "duration": 113,
    "start_time": "2023-07-08T11:30:20.029Z"
   },
   {
    "duration": 3,
    "start_time": "2023-07-08T11:30:58.073Z"
   },
   {
    "duration": 9,
    "start_time": "2023-07-08T11:31:00.635Z"
   },
   {
    "duration": 198,
    "start_time": "2023-07-08T11:33:27.659Z"
   },
   {
    "duration": 296,
    "start_time": "2023-07-08T11:33:32.671Z"
   },
   {
    "duration": 4,
    "start_time": "2023-07-08T11:33:46.619Z"
   },
   {
    "duration": 4,
    "start_time": "2023-07-08T11:34:19.219Z"
   },
   {
    "duration": 4,
    "start_time": "2023-07-08T11:34:22.356Z"
   },
   {
    "duration": 3,
    "start_time": "2023-07-08T11:34:25.119Z"
   },
   {
    "duration": 232,
    "start_time": "2023-07-08T11:34:32.932Z"
   },
   {
    "duration": 3,
    "start_time": "2023-07-08T11:34:36.414Z"
   },
   {
    "duration": 3,
    "start_time": "2023-07-08T11:34:38.766Z"
   },
   {
    "duration": 117,
    "start_time": "2023-07-08T11:34:47.024Z"
   },
   {
    "duration": 185,
    "start_time": "2023-07-08T11:34:53.743Z"
   },
   {
    "duration": 191,
    "start_time": "2023-07-08T11:35:30.938Z"
   },
   {
    "duration": 206,
    "start_time": "2023-07-08T11:36:01.782Z"
   },
   {
    "duration": 5,
    "start_time": "2023-07-08T11:43:55.960Z"
   },
   {
    "duration": 3,
    "start_time": "2023-07-08T11:43:58.641Z"
   },
   {
    "duration": 3,
    "start_time": "2023-07-08T11:44:00.849Z"
   },
   {
    "duration": 199,
    "start_time": "2023-07-08T11:44:10.563Z"
   },
   {
    "duration": 284,
    "start_time": "2023-07-08T11:44:27.487Z"
   },
   {
    "duration": 288,
    "start_time": "2023-07-08T11:44:43.282Z"
   },
   {
    "duration": 929,
    "start_time": "2023-07-08T11:45:13.464Z"
   },
   {
    "duration": 846,
    "start_time": "2023-07-08T11:45:23.957Z"
   },
   {
    "duration": 884,
    "start_time": "2023-07-08T11:45:36.078Z"
   },
   {
    "duration": 767,
    "start_time": "2023-07-08T11:45:41.354Z"
   },
   {
    "duration": 875,
    "start_time": "2023-07-08T11:46:01.918Z"
   },
   {
    "duration": 918,
    "start_time": "2023-07-08T11:46:08.719Z"
   },
   {
    "duration": 9,
    "start_time": "2023-07-08T11:47:56.214Z"
   },
   {
    "duration": 4,
    "start_time": "2023-07-08T11:48:03.260Z"
   },
   {
    "duration": 882,
    "start_time": "2023-07-08T11:48:54.066Z"
   },
   {
    "duration": 729,
    "start_time": "2023-07-08T11:49:11.770Z"
   },
   {
    "duration": 2735,
    "start_time": "2023-07-08T11:51:04.394Z"
   },
   {
    "duration": 9,
    "start_time": "2023-07-08T11:53:18.427Z"
   },
   {
    "duration": 19,
    "start_time": "2023-07-08T11:53:23.492Z"
   },
   {
    "duration": 679,
    "start_time": "2023-07-08T11:59:41.426Z"
   },
   {
    "duration": 727,
    "start_time": "2023-07-08T12:00:08.999Z"
   },
   {
    "duration": 824,
    "start_time": "2023-07-08T12:00:15.555Z"
   },
   {
    "duration": 708,
    "start_time": "2023-07-08T12:00:25.171Z"
   },
   {
    "duration": 698,
    "start_time": "2023-07-08T12:00:35.026Z"
   },
   {
    "duration": 718,
    "start_time": "2023-07-08T12:00:52.856Z"
   },
   {
    "duration": 722,
    "start_time": "2023-07-08T12:01:29.244Z"
   },
   {
    "duration": 812,
    "start_time": "2023-07-08T12:03:26.300Z"
   },
   {
    "duration": 789,
    "start_time": "2023-07-08T12:03:37.348Z"
   },
   {
    "duration": 817,
    "start_time": "2023-07-08T12:06:46.024Z"
   },
   {
    "duration": 306,
    "start_time": "2023-07-08T12:10:00.324Z"
   },
   {
    "duration": 107,
    "start_time": "2023-07-08T12:10:08.170Z"
   },
   {
    "duration": 142,
    "start_time": "2023-07-08T12:19:29.928Z"
   },
   {
    "duration": 102,
    "start_time": "2023-07-08T12:19:38.459Z"
   },
   {
    "duration": 145,
    "start_time": "2023-07-08T12:19:54.622Z"
   },
   {
    "duration": 317,
    "start_time": "2023-07-08T12:20:20.428Z"
   },
   {
    "duration": 345,
    "start_time": "2023-07-08T12:20:58.495Z"
   },
   {
    "duration": 3,
    "start_time": "2023-07-08T12:24:23.850Z"
   },
   {
    "duration": 4,
    "start_time": "2023-07-08T12:24:32.447Z"
   },
   {
    "duration": 9,
    "start_time": "2023-07-08T12:24:37.898Z"
   },
   {
    "duration": 3,
    "start_time": "2023-07-08T12:25:02.739Z"
   },
   {
    "duration": 367,
    "start_time": "2023-07-08T12:25:15.100Z"
   },
   {
    "duration": 346,
    "start_time": "2023-07-08T12:25:29.334Z"
   },
   {
    "duration": 3,
    "start_time": "2023-07-08T12:25:43.964Z"
   },
   {
    "duration": 379,
    "start_time": "2023-07-08T12:25:50.718Z"
   },
   {
    "duration": 1434,
    "start_time": "2023-07-08T12:43:31.291Z"
   },
   {
    "duration": 102,
    "start_time": "2023-07-08T12:44:31.529Z"
   },
   {
    "duration": 348,
    "start_time": "2023-07-08T12:44:35.527Z"
   },
   {
    "duration": 342,
    "start_time": "2023-07-08T12:46:05.556Z"
   },
   {
    "duration": 339,
    "start_time": "2023-07-08T12:46:23.652Z"
   },
   {
    "duration": 352,
    "start_time": "2023-07-08T12:47:33.611Z"
   },
   {
    "duration": 359,
    "start_time": "2023-07-08T13:03:35.297Z"
   },
   {
    "duration": 395,
    "start_time": "2023-07-08T13:05:05.920Z"
   },
   {
    "duration": 342,
    "start_time": "2023-07-08T13:05:14.365Z"
   },
   {
    "duration": 663,
    "start_time": "2023-07-08T13:05:32.761Z"
   },
   {
    "duration": 684,
    "start_time": "2023-07-08T13:05:41.226Z"
   },
   {
    "duration": 817,
    "start_time": "2023-07-08T13:05:51.249Z"
   },
   {
    "duration": 791,
    "start_time": "2023-07-08T13:09:08.428Z"
   },
   {
    "duration": 878,
    "start_time": "2023-07-08T13:09:17.650Z"
   },
   {
    "duration": 819,
    "start_time": "2023-07-08T13:09:23.009Z"
   },
   {
    "duration": 1434,
    "start_time": "2023-07-08T13:09:29.679Z"
   },
   {
    "duration": 395,
    "start_time": "2023-07-08T13:11:38.624Z"
   },
   {
    "duration": 299,
    "start_time": "2023-07-08T13:11:54.111Z"
   },
   {
    "duration": 330,
    "start_time": "2023-07-08T13:12:03.696Z"
   },
   {
    "duration": 336,
    "start_time": "2023-07-08T13:12:09.891Z"
   },
   {
    "duration": 351,
    "start_time": "2023-07-08T13:12:59.653Z"
   },
   {
    "duration": 717,
    "start_time": "2023-07-08T13:13:27.965Z"
   },
   {
    "duration": 318,
    "start_time": "2023-07-08T13:13:38.570Z"
   },
   {
    "duration": 362,
    "start_time": "2023-07-08T13:14:05.509Z"
   },
   {
    "duration": 350,
    "start_time": "2023-07-08T13:14:11.682Z"
   },
   {
    "duration": 446,
    "start_time": "2023-07-08T13:15:05.904Z"
   },
   {
    "duration": 796,
    "start_time": "2023-07-08T13:15:16.614Z"
   },
   {
    "duration": 662,
    "start_time": "2023-07-08T13:15:56.572Z"
   },
   {
    "duration": 664,
    "start_time": "2023-07-08T13:16:01.642Z"
   },
   {
    "duration": 699,
    "start_time": "2023-07-08T13:16:06.266Z"
   },
   {
    "duration": 1324,
    "start_time": "2023-07-08T13:16:13.657Z"
   },
   {
    "duration": 745,
    "start_time": "2023-07-08T13:17:31.259Z"
   },
   {
    "duration": 788,
    "start_time": "2023-07-08T13:17:41.369Z"
   },
   {
    "duration": 776,
    "start_time": "2023-07-08T13:17:46.785Z"
   },
   {
    "duration": 763,
    "start_time": "2023-07-08T13:17:51.129Z"
   },
   {
    "duration": 768,
    "start_time": "2023-07-08T13:18:02.688Z"
   },
   {
    "duration": 763,
    "start_time": "2023-07-08T13:18:39.449Z"
   },
   {
    "duration": 754,
    "start_time": "2023-07-08T13:18:57.488Z"
   },
   {
    "duration": 769,
    "start_time": "2023-07-08T13:19:07.472Z"
   },
   {
    "duration": 820,
    "start_time": "2023-07-08T13:19:13.180Z"
   },
   {
    "duration": 1456,
    "start_time": "2023-07-08T13:19:43.521Z"
   },
   {
    "duration": 807,
    "start_time": "2023-07-08T13:20:17.351Z"
   },
   {
    "duration": 754,
    "start_time": "2023-07-08T13:21:32.100Z"
   },
   {
    "duration": 711,
    "start_time": "2023-07-08T13:21:56.467Z"
   },
   {
    "duration": 768,
    "start_time": "2023-07-08T13:22:06.389Z"
   },
   {
    "duration": 756,
    "start_time": "2023-07-08T13:43:55.071Z"
   },
   {
    "duration": 596,
    "start_time": "2023-07-08T13:44:37.327Z"
   },
   {
    "duration": 574,
    "start_time": "2023-07-08T13:45:54.493Z"
   },
   {
    "duration": 778,
    "start_time": "2023-07-08T13:46:57.270Z"
   },
   {
    "duration": 1340,
    "start_time": "2023-07-08T13:47:26.810Z"
   },
   {
    "duration": 806,
    "start_time": "2023-07-08T13:47:55.955Z"
   },
   {
    "duration": 37,
    "start_time": "2023-07-08T13:49:31.610Z"
   },
   {
    "duration": 44,
    "start_time": "2023-07-08T13:50:00.740Z"
   },
   {
    "duration": 70,
    "start_time": "2023-07-08T13:50:07.766Z"
   },
   {
    "duration": 903,
    "start_time": "2023-07-08T13:50:32.226Z"
   },
   {
    "duration": 809,
    "start_time": "2023-07-08T13:50:43.028Z"
   },
   {
    "duration": 891,
    "start_time": "2023-07-08T13:50:46.439Z"
   },
   {
    "duration": 749,
    "start_time": "2023-07-08T13:50:57.451Z"
   },
   {
    "duration": 91,
    "start_time": "2023-07-08T13:53:00.056Z"
   },
   {
    "duration": 63,
    "start_time": "2023-07-08T13:53:15.011Z"
   },
   {
    "duration": 74,
    "start_time": "2023-07-08T13:54:07.107Z"
   },
   {
    "duration": 37,
    "start_time": "2023-07-08T13:54:12.917Z"
   },
   {
    "duration": 44,
    "start_time": "2023-07-08T13:57:08.806Z"
   },
   {
    "duration": 53,
    "start_time": "2023-07-08T13:57:14.637Z"
   },
   {
    "duration": 42,
    "start_time": "2023-07-08T13:57:19.527Z"
   },
   {
    "duration": 43,
    "start_time": "2023-07-08T13:57:26.977Z"
   },
   {
    "duration": 763,
    "start_time": "2023-07-08T13:58:14.025Z"
   },
   {
    "duration": 803,
    "start_time": "2023-07-08T13:58:25.875Z"
   },
   {
    "duration": 730,
    "start_time": "2023-07-08T13:58:35.114Z"
   },
   {
    "duration": 1316,
    "start_time": "2023-07-08T13:58:43.928Z"
   },
   {
    "duration": 737,
    "start_time": "2023-07-08T13:59:04.842Z"
   },
   {
    "duration": 108,
    "start_time": "2023-07-08T13:59:23.163Z"
   },
   {
    "duration": 812,
    "start_time": "2023-07-08T13:59:32.648Z"
   },
   {
    "duration": 786,
    "start_time": "2023-07-08T13:59:39.543Z"
   },
   {
    "duration": 88,
    "start_time": "2023-07-08T14:04:33.390Z"
   },
   {
    "duration": 158,
    "start_time": "2023-07-08T14:04:41.817Z"
   },
   {
    "duration": 796,
    "start_time": "2023-07-08T14:04:50.742Z"
   },
   {
    "duration": 112,
    "start_time": "2023-07-08T14:06:20.598Z"
   },
   {
    "duration": 105,
    "start_time": "2023-07-08T14:06:31.402Z"
   },
   {
    "duration": 112,
    "start_time": "2023-07-08T14:08:00.590Z"
   },
   {
    "duration": 1048,
    "start_time": "2023-07-08T14:08:05.560Z"
   },
   {
    "duration": 988,
    "start_time": "2023-07-08T14:08:16.991Z"
   },
   {
    "duration": 193,
    "start_time": "2023-07-08T14:12:34.824Z"
   },
   {
    "duration": 150,
    "start_time": "2023-07-08T14:16:34.595Z"
   },
   {
    "duration": 13,
    "start_time": "2023-07-08T14:16:44.005Z"
   },
   {
    "duration": 292,
    "start_time": "2023-07-08T14:16:47.473Z"
   },
   {
    "duration": 257,
    "start_time": "2023-07-08T14:16:58.400Z"
   },
   {
    "duration": 260,
    "start_time": "2023-07-08T14:17:02.512Z"
   },
   {
    "duration": 228,
    "start_time": "2023-07-08T14:17:07.125Z"
   },
   {
    "duration": 207,
    "start_time": "2023-07-08T14:17:10.311Z"
   },
   {
    "duration": 215,
    "start_time": "2023-07-08T14:17:13.788Z"
   },
   {
    "duration": 181,
    "start_time": "2023-07-08T14:17:51.958Z"
   },
   {
    "duration": 1424,
    "start_time": "2023-07-08T14:18:23.835Z"
   },
   {
    "duration": 197,
    "start_time": "2023-07-08T14:18:26.502Z"
   },
   {
    "duration": 16,
    "start_time": "2023-07-08T14:20:24.624Z"
   },
   {
    "duration": 12,
    "start_time": "2023-07-08T14:20:42.118Z"
   },
   {
    "duration": 18,
    "start_time": "2023-07-08T14:20:46.028Z"
   },
   {
    "duration": 15,
    "start_time": "2023-07-08T14:20:50.319Z"
   },
   {
    "duration": 142,
    "start_time": "2023-07-08T14:23:08.261Z"
   },
   {
    "duration": 143,
    "start_time": "2023-07-08T14:23:11.262Z"
   },
   {
    "duration": 155,
    "start_time": "2023-07-08T14:24:01.875Z"
   },
   {
    "duration": 209,
    "start_time": "2023-07-08T14:24:05.651Z"
   },
   {
    "duration": 239,
    "start_time": "2023-07-08T14:24:19.076Z"
   },
   {
    "duration": 162,
    "start_time": "2023-07-08T14:24:22.382Z"
   },
   {
    "duration": 775,
    "start_time": "2023-07-08T15:01:41.972Z"
   },
   {
    "duration": 127,
    "start_time": "2023-07-08T15:02:00.964Z"
   },
   {
    "duration": 768,
    "start_time": "2023-07-08T15:02:10.362Z"
   },
   {
    "duration": 788,
    "start_time": "2023-07-08T15:03:28.630Z"
   },
   {
    "duration": 725,
    "start_time": "2023-07-08T15:04:27.307Z"
   },
   {
    "duration": 742,
    "start_time": "2023-07-08T15:04:53.201Z"
   },
   {
    "duration": 14,
    "start_time": "2023-07-08T15:06:37.040Z"
   },
   {
    "duration": 738,
    "start_time": "2023-07-08T15:07:02.835Z"
   },
   {
    "duration": 728,
    "start_time": "2023-07-08T15:07:43.135Z"
   },
   {
    "duration": 1286,
    "start_time": "2023-07-08T15:09:20.977Z"
   },
   {
    "duration": 14,
    "start_time": "2023-07-08T15:12:19.937Z"
   },
   {
    "duration": 75,
    "start_time": "2023-07-08T15:12:28.411Z"
   },
   {
    "duration": 739,
    "start_time": "2023-07-08T15:12:38.073Z"
   },
   {
    "duration": 174,
    "start_time": "2023-07-08T15:12:38.813Z"
   },
   {
    "duration": 167,
    "start_time": "2023-07-08T15:12:40.923Z"
   },
   {
    "duration": 757,
    "start_time": "2023-07-08T15:14:21.945Z"
   },
   {
    "duration": 179,
    "start_time": "2023-07-08T15:14:22.703Z"
   },
   {
    "duration": 117,
    "start_time": "2023-07-08T15:15:08.373Z"
   },
   {
    "duration": 205,
    "start_time": "2023-07-08T15:18:49.588Z"
   },
   {
    "duration": 205,
    "start_time": "2023-07-08T15:18:58.819Z"
   },
   {
    "duration": 194,
    "start_time": "2023-07-08T15:19:02.530Z"
   },
   {
    "duration": 221,
    "start_time": "2023-07-08T15:19:06.264Z"
   },
   {
    "duration": 227,
    "start_time": "2023-07-08T15:19:47.611Z"
   },
   {
    "duration": 231,
    "start_time": "2023-07-08T15:19:53.471Z"
   },
   {
    "duration": 494,
    "start_time": "2023-07-08T15:26:59.144Z"
   },
   {
    "duration": 272,
    "start_time": "2023-07-08T15:29:05.122Z"
   },
   {
    "duration": 232,
    "start_time": "2023-07-08T15:29:30.909Z"
   },
   {
    "duration": 229,
    "start_time": "2023-07-08T15:29:43.541Z"
   },
   {
    "duration": 1103,
    "start_time": "2023-07-08T15:31:28.975Z"
   },
   {
    "duration": 90,
    "start_time": "2023-07-08T15:31:30.081Z"
   },
   {
    "duration": 29,
    "start_time": "2023-07-08T15:31:30.172Z"
   },
   {
    "duration": 44,
    "start_time": "2023-07-08T15:31:30.204Z"
   },
   {
    "duration": 28,
    "start_time": "2023-07-08T15:31:30.249Z"
   },
   {
    "duration": 32,
    "start_time": "2023-07-08T15:31:30.279Z"
   },
   {
    "duration": 52,
    "start_time": "2023-07-08T15:31:30.314Z"
   },
   {
    "duration": 137,
    "start_time": "2023-07-08T15:31:30.368Z"
   },
   {
    "duration": 33,
    "start_time": "2023-07-08T15:31:30.507Z"
   },
   {
    "duration": 61,
    "start_time": "2023-07-08T15:31:30.543Z"
   },
   {
    "duration": 62,
    "start_time": "2023-07-08T15:31:30.606Z"
   },
   {
    "duration": 34,
    "start_time": "2023-07-08T15:31:30.670Z"
   },
   {
    "duration": 118,
    "start_time": "2023-07-08T15:31:30.706Z"
   },
   {
    "duration": 63,
    "start_time": "2023-07-08T15:31:30.826Z"
   },
   {
    "duration": 56,
    "start_time": "2023-07-08T15:31:30.890Z"
   },
   {
    "duration": 60,
    "start_time": "2023-07-08T15:31:30.948Z"
   },
   {
    "duration": 45,
    "start_time": "2023-07-08T15:31:31.010Z"
   },
   {
    "duration": 78,
    "start_time": "2023-07-08T15:31:31.057Z"
   },
   {
    "duration": 63,
    "start_time": "2023-07-08T15:31:31.136Z"
   },
   {
    "duration": 67,
    "start_time": "2023-07-08T15:31:31.201Z"
   },
   {
    "duration": 33,
    "start_time": "2023-07-08T15:31:31.270Z"
   },
   {
    "duration": 797,
    "start_time": "2023-07-08T15:31:31.305Z"
   },
   {
    "duration": 260,
    "start_time": "2023-07-08T15:31:32.103Z"
   },
   {
    "duration": 299,
    "start_time": "2023-07-08T15:31:32.366Z"
   },
   {
    "duration": 105,
    "start_time": "2023-07-08T15:32:35.634Z"
   },
   {
    "duration": 740,
    "start_time": "2023-07-08T15:47:09.249Z"
   },
   {
    "duration": 786,
    "start_time": "2023-07-08T15:48:43.660Z"
   },
   {
    "duration": 744,
    "start_time": "2023-07-08T15:48:47.823Z"
   },
   {
    "duration": 835,
    "start_time": "2023-07-08T15:49:38.687Z"
   },
   {
    "duration": 721,
    "start_time": "2023-07-08T15:49:48.376Z"
   },
   {
    "duration": 254,
    "start_time": "2023-07-08T15:52:12.656Z"
   },
   {
    "duration": 236,
    "start_time": "2023-07-08T16:20:26.977Z"
   },
   {
    "duration": 228,
    "start_time": "2023-07-08T16:21:01.049Z"
   },
   {
    "duration": 896,
    "start_time": "2023-07-08T16:23:49.625Z"
   },
   {
    "duration": 741,
    "start_time": "2023-07-08T16:24:03.110Z"
   },
   {
    "duration": 904,
    "start_time": "2023-07-08T16:24:56.814Z"
   },
   {
    "duration": 737,
    "start_time": "2023-07-08T16:25:29.605Z"
   },
   {
    "duration": 898,
    "start_time": "2023-07-08T16:26:00.890Z"
   },
   {
    "duration": 780,
    "start_time": "2023-07-08T16:26:07.054Z"
   },
   {
    "duration": 244,
    "start_time": "2023-07-08T16:27:54.206Z"
   },
   {
    "duration": 356,
    "start_time": "2023-07-08T16:27:59.901Z"
   },
   {
    "duration": 251,
    "start_time": "2023-07-08T16:28:04.805Z"
   },
   {
    "duration": 247,
    "start_time": "2023-07-08T16:28:48.917Z"
   },
   {
    "duration": 285,
    "start_time": "2023-07-08T16:29:20.961Z"
   },
   {
    "duration": 256,
    "start_time": "2023-07-08T16:29:27.815Z"
   },
   {
    "duration": 327,
    "start_time": "2023-07-08T16:29:37.233Z"
   },
   {
    "duration": 340,
    "start_time": "2023-07-08T16:29:50.021Z"
   },
   {
    "duration": 292,
    "start_time": "2023-07-08T16:29:55.191Z"
   },
   {
    "duration": 261,
    "start_time": "2023-07-08T16:29:57.747Z"
   },
   {
    "duration": 244,
    "start_time": "2023-07-08T16:30:04.435Z"
   },
   {
    "duration": 261,
    "start_time": "2023-07-08T16:30:09.563Z"
   },
   {
    "duration": 258,
    "start_time": "2023-07-08T16:30:12.617Z"
   },
   {
    "duration": 264,
    "start_time": "2023-07-08T16:37:01.402Z"
   },
   {
    "duration": 207,
    "start_time": "2023-07-08T16:39:29.249Z"
   },
   {
    "duration": 195,
    "start_time": "2023-07-08T16:39:40.343Z"
   },
   {
    "duration": 205,
    "start_time": "2023-07-08T16:39:45.061Z"
   },
   {
    "duration": 227,
    "start_time": "2023-07-08T16:42:03.359Z"
   },
   {
    "duration": 234,
    "start_time": "2023-07-08T16:42:16.498Z"
   },
   {
    "duration": 329,
    "start_time": "2023-07-08T16:44:59.200Z"
   },
   {
    "duration": 244,
    "start_time": "2023-07-08T16:46:24.544Z"
   },
   {
    "duration": 1122,
    "start_time": "2023-07-08T16:46:32.946Z"
   },
   {
    "duration": 1174,
    "start_time": "2023-07-08T16:46:46.448Z"
   },
   {
    "duration": 1123,
    "start_time": "2023-07-08T16:47:59.633Z"
   },
   {
    "duration": 1363,
    "start_time": "2023-07-08T17:04:28.155Z"
   },
   {
    "duration": 345,
    "start_time": "2023-07-08T17:04:46.029Z"
   },
   {
    "duration": 385,
    "start_time": "2023-07-08T17:04:50.620Z"
   },
   {
    "duration": 7,
    "start_time": "2023-07-08T17:05:47.425Z"
   },
   {
    "duration": 814,
    "start_time": "2023-07-08T17:06:07.953Z"
   },
   {
    "duration": 6,
    "start_time": "2023-07-08T17:06:39.339Z"
   },
   {
    "duration": 5,
    "start_time": "2023-07-08T17:06:48.657Z"
   },
   {
    "duration": 8,
    "start_time": "2023-07-08T17:08:42.804Z"
   },
   {
    "duration": 22,
    "start_time": "2023-07-08T17:08:49.288Z"
   },
   {
    "duration": 124,
    "start_time": "2023-07-08T17:09:12.796Z"
   },
   {
    "duration": 200,
    "start_time": "2023-07-08T17:09:28.149Z"
   },
   {
    "duration": 1136,
    "start_time": "2023-07-08T17:09:36.250Z"
   },
   {
    "duration": 1148,
    "start_time": "2023-07-08T17:09:52.605Z"
   },
   {
    "duration": 276,
    "start_time": "2023-07-08T17:20:12.534Z"
   },
   {
    "duration": 3,
    "start_time": "2023-07-08T17:20:14.711Z"
   },
   {
    "duration": 6,
    "start_time": "2023-07-08T17:20:35.558Z"
   },
   {
    "duration": 5,
    "start_time": "2023-07-08T17:20:58.847Z"
   },
   {
    "duration": 6,
    "start_time": "2023-07-08T17:21:29.415Z"
   },
   {
    "duration": 3,
    "start_time": "2023-07-08T17:22:05.096Z"
   },
   {
    "duration": 5,
    "start_time": "2023-07-08T17:22:20.528Z"
   },
   {
    "duration": 1240,
    "start_time": "2023-07-08T17:26:22.263Z"
   },
   {
    "duration": 4,
    "start_time": "2023-07-08T17:26:29.748Z"
   },
   {
    "duration": 4,
    "start_time": "2023-07-08T17:26:57.365Z"
   },
   {
    "duration": 4,
    "start_time": "2023-07-08T17:27:07.220Z"
   },
   {
    "duration": 8,
    "start_time": "2023-07-08T17:33:52.750Z"
   },
   {
    "duration": 462,
    "start_time": "2023-07-08T17:47:18.403Z"
   },
   {
    "duration": 239,
    "start_time": "2023-07-08T17:47:27.352Z"
   },
   {
    "duration": 1029,
    "start_time": "2023-07-08T17:47:33.800Z"
   },
   {
    "duration": 1268,
    "start_time": "2023-07-08T17:47:36.940Z"
   },
   {
    "duration": 2278,
    "start_time": "2023-07-08T17:47:46.613Z"
   },
   {
    "duration": 5369,
    "start_time": "2023-07-08T17:47:59.599Z"
   },
   {
    "duration": 1450,
    "start_time": "2023-07-08T17:57:06.422Z"
   },
   {
    "duration": 4,
    "start_time": "2023-07-08T17:57:15.436Z"
   },
   {
    "duration": 5,
    "start_time": "2023-07-08T17:57:33.940Z"
   },
   {
    "duration": 2203,
    "start_time": "2023-07-08T17:58:24.206Z"
   },
   {
    "duration": 5,
    "start_time": "2023-07-08T17:58:29.173Z"
   },
   {
    "duration": 9,
    "start_time": "2023-07-08T18:07:05.784Z"
   },
   {
    "duration": 2,
    "start_time": "2023-07-08T18:07:12.364Z"
   },
   {
    "duration": 3,
    "start_time": "2023-07-08T18:07:15.658Z"
   },
   {
    "duration": 3,
    "start_time": "2023-07-08T18:07:16.594Z"
   },
   {
    "duration": 3,
    "start_time": "2023-07-08T18:09:33.290Z"
   },
   {
    "duration": 15,
    "start_time": "2023-07-08T18:09:38.928Z"
   },
   {
    "duration": 20,
    "start_time": "2023-07-08T18:10:18.487Z"
   },
   {
    "duration": 13,
    "start_time": "2023-07-08T18:11:06.152Z"
   },
   {
    "duration": 4,
    "start_time": "2023-07-08T18:12:16.131Z"
   },
   {
    "duration": 1570,
    "start_time": "2023-07-08T18:12:18.262Z"
   },
   {
    "duration": 1463,
    "start_time": "2023-07-08T18:12:26.498Z"
   },
   {
    "duration": 1644,
    "start_time": "2023-07-08T18:12:56.190Z"
   },
   {
    "duration": 1957,
    "start_time": "2023-07-08T18:13:36.884Z"
   },
   {
    "duration": 1666,
    "start_time": "2023-07-08T18:16:30.882Z"
   },
   {
    "duration": 1630,
    "start_time": "2023-07-08T18:16:35.726Z"
   },
   {
    "duration": 1668,
    "start_time": "2023-07-08T18:17:21.896Z"
   },
   {
    "duration": 1665,
    "start_time": "2023-07-08T18:17:36.186Z"
   },
   {
    "duration": 1754,
    "start_time": "2023-07-08T18:17:41.534Z"
   },
   {
    "duration": 3,
    "start_time": "2023-07-08T18:17:56.468Z"
   },
   {
    "duration": 17,
    "start_time": "2023-07-08T18:17:57.897Z"
   },
   {
    "duration": 1572,
    "start_time": "2023-07-08T18:18:00.109Z"
   },
   {
    "duration": 1623,
    "start_time": "2023-07-08T18:18:46.852Z"
   },
   {
    "duration": 1616,
    "start_time": "2023-07-08T18:18:54.831Z"
   },
   {
    "duration": 15,
    "start_time": "2023-07-08T18:21:18.571Z"
   },
   {
    "duration": 6215,
    "start_time": "2023-07-08T18:21:44.750Z"
   },
   {
    "duration": 142,
    "start_time": "2023-07-08T18:21:59.530Z"
   },
   {
    "duration": 5946,
    "start_time": "2023-07-08T18:22:09.677Z"
   },
   {
    "duration": 361,
    "start_time": "2023-07-08T18:22:16.585Z"
   },
   {
    "duration": 349,
    "start_time": "2023-07-08T18:24:05.928Z"
   },
   {
    "duration": 5,
    "start_time": "2023-07-08T18:24:15.185Z"
   },
   {
    "duration": 6,
    "start_time": "2023-07-08T18:24:24.760Z"
   },
   {
    "duration": 4,
    "start_time": "2023-07-08T18:24:41.685Z"
   },
   {
    "duration": 1565,
    "start_time": "2023-07-08T18:24:51.609Z"
   },
   {
    "duration": 4,
    "start_time": "2023-07-08T18:25:23.645Z"
   },
   {
    "duration": 1636,
    "start_time": "2023-07-08T18:25:25.281Z"
   },
   {
    "duration": 1503,
    "start_time": "2023-07-08T18:25:59.895Z"
   },
   {
    "duration": 8,
    "start_time": "2023-07-08T18:37:29.043Z"
   },
   {
    "duration": 13,
    "start_time": "2023-07-08T18:37:37.426Z"
   },
   {
    "duration": 15,
    "start_time": "2023-07-08T18:37:44.193Z"
   },
   {
    "duration": 343,
    "start_time": "2023-07-08T18:39:46.433Z"
   },
   {
    "duration": 305,
    "start_time": "2023-07-08T18:40:12.144Z"
   },
   {
    "duration": 2018,
    "start_time": "2023-07-08T18:40:44.121Z"
   },
   {
    "duration": 374,
    "start_time": "2023-07-08T18:49:16.962Z"
   },
   {
    "duration": 531,
    "start_time": "2023-07-08T18:51:41.824Z"
   },
   {
    "duration": 463,
    "start_time": "2023-07-08T18:52:25.570Z"
   },
   {
    "duration": 18,
    "start_time": "2023-07-08T18:56:55.315Z"
   },
   {
    "duration": 18,
    "start_time": "2023-07-08T18:57:09.811Z"
   },
   {
    "duration": 1653,
    "start_time": "2023-07-08T18:57:29.514Z"
   },
   {
    "duration": 200,
    "start_time": "2023-07-08T18:57:31.178Z"
   },
   {
    "duration": 90,
    "start_time": "2023-07-08T18:57:31.380Z"
   },
   {
    "duration": 176,
    "start_time": "2023-07-08T18:57:31.471Z"
   },
   {
    "duration": 43,
    "start_time": "2023-07-08T18:57:31.651Z"
   },
   {
    "duration": 177,
    "start_time": "2023-07-08T18:57:31.696Z"
   },
   {
    "duration": 5,
    "start_time": "2023-07-08T19:00:34.925Z"
   },
   {
    "duration": 19,
    "start_time": "2023-07-08T19:00:35.322Z"
   },
   {
    "duration": 123,
    "start_time": "2023-07-08T19:00:35.768Z"
   },
   {
    "duration": 47,
    "start_time": "2023-07-08T19:00:37.746Z"
   },
   {
    "duration": 13,
    "start_time": "2023-07-08T19:00:38.330Z"
   },
   {
    "duration": 6,
    "start_time": "2023-07-08T19:00:38.843Z"
   },
   {
    "duration": 15,
    "start_time": "2023-07-08T19:00:39.126Z"
   },
   {
    "duration": 22,
    "start_time": "2023-07-08T19:00:41.450Z"
   },
   {
    "duration": 6,
    "start_time": "2023-07-08T19:00:41.860Z"
   },
   {
    "duration": 9,
    "start_time": "2023-07-08T19:00:42.750Z"
   },
   {
    "duration": 7,
    "start_time": "2023-07-08T19:00:43.036Z"
   },
   {
    "duration": 5,
    "start_time": "2023-07-08T19:00:43.349Z"
   },
   {
    "duration": 73,
    "start_time": "2023-07-08T19:00:44.594Z"
   },
   {
    "duration": 9,
    "start_time": "2023-07-08T19:00:45.168Z"
   },
   {
    "duration": 10,
    "start_time": "2023-07-08T19:00:45.568Z"
   },
   {
    "duration": 3,
    "start_time": "2023-07-08T19:00:46.470Z"
   },
   {
    "duration": 911,
    "start_time": "2023-07-08T19:00:46.933Z"
   },
   {
    "duration": 379,
    "start_time": "2023-07-08T19:00:52.792Z"
   },
   {
    "duration": 238,
    "start_time": "2023-07-08T19:03:26.399Z"
   },
   {
    "duration": 786,
    "start_time": "2023-07-08T19:03:28.351Z"
   },
   {
    "duration": 7,
    "start_time": "2023-07-08T19:03:29.138Z"
   },
   {
    "duration": 622,
    "start_time": "2023-07-08T19:03:32.119Z"
   },
   {
    "duration": 72,
    "start_time": "2023-07-08T19:03:46.315Z"
   },
   {
    "duration": 12,
    "start_time": "2023-07-08T19:04:16.428Z"
   },
   {
    "duration": 1563,
    "start_time": "2023-07-08T19:04:18.999Z"
   },
   {
    "duration": 447,
    "start_time": "2023-07-08T19:05:24.894Z"
   },
   {
    "duration": 437,
    "start_time": "2023-07-08T19:05:30.334Z"
   },
   {
    "duration": 12,
    "start_time": "2023-07-08T19:08:59.363Z"
   },
   {
    "duration": 11,
    "start_time": "2023-07-08T19:08:59.466Z"
   },
   {
    "duration": 450,
    "start_time": "2023-07-08T19:09:00.835Z"
   },
   {
    "duration": 4,
    "start_time": "2023-07-08T19:09:01.287Z"
   },
   {
    "duration": 32,
    "start_time": "2023-07-08T19:09:09.748Z"
   },
   {
    "duration": 18,
    "start_time": "2023-07-08T19:09:23.821Z"
   },
   {
    "duration": 12,
    "start_time": "2023-07-08T19:09:31.050Z"
   },
   {
    "duration": 4,
    "start_time": "2023-07-08T19:09:42.848Z"
   },
   {
    "duration": 4,
    "start_time": "2023-07-08T19:10:07.730Z"
   },
   {
    "duration": 14,
    "start_time": "2023-07-08T19:10:11.255Z"
   },
   {
    "duration": 2,
    "start_time": "2023-07-08T19:10:26.471Z"
   },
   {
    "duration": 17,
    "start_time": "2023-07-08T19:10:29.724Z"
   },
   {
    "duration": 4,
    "start_time": "2023-07-08T19:10:41.368Z"
   },
   {
    "duration": 5,
    "start_time": "2023-07-08T19:10:45.930Z"
   },
   {
    "duration": 8,
    "start_time": "2023-07-08T19:11:05.527Z"
   },
   {
    "duration": 96,
    "start_time": "2023-07-08T19:11:09.630Z"
   },
   {
    "duration": 31,
    "start_time": "2023-07-08T19:11:11.963Z"
   },
   {
    "duration": 27,
    "start_time": "2023-07-08T19:12:39.165Z"
   },
   {
    "duration": 21,
    "start_time": "2023-07-08T19:13:00.788Z"
   },
   {
    "duration": 29,
    "start_time": "2023-07-08T19:13:05.158Z"
   },
   {
    "duration": 30,
    "start_time": "2023-07-08T19:13:27.026Z"
   },
   {
    "duration": 5,
    "start_time": "2023-07-08T19:13:30.543Z"
   },
   {
    "duration": 35,
    "start_time": "2023-07-08T19:13:30.760Z"
   },
   {
    "duration": 642,
    "start_time": "2023-07-08T19:59:14.117Z"
   },
   {
    "duration": 592,
    "start_time": "2023-07-08T19:59:33.262Z"
   },
   {
    "duration": 818,
    "start_time": "2023-07-08T20:00:31.855Z"
   },
   {
    "duration": 815,
    "start_time": "2023-07-08T20:00:55.757Z"
   },
   {
    "duration": 891,
    "start_time": "2023-07-08T20:01:02.327Z"
   },
   {
    "duration": 780,
    "start_time": "2023-07-08T20:03:00.527Z"
   },
   {
    "duration": 1041,
    "start_time": "2023-07-08T20:03:11.106Z"
   },
   {
    "duration": 647,
    "start_time": "2023-07-08T20:08:58.188Z"
   },
   {
    "duration": 658,
    "start_time": "2023-07-08T20:09:11.262Z"
   },
   {
    "duration": 17,
    "start_time": "2023-07-08T20:09:50.222Z"
   },
   {
    "duration": 740,
    "start_time": "2023-07-08T20:09:54.238Z"
   },
   {
    "duration": 731,
    "start_time": "2023-07-08T20:10:02.387Z"
   },
   {
    "duration": 777,
    "start_time": "2023-07-08T20:10:07.545Z"
   },
   {
    "duration": 635,
    "start_time": "2023-07-08T20:10:10.833Z"
   },
   {
    "duration": 797,
    "start_time": "2023-07-08T20:10:22.842Z"
   },
   {
    "duration": 748,
    "start_time": "2023-07-08T20:13:15.121Z"
   },
   {
    "duration": 827,
    "start_time": "2023-07-08T20:16:33.138Z"
   },
   {
    "duration": 794,
    "start_time": "2023-07-08T20:16:43.188Z"
   },
   {
    "duration": 812,
    "start_time": "2023-07-08T20:16:53.224Z"
   },
   {
    "duration": 689,
    "start_time": "2023-07-08T20:17:01.577Z"
   },
   {
    "duration": 703,
    "start_time": "2023-07-08T20:24:26.641Z"
   },
   {
    "duration": 849,
    "start_time": "2023-07-08T20:24:35.730Z"
   },
   {
    "duration": 708,
    "start_time": "2023-07-08T20:25:30.188Z"
   },
   {
    "duration": 887,
    "start_time": "2023-07-08T20:27:25.087Z"
   },
   {
    "duration": 144,
    "start_time": "2023-07-08T20:27:58.316Z"
   },
   {
    "duration": 125,
    "start_time": "2023-07-08T20:28:27.816Z"
   },
   {
    "duration": 838,
    "start_time": "2023-07-08T20:28:32.860Z"
   },
   {
    "duration": 13,
    "start_time": "2023-07-08T20:34:48.167Z"
   },
   {
    "duration": 3628,
    "start_time": "2023-07-08T20:34:57.418Z"
   },
   {
    "duration": 12,
    "start_time": "2023-07-08T20:35:08.742Z"
   },
   {
    "duration": 1082,
    "start_time": "2023-07-08T20:35:10.217Z"
   },
   {
    "duration": 1220,
    "start_time": "2023-07-08T20:36:21.760Z"
   },
   {
    "duration": 5,
    "start_time": "2023-07-08T20:36:46.250Z"
   },
   {
    "duration": 1088,
    "start_time": "2023-07-08T20:36:54.650Z"
   },
   {
    "duration": 1051,
    "start_time": "2023-07-08T20:37:04.222Z"
   },
   {
    "duration": 928,
    "start_time": "2023-07-08T20:39:34.539Z"
   },
   {
    "duration": 8,
    "start_time": "2023-07-08T20:46:03.177Z"
   },
   {
    "duration": 833,
    "start_time": "2023-07-08T20:46:28.025Z"
   },
   {
    "duration": 23,
    "start_time": "2023-07-08T20:46:34.620Z"
   },
   {
    "duration": 19,
    "start_time": "2023-07-08T20:47:49.290Z"
   },
   {
    "duration": 2662,
    "start_time": "2023-07-08T20:48:38.349Z"
   },
   {
    "duration": 834,
    "start_time": "2023-07-08T20:49:29.662Z"
   },
   {
    "duration": 832,
    "start_time": "2023-07-08T20:49:47.166Z"
   },
   {
    "duration": 891,
    "start_time": "2023-07-08T20:50:22.238Z"
   },
   {
    "duration": 2400,
    "start_time": "2023-07-08T20:50:23.131Z"
   },
   {
    "duration": 2437,
    "start_time": "2023-07-08T20:50:32.288Z"
   },
   {
    "duration": 2350,
    "start_time": "2023-07-08T20:52:20.926Z"
   },
   {
    "duration": 2414,
    "start_time": "2023-07-08T20:52:46.094Z"
   },
   {
    "duration": 760,
    "start_time": "2023-07-08T20:53:21.542Z"
   },
   {
    "duration": 2263,
    "start_time": "2023-07-08T20:53:22.304Z"
   },
   {
    "duration": 803,
    "start_time": "2023-07-08T20:54:08.530Z"
   },
   {
    "duration": 2465,
    "start_time": "2023-07-08T20:54:09.335Z"
   },
   {
    "duration": 1067,
    "start_time": "2023-07-08T21:03:55.997Z"
   },
   {
    "duration": 91,
    "start_time": "2023-07-08T21:03:57.066Z"
   },
   {
    "duration": 30,
    "start_time": "2023-07-08T21:03:57.990Z"
   },
   {
    "duration": 31,
    "start_time": "2023-07-08T21:03:59.279Z"
   },
   {
    "duration": 5,
    "start_time": "2023-07-08T21:04:00.740Z"
   },
   {
    "duration": 13,
    "start_time": "2023-07-08T21:04:01.075Z"
   },
   {
    "duration": 4,
    "start_time": "2023-07-08T21:04:02.727Z"
   },
   {
    "duration": 5,
    "start_time": "2023-07-08T21:04:03.202Z"
   },
   {
    "duration": 100,
    "start_time": "2023-07-08T21:04:04.983Z"
   },
   {
    "duration": 48,
    "start_time": "2023-07-08T21:04:13.221Z"
   },
   {
    "duration": 7,
    "start_time": "2023-07-08T21:04:17.036Z"
   },
   {
    "duration": 5,
    "start_time": "2023-07-08T21:04:17.780Z"
   },
   {
    "duration": 16,
    "start_time": "2023-07-08T21:04:18.115Z"
   },
   {
    "duration": 1124,
    "start_time": "2023-07-08T21:04:18.979Z"
   },
   {
    "duration": 0,
    "start_time": "2023-07-08T21:04:20.106Z"
   },
   {
    "duration": 1317,
    "start_time": "2023-07-08T21:06:02.142Z"
   },
   {
    "duration": 19,
    "start_time": "2023-07-08T21:06:31.471Z"
   },
   {
    "duration": 16,
    "start_time": "2023-07-08T21:06:45.898Z"
   },
   {
    "duration": 8,
    "start_time": "2023-07-08T21:06:57.352Z"
   },
   {
    "duration": 5,
    "start_time": "2023-07-08T21:07:02.582Z"
   },
   {
    "duration": 4,
    "start_time": "2023-07-08T21:07:08.786Z"
   },
   {
    "duration": 4,
    "start_time": "2023-07-08T21:07:52.662Z"
   },
   {
    "duration": 5,
    "start_time": "2023-07-08T21:08:17.283Z"
   },
   {
    "duration": 1058,
    "start_time": "2023-07-08T21:10:42.822Z"
   },
   {
    "duration": 99,
    "start_time": "2023-07-08T21:10:43.881Z"
   },
   {
    "duration": 31,
    "start_time": "2023-07-08T21:10:43.981Z"
   },
   {
    "duration": 44,
    "start_time": "2023-07-08T21:10:44.014Z"
   },
   {
    "duration": 6,
    "start_time": "2023-07-08T21:10:44.060Z"
   },
   {
    "duration": 45,
    "start_time": "2023-07-08T21:10:44.068Z"
   },
   {
    "duration": 17,
    "start_time": "2023-07-08T21:10:44.116Z"
   },
   {
    "duration": 19,
    "start_time": "2023-07-08T21:10:44.135Z"
   },
   {
    "duration": 105,
    "start_time": "2023-07-08T21:10:44.155Z"
   },
   {
    "duration": 54,
    "start_time": "2023-07-08T21:10:44.262Z"
   },
   {
    "duration": 8,
    "start_time": "2023-07-08T21:10:44.319Z"
   },
   {
    "duration": 14,
    "start_time": "2023-07-08T21:10:48.123Z"
   },
   {
    "duration": 4,
    "start_time": "2023-07-08T21:11:02.441Z"
   },
   {
    "duration": 12,
    "start_time": "2023-07-08T21:11:02.757Z"
   },
   {
    "duration": 5,
    "start_time": "2023-07-08T21:11:03.157Z"
   },
   {
    "duration": 1050,
    "start_time": "2023-07-08T21:11:56.308Z"
   },
   {
    "duration": 90,
    "start_time": "2023-07-08T21:11:57.360Z"
   },
   {
    "duration": 29,
    "start_time": "2023-07-08T21:11:57.451Z"
   },
   {
    "duration": 45,
    "start_time": "2023-07-08T21:11:57.483Z"
   },
   {
    "duration": 6,
    "start_time": "2023-07-08T21:11:57.530Z"
   },
   {
    "duration": 46,
    "start_time": "2023-07-08T21:11:57.538Z"
   },
   {
    "duration": 19,
    "start_time": "2023-07-08T21:11:57.586Z"
   },
   {
    "duration": 48,
    "start_time": "2023-07-08T21:11:57.607Z"
   },
   {
    "duration": 105,
    "start_time": "2023-07-08T21:11:57.657Z"
   },
   {
    "duration": 57,
    "start_time": "2023-07-08T21:11:57.764Z"
   },
   {
    "duration": 6,
    "start_time": "2023-07-08T21:11:57.822Z"
   },
   {
    "duration": 20,
    "start_time": "2023-07-08T21:11:57.829Z"
   },
   {
    "duration": 4,
    "start_time": "2023-07-08T21:11:57.850Z"
   },
   {
    "duration": 5,
    "start_time": "2023-07-08T21:12:01.092Z"
   },
   {
    "duration": 4,
    "start_time": "2023-07-08T21:12:04.793Z"
   },
   {
    "duration": 1113,
    "start_time": "2023-07-08T21:12:28.425Z"
   },
   {
    "duration": 99,
    "start_time": "2023-07-08T21:12:29.540Z"
   },
   {
    "duration": 34,
    "start_time": "2023-07-08T21:12:29.641Z"
   },
   {
    "duration": 83,
    "start_time": "2023-07-08T21:12:29.677Z"
   },
   {
    "duration": 6,
    "start_time": "2023-07-08T21:12:29.762Z"
   },
   {
    "duration": 27,
    "start_time": "2023-07-08T21:12:29.769Z"
   },
   {
    "duration": 39,
    "start_time": "2023-07-08T21:12:29.798Z"
   },
   {
    "duration": 14,
    "start_time": "2023-07-08T21:12:29.839Z"
   },
   {
    "duration": 169,
    "start_time": "2023-07-08T21:12:29.856Z"
   },
   {
    "duration": 7,
    "start_time": "2023-07-08T21:13:07.261Z"
   },
   {
    "duration": 52,
    "start_time": "2023-07-08T21:13:35.742Z"
   },
   {
    "duration": 6,
    "start_time": "2023-07-08T21:13:40.790Z"
   },
   {
    "duration": 19,
    "start_time": "2023-07-08T21:13:56.380Z"
   },
   {
    "duration": 1091,
    "start_time": "2023-07-08T21:15:47.514Z"
   },
   {
    "duration": 92,
    "start_time": "2023-07-08T21:15:48.606Z"
   },
   {
    "duration": 28,
    "start_time": "2023-07-08T21:15:48.699Z"
   },
   {
    "duration": 29,
    "start_time": "2023-07-08T21:15:48.729Z"
   },
   {
    "duration": 5,
    "start_time": "2023-07-08T21:15:48.759Z"
   },
   {
    "duration": 39,
    "start_time": "2023-07-08T21:15:48.765Z"
   },
   {
    "duration": 15,
    "start_time": "2023-07-08T21:15:48.806Z"
   },
   {
    "duration": 105,
    "start_time": "2023-07-08T21:15:48.822Z"
   },
   {
    "duration": 0,
    "start_time": "2023-07-08T21:15:48.928Z"
   },
   {
    "duration": 4,
    "start_time": "2023-07-08T21:17:00.805Z"
   },
   {
    "duration": 4,
    "start_time": "2023-07-08T21:17:01.138Z"
   },
   {
    "duration": 1092,
    "start_time": "2023-07-08T21:17:23.823Z"
   },
   {
    "duration": 93,
    "start_time": "2023-07-08T21:17:24.916Z"
   },
   {
    "duration": 30,
    "start_time": "2023-07-08T21:17:25.010Z"
   },
   {
    "duration": 30,
    "start_time": "2023-07-08T21:17:25.042Z"
   },
   {
    "duration": 4,
    "start_time": "2023-07-08T21:17:25.073Z"
   },
   {
    "duration": 30,
    "start_time": "2023-07-08T21:17:25.078Z"
   },
   {
    "duration": 3,
    "start_time": "2023-07-08T21:17:25.110Z"
   },
   {
    "duration": 12,
    "start_time": "2023-07-08T21:17:25.114Z"
   },
   {
    "duration": 98,
    "start_time": "2023-07-08T21:17:46.638Z"
   },
   {
    "duration": 10,
    "start_time": "2023-07-08T21:17:56.082Z"
   },
   {
    "duration": 6,
    "start_time": "2023-07-08T21:18:01.948Z"
   },
   {
    "duration": 77,
    "start_time": "2023-07-08T21:18:09.448Z"
   },
   {
    "duration": 5,
    "start_time": "2023-07-08T21:18:12.686Z"
   },
   {
    "duration": 45,
    "start_time": "2023-07-08T21:18:15.022Z"
   },
   {
    "duration": 5,
    "start_time": "2023-07-08T21:18:18.395Z"
   },
   {
    "duration": 6,
    "start_time": "2023-07-08T21:25:51.983Z"
   },
   {
    "duration": 1114,
    "start_time": "2023-07-08T21:26:22.070Z"
   },
   {
    "duration": 94,
    "start_time": "2023-07-08T21:26:23.186Z"
   },
   {
    "duration": 32,
    "start_time": "2023-07-08T21:26:23.980Z"
   },
   {
    "duration": 30,
    "start_time": "2023-07-08T21:26:24.861Z"
   },
   {
    "duration": 6,
    "start_time": "2023-07-08T21:26:26.088Z"
   },
   {
    "duration": 12,
    "start_time": "2023-07-08T21:26:26.461Z"
   },
   {
    "duration": 4,
    "start_time": "2023-07-08T21:26:27.306Z"
   },
   {
    "duration": 5,
    "start_time": "2023-07-08T21:26:27.688Z"
   },
   {
    "duration": 72,
    "start_time": "2023-07-08T21:26:28.571Z"
   },
   {
    "duration": 31,
    "start_time": "2023-07-08T21:26:31.146Z"
   },
   {
    "duration": 5,
    "start_time": "2023-07-08T21:26:31.834Z"
   },
   {
    "duration": 5,
    "start_time": "2023-07-08T21:26:32.662Z"
   },
   {
    "duration": 3,
    "start_time": "2023-07-08T21:26:33.676Z"
   },
   {
    "duration": 9,
    "start_time": "2023-07-08T21:26:33.975Z"
   },
   {
    "duration": 113,
    "start_time": "2023-07-08T21:26:35.220Z"
   },
   {
    "duration": 23,
    "start_time": "2023-07-08T21:26:43.262Z"
   },
   {
    "duration": 6,
    "start_time": "2023-07-08T21:26:44.026Z"
   },
   {
    "duration": 6,
    "start_time": "2023-07-08T21:26:44.880Z"
   },
   {
    "duration": 5,
    "start_time": "2023-07-08T21:26:45.412Z"
   },
   {
    "duration": 4,
    "start_time": "2023-07-08T21:26:46.155Z"
   },
   {
    "duration": 35,
    "start_time": "2023-07-08T21:26:46.527Z"
   },
   {
    "duration": 5,
    "start_time": "2023-07-08T21:26:46.817Z"
   },
   {
    "duration": 8,
    "start_time": "2023-07-08T21:26:47.077Z"
   },
   {
    "duration": 3,
    "start_time": "2023-07-08T21:26:47.614Z"
   },
   {
    "duration": 890,
    "start_time": "2023-07-08T21:26:47.933Z"
   },
   {
    "duration": 266,
    "start_time": "2023-07-08T21:26:49.962Z"
   },
   {
    "duration": 777,
    "start_time": "2023-07-08T21:26:50.930Z"
   },
   {
    "duration": 30,
    "start_time": "2023-07-08T21:26:51.963Z"
   },
   {
    "duration": 829,
    "start_time": "2023-07-08T21:26:52.714Z"
   },
   {
    "duration": 2378,
    "start_time": "2023-07-08T21:26:53.665Z"
   },
   {
    "duration": 2228,
    "start_time": "2023-07-08T21:28:53.291Z"
   },
   {
    "duration": 354,
    "start_time": "2023-07-08T21:31:42.761Z"
   },
   {
    "duration": 261,
    "start_time": "2023-07-08T21:31:49.125Z"
   },
   {
    "duration": 272,
    "start_time": "2023-07-08T21:32:38.037Z"
   },
   {
    "duration": 2059,
    "start_time": "2023-07-08T21:36:55.372Z"
   },
   {
    "duration": 1058,
    "start_time": "2023-07-08T21:36:57.434Z"
   },
   {
    "duration": 100,
    "start_time": "2023-07-08T21:36:58.494Z"
   },
   {
    "duration": 42,
    "start_time": "2023-07-08T21:36:58.596Z"
   },
   {
    "duration": 37,
    "start_time": "2023-07-08T21:36:58.640Z"
   },
   {
    "duration": 4,
    "start_time": "2023-07-08T21:36:58.679Z"
   },
   {
    "duration": 34,
    "start_time": "2023-07-08T21:36:58.684Z"
   },
   {
    "duration": 6,
    "start_time": "2023-07-08T21:36:58.720Z"
   },
   {
    "duration": 7,
    "start_time": "2023-07-08T21:36:58.727Z"
   },
   {
    "duration": 107,
    "start_time": "2023-07-08T21:36:58.736Z"
   },
   {
    "duration": 33,
    "start_time": "2023-07-08T21:36:58.845Z"
   },
   {
    "duration": 5,
    "start_time": "2023-07-08T21:36:58.880Z"
   },
   {
    "duration": 10,
    "start_time": "2023-07-08T21:36:58.899Z"
   },
   {
    "duration": 14,
    "start_time": "2023-07-08T21:36:58.910Z"
   },
   {
    "duration": 15,
    "start_time": "2023-07-08T21:36:58.925Z"
   },
   {
    "duration": 22,
    "start_time": "2023-07-08T21:36:58.942Z"
   },
   {
    "duration": 6,
    "start_time": "2023-07-08T21:36:58.966Z"
   },
   {
    "duration": 7,
    "start_time": "2023-07-08T21:36:58.974Z"
   },
   {
    "duration": 8,
    "start_time": "2023-07-08T21:36:58.982Z"
   },
   {
    "duration": 29,
    "start_time": "2023-07-08T21:36:58.991Z"
   },
   {
    "duration": 51,
    "start_time": "2023-07-08T21:36:59.021Z"
   },
   {
    "duration": 6,
    "start_time": "2023-07-08T21:36:59.074Z"
   },
   {
    "duration": 9,
    "start_time": "2023-07-08T21:36:59.081Z"
   },
   {
    "duration": 3,
    "start_time": "2023-07-08T21:37:08.332Z"
   },
   {
    "duration": 4,
    "start_time": "2023-07-08T21:37:13.488Z"
   },
   {
    "duration": 2,
    "start_time": "2023-07-08T21:39:46.954Z"
   },
   {
    "duration": 4,
    "start_time": "2023-07-08T21:39:48.527Z"
   },
   {
    "duration": 21,
    "start_time": "2023-07-08T21:40:00.923Z"
   },
   {
    "duration": 1525,
    "start_time": "2023-07-09T19:21:05.307Z"
   },
   {
    "duration": 3308,
    "start_time": "2023-07-09T19:21:11.483Z"
   },
   {
    "duration": 40,
    "start_time": "2023-07-09T19:21:19.265Z"
   },
   {
    "duration": 465,
    "start_time": "2023-07-09T19:21:30.754Z"
   },
   {
    "duration": 31,
    "start_time": "2023-07-09T19:21:33.241Z"
   },
   {
    "duration": 39,
    "start_time": "2023-07-09T19:21:34.773Z"
   },
   {
    "duration": 7,
    "start_time": "2023-07-09T19:21:35.953Z"
   },
   {
    "duration": 14,
    "start_time": "2023-07-09T19:21:36.149Z"
   },
   {
    "duration": 4,
    "start_time": "2023-07-09T19:21:37.889Z"
   },
   {
    "duration": 5,
    "start_time": "2023-07-09T19:21:38.289Z"
   },
   {
    "duration": 113,
    "start_time": "2023-07-09T19:21:39.243Z"
   },
   {
    "duration": 40,
    "start_time": "2023-07-09T19:21:54.236Z"
   },
   {
    "duration": 6,
    "start_time": "2023-07-09T19:22:00.171Z"
   },
   {
    "duration": 6,
    "start_time": "2023-07-09T19:22:02.003Z"
   },
   {
    "duration": 16,
    "start_time": "2023-07-09T19:27:17.451Z"
   },
   {
    "duration": 6,
    "start_time": "2023-07-09T19:31:11.248Z"
   },
   {
    "duration": 7,
    "start_time": "2023-07-09T19:34:37.184Z"
   },
   {
    "duration": 5,
    "start_time": "2023-07-09T19:34:40.921Z"
   },
   {
    "duration": 2467,
    "start_time": "2023-07-09T19:37:53.930Z"
   },
   {
    "duration": 1366,
    "start_time": "2023-07-09T19:37:56.400Z"
   },
   {
    "duration": 104,
    "start_time": "2023-07-09T19:37:57.768Z"
   },
   {
    "duration": 45,
    "start_time": "2023-07-09T19:37:57.874Z"
   },
   {
    "duration": 58,
    "start_time": "2023-07-09T19:37:57.921Z"
   },
   {
    "duration": 6,
    "start_time": "2023-07-09T19:37:57.981Z"
   },
   {
    "duration": 19,
    "start_time": "2023-07-09T19:37:57.989Z"
   },
   {
    "duration": 6,
    "start_time": "2023-07-09T19:37:58.010Z"
   },
   {
    "duration": 37,
    "start_time": "2023-07-09T19:37:58.018Z"
   },
   {
    "duration": 149,
    "start_time": "2023-07-09T19:37:58.058Z"
   },
   {
    "duration": 61,
    "start_time": "2023-07-09T19:37:58.210Z"
   },
   {
    "duration": 8,
    "start_time": "2023-07-09T19:37:58.273Z"
   },
   {
    "duration": 11,
    "start_time": "2023-07-09T19:37:58.283Z"
   },
   {
    "duration": 7,
    "start_time": "2023-07-09T19:37:58.296Z"
   },
   {
    "duration": 6,
    "start_time": "2023-07-09T19:38:01.356Z"
   },
   {
    "duration": 6,
    "start_time": "2023-07-09T19:38:01.633Z"
   },
   {
    "duration": 2457,
    "start_time": "2023-07-09T19:39:06.851Z"
   },
   {
    "duration": 1305,
    "start_time": "2023-07-09T19:39:09.310Z"
   },
   {
    "duration": 95,
    "start_time": "2023-07-09T19:39:10.617Z"
   },
   {
    "duration": 34,
    "start_time": "2023-07-09T19:39:10.714Z"
   },
   {
    "duration": 40,
    "start_time": "2023-07-09T19:39:10.749Z"
   },
   {
    "duration": 6,
    "start_time": "2023-07-09T19:39:10.791Z"
   },
   {
    "duration": 15,
    "start_time": "2023-07-09T19:39:10.799Z"
   },
   {
    "duration": 7,
    "start_time": "2023-07-09T19:39:10.816Z"
   },
   {
    "duration": 34,
    "start_time": "2023-07-09T19:39:10.824Z"
   },
   {
    "duration": 152,
    "start_time": "2023-07-09T19:39:10.861Z"
   },
   {
    "duration": 61,
    "start_time": "2023-07-09T19:39:11.016Z"
   },
   {
    "duration": 7,
    "start_time": "2023-07-09T19:39:11.079Z"
   },
   {
    "duration": 11,
    "start_time": "2023-07-09T19:39:11.087Z"
   },
   {
    "duration": 6,
    "start_time": "2023-07-09T19:39:11.100Z"
   },
   {
    "duration": 5,
    "start_time": "2023-07-09T19:39:12.721Z"
   },
   {
    "duration": 10,
    "start_time": "2023-07-09T19:39:13.149Z"
   },
   {
    "duration": 4,
    "start_time": "2023-07-09T19:41:50.994Z"
   },
   {
    "duration": 2557,
    "start_time": "2023-07-09T19:51:51.924Z"
   },
   {
    "duration": 1234,
    "start_time": "2023-07-09T19:51:54.483Z"
   },
   {
    "duration": 107,
    "start_time": "2023-07-09T19:51:55.720Z"
   },
   {
    "duration": 43,
    "start_time": "2023-07-09T19:51:55.829Z"
   },
   {
    "duration": 45,
    "start_time": "2023-07-09T19:51:55.875Z"
   },
   {
    "duration": 7,
    "start_time": "2023-07-09T19:51:55.922Z"
   },
   {
    "duration": 39,
    "start_time": "2023-07-09T19:51:55.932Z"
   },
   {
    "duration": 5,
    "start_time": "2023-07-09T19:51:55.973Z"
   },
   {
    "duration": 39,
    "start_time": "2023-07-09T19:51:55.979Z"
   },
   {
    "duration": 105,
    "start_time": "2023-07-09T19:51:56.021Z"
   },
   {
    "duration": 58,
    "start_time": "2023-07-09T19:51:56.128Z"
   },
   {
    "duration": 6,
    "start_time": "2023-07-09T19:51:56.188Z"
   },
   {
    "duration": 12,
    "start_time": "2023-07-09T19:51:56.195Z"
   },
   {
    "duration": 6,
    "start_time": "2023-07-09T19:51:56.208Z"
   },
   {
    "duration": 5,
    "start_time": "2023-07-09T19:51:56.215Z"
   },
   {
    "duration": 5,
    "start_time": "2023-07-09T19:51:56.222Z"
   },
   {
    "duration": 32,
    "start_time": "2023-07-09T19:51:56.229Z"
   },
   {
    "duration": 25,
    "start_time": "2023-07-09T19:51:56.272Z"
   },
   {
    "duration": 7,
    "start_time": "2023-07-09T19:51:56.299Z"
   },
   {
    "duration": 11,
    "start_time": "2023-07-09T19:51:56.308Z"
   },
   {
    "duration": 6,
    "start_time": "2023-07-09T19:51:56.321Z"
   },
   {
    "duration": 6,
    "start_time": "2023-07-09T19:51:56.329Z"
   },
   {
    "duration": 76,
    "start_time": "2023-07-09T19:51:56.336Z"
   },
   {
    "duration": 4,
    "start_time": "2023-07-09T19:51:56.415Z"
   },
   {
    "duration": 15,
    "start_time": "2023-07-09T19:51:56.421Z"
   },
   {
    "duration": 15,
    "start_time": "2023-07-09T19:51:58.678Z"
   },
   {
    "duration": 15,
    "start_time": "2023-07-09T19:52:03.614Z"
   },
   {
    "duration": 2531,
    "start_time": "2023-07-09T19:52:53.678Z"
   },
   {
    "duration": 1442,
    "start_time": "2023-07-09T19:52:56.212Z"
   },
   {
    "duration": 140,
    "start_time": "2023-07-09T19:52:57.658Z"
   },
   {
    "duration": 45,
    "start_time": "2023-07-09T19:52:57.801Z"
   },
   {
    "duration": 47,
    "start_time": "2023-07-09T19:52:57.849Z"
   },
   {
    "duration": 5,
    "start_time": "2023-07-09T19:52:57.900Z"
   },
   {
    "duration": 20,
    "start_time": "2023-07-09T19:52:57.908Z"
   },
   {
    "duration": 33,
    "start_time": "2023-07-09T19:52:57.931Z"
   },
   {
    "duration": 9,
    "start_time": "2023-07-09T19:52:57.967Z"
   },
   {
    "duration": 124,
    "start_time": "2023-07-09T19:52:57.979Z"
   },
   {
    "duration": 62,
    "start_time": "2023-07-09T19:52:58.105Z"
   },
   {
    "duration": 10,
    "start_time": "2023-07-09T19:52:58.170Z"
   },
   {
    "duration": 6,
    "start_time": "2023-07-09T19:52:58.182Z"
   },
   {
    "duration": 7,
    "start_time": "2023-07-09T19:52:58.192Z"
   },
   {
    "duration": 6,
    "start_time": "2023-07-09T19:52:58.201Z"
   },
   {
    "duration": 5,
    "start_time": "2023-07-09T19:52:58.210Z"
   },
   {
    "duration": 16,
    "start_time": "2023-07-09T19:52:58.218Z"
   },
   {
    "duration": 34,
    "start_time": "2023-07-09T19:52:58.259Z"
   },
   {
    "duration": 9,
    "start_time": "2023-07-09T19:52:58.296Z"
   },
   {
    "duration": 8,
    "start_time": "2023-07-09T19:52:58.307Z"
   },
   {
    "duration": 6,
    "start_time": "2023-07-09T19:52:58.317Z"
   },
   {
    "duration": 4,
    "start_time": "2023-07-09T19:52:58.325Z"
   },
   {
    "duration": 94,
    "start_time": "2023-07-09T19:52:58.331Z"
   },
   {
    "duration": 6,
    "start_time": "2023-07-09T19:52:58.427Z"
   },
   {
    "duration": 30,
    "start_time": "2023-07-09T19:52:58.435Z"
   },
   {
    "duration": 26,
    "start_time": "2023-07-09T19:52:58.467Z"
   },
   {
    "duration": 16,
    "start_time": "2023-07-09T19:52:58.495Z"
   },
   {
    "duration": 2697,
    "start_time": "2023-07-09T20:00:00.999Z"
   },
   {
    "duration": 1276,
    "start_time": "2023-07-09T20:00:03.698Z"
   },
   {
    "duration": 109,
    "start_time": "2023-07-09T20:00:04.975Z"
   },
   {
    "duration": 33,
    "start_time": "2023-07-09T20:00:05.086Z"
   },
   {
    "duration": 45,
    "start_time": "2023-07-09T20:00:05.121Z"
   },
   {
    "duration": 8,
    "start_time": "2023-07-09T20:00:05.168Z"
   },
   {
    "duration": 15,
    "start_time": "2023-07-09T20:00:05.178Z"
   },
   {
    "duration": 8,
    "start_time": "2023-07-09T20:00:05.195Z"
   },
   {
    "duration": 13,
    "start_time": "2023-07-09T20:00:05.204Z"
   },
   {
    "duration": 154,
    "start_time": "2023-07-09T20:00:05.220Z"
   },
   {
    "duration": 38,
    "start_time": "2023-07-09T20:00:05.376Z"
   },
   {
    "duration": 6,
    "start_time": "2023-07-09T20:00:05.416Z"
   },
   {
    "duration": 11,
    "start_time": "2023-07-09T20:00:05.423Z"
   },
   {
    "duration": 16,
    "start_time": "2023-07-09T20:00:05.456Z"
   },
   {
    "duration": 16,
    "start_time": "2023-07-09T20:00:05.473Z"
   },
   {
    "duration": 17,
    "start_time": "2023-07-09T20:00:05.491Z"
   },
   {
    "duration": 13,
    "start_time": "2023-07-09T20:00:05.510Z"
   },
   {
    "duration": 31,
    "start_time": "2023-07-09T20:00:05.524Z"
   },
   {
    "duration": 32,
    "start_time": "2023-07-09T20:00:05.557Z"
   },
   {
    "duration": 11,
    "start_time": "2023-07-09T20:00:05.591Z"
   },
   {
    "duration": 21,
    "start_time": "2023-07-09T20:00:05.604Z"
   },
   {
    "duration": 7,
    "start_time": "2023-07-09T20:00:05.626Z"
   },
   {
    "duration": 11,
    "start_time": "2023-07-09T20:00:05.634Z"
   },
   {
    "duration": 60,
    "start_time": "2023-07-09T20:00:05.646Z"
   },
   {
    "duration": 38,
    "start_time": "2023-07-09T20:00:05.708Z"
   },
   {
    "duration": 153,
    "start_time": "2023-07-09T20:00:05.748Z"
   },
   {
    "duration": 0,
    "start_time": "2023-07-09T20:00:05.903Z"
   },
   {
    "duration": 0,
    "start_time": "2023-07-09T20:00:05.905Z"
   },
   {
    "duration": 2613,
    "start_time": "2023-07-09T20:00:26.813Z"
   },
   {
    "duration": 1351,
    "start_time": "2023-07-09T20:00:29.429Z"
   },
   {
    "duration": 109,
    "start_time": "2023-07-09T20:00:30.782Z"
   },
   {
    "duration": 37,
    "start_time": "2023-07-09T20:00:30.894Z"
   },
   {
    "duration": 60,
    "start_time": "2023-07-09T20:00:30.933Z"
   },
   {
    "duration": 34,
    "start_time": "2023-07-09T20:00:30.996Z"
   },
   {
    "duration": 59,
    "start_time": "2023-07-09T20:00:31.032Z"
   },
   {
    "duration": 50,
    "start_time": "2023-07-09T20:00:31.093Z"
   },
   {
    "duration": 53,
    "start_time": "2023-07-09T20:00:31.144Z"
   },
   {
    "duration": 137,
    "start_time": "2023-07-09T20:00:31.201Z"
   },
   {
    "duration": 44,
    "start_time": "2023-07-09T20:00:31.359Z"
   },
   {
    "duration": 44,
    "start_time": "2023-07-09T20:00:31.405Z"
   },
   {
    "duration": 61,
    "start_time": "2023-07-09T20:00:31.451Z"
   },
   {
    "duration": 34,
    "start_time": "2023-07-09T20:00:31.514Z"
   },
   {
    "duration": 33,
    "start_time": "2023-07-09T20:00:31.549Z"
   },
   {
    "duration": 23,
    "start_time": "2023-07-09T20:00:31.584Z"
   },
   {
    "duration": 12,
    "start_time": "2023-07-09T20:00:31.609Z"
   },
   {
    "duration": 50,
    "start_time": "2023-07-09T20:00:31.623Z"
   },
   {
    "duration": 33,
    "start_time": "2023-07-09T20:00:31.675Z"
   },
   {
    "duration": 8,
    "start_time": "2023-07-09T20:00:31.710Z"
   },
   {
    "duration": 21,
    "start_time": "2023-07-09T20:00:31.720Z"
   },
   {
    "duration": 17,
    "start_time": "2023-07-09T20:00:31.743Z"
   },
   {
    "duration": 32,
    "start_time": "2023-07-09T20:00:31.762Z"
   },
   {
    "duration": 78,
    "start_time": "2023-07-09T20:00:31.796Z"
   },
   {
    "duration": 25,
    "start_time": "2023-07-09T20:00:31.876Z"
   },
   {
    "duration": 13,
    "start_time": "2023-07-09T20:00:31.903Z"
   },
   {
    "duration": 22,
    "start_time": "2023-07-09T20:00:31.919Z"
   },
   {
    "duration": 31,
    "start_time": "2023-07-09T20:00:31.945Z"
   },
   {
    "duration": 4,
    "start_time": "2023-07-09T20:01:06.418Z"
   },
   {
    "duration": 4,
    "start_time": "2023-07-09T20:01:14.584Z"
   },
   {
    "duration": 3,
    "start_time": "2023-07-09T20:01:26.312Z"
   },
   {
    "duration": 4,
    "start_time": "2023-07-09T20:01:31.244Z"
   },
   {
    "duration": 3,
    "start_time": "2023-07-09T20:02:19.201Z"
   },
   {
    "duration": 5,
    "start_time": "2023-07-09T20:02:21.703Z"
   },
   {
    "duration": 4,
    "start_time": "2023-07-09T20:02:56.389Z"
   },
   {
    "duration": 3,
    "start_time": "2023-07-09T20:03:41.282Z"
   },
   {
    "duration": 917,
    "start_time": "2023-07-09T20:04:28.522Z"
   },
   {
    "duration": 1070,
    "start_time": "2023-07-09T20:04:44.094Z"
   },
   {
    "duration": 5,
    "start_time": "2023-07-09T20:05:09.226Z"
   },
   {
    "duration": 1023,
    "start_time": "2023-07-09T20:06:28.028Z"
   },
   {
    "duration": 1382,
    "start_time": "2023-07-09T20:08:06.881Z"
   },
   {
    "duration": 1053,
    "start_time": "2023-07-09T20:08:25.348Z"
   },
   {
    "duration": 963,
    "start_time": "2023-07-09T20:08:44.663Z"
   },
   {
    "duration": 1131,
    "start_time": "2023-07-09T20:09:04.828Z"
   },
   {
    "duration": 982,
    "start_time": "2023-07-09T20:09:14.620Z"
   },
   {
    "duration": 903,
    "start_time": "2023-07-09T20:09:39.096Z"
   },
   {
    "duration": 1198,
    "start_time": "2023-07-09T20:10:08.022Z"
   },
   {
    "duration": 1000,
    "start_time": "2023-07-09T20:10:22.462Z"
   },
   {
    "duration": 487,
    "start_time": "2023-07-09T20:14:33.439Z"
   },
   {
    "duration": 466,
    "start_time": "2023-07-09T20:16:04.166Z"
   },
   {
    "duration": 414,
    "start_time": "2023-07-09T20:16:39.563Z"
   },
   {
    "duration": 441,
    "start_time": "2023-07-09T20:16:47.282Z"
   },
   {
    "duration": 391,
    "start_time": "2023-07-09T20:16:54.952Z"
   },
   {
    "duration": 415,
    "start_time": "2023-07-09T20:17:00.646Z"
   },
   {
    "duration": 586,
    "start_time": "2023-07-09T20:17:05.942Z"
   },
   {
    "duration": 3246,
    "start_time": "2023-07-09T20:17:35.013Z"
   },
   {
    "duration": 1623,
    "start_time": "2023-07-09T20:17:38.263Z"
   },
   {
    "duration": 133,
    "start_time": "2023-07-09T20:17:39.889Z"
   },
   {
    "duration": 52,
    "start_time": "2023-07-09T20:17:40.026Z"
   },
   {
    "duration": 63,
    "start_time": "2023-07-09T20:17:40.081Z"
   },
   {
    "duration": 14,
    "start_time": "2023-07-09T20:17:40.147Z"
   },
   {
    "duration": 34,
    "start_time": "2023-07-09T20:17:40.166Z"
   },
   {
    "duration": 18,
    "start_time": "2023-07-09T20:17:40.203Z"
   },
   {
    "duration": 24,
    "start_time": "2023-07-09T20:17:40.223Z"
   },
   {
    "duration": 170,
    "start_time": "2023-07-09T20:17:40.251Z"
   },
   {
    "duration": 70,
    "start_time": "2023-07-09T20:17:40.423Z"
   },
   {
    "duration": 7,
    "start_time": "2023-07-09T20:17:40.497Z"
   },
   {
    "duration": 35,
    "start_time": "2023-07-09T20:17:40.506Z"
   },
   {
    "duration": 27,
    "start_time": "2023-07-09T20:17:40.543Z"
   },
   {
    "duration": 14,
    "start_time": "2023-07-09T20:17:40.572Z"
   },
   {
    "duration": 15,
    "start_time": "2023-07-09T20:17:40.588Z"
   },
   {
    "duration": 10,
    "start_time": "2023-07-09T20:17:40.605Z"
   },
   {
    "duration": 24,
    "start_time": "2023-07-09T20:17:40.618Z"
   },
   {
    "duration": 33,
    "start_time": "2023-07-09T20:17:40.644Z"
   },
   {
    "duration": 8,
    "start_time": "2023-07-09T20:17:40.678Z"
   },
   {
    "duration": 21,
    "start_time": "2023-07-09T20:17:40.688Z"
   },
   {
    "duration": 8,
    "start_time": "2023-07-09T20:17:40.711Z"
   },
   {
    "duration": 19,
    "start_time": "2023-07-09T20:17:40.721Z"
   },
   {
    "duration": 99,
    "start_time": "2023-07-09T20:17:40.743Z"
   },
   {
    "duration": 13,
    "start_time": "2023-07-09T20:17:40.844Z"
   },
   {
    "duration": 24,
    "start_time": "2023-07-09T20:17:40.869Z"
   },
   {
    "duration": 28,
    "start_time": "2023-07-09T20:17:40.895Z"
   },
   {
    "duration": 21,
    "start_time": "2023-07-09T20:17:40.928Z"
   },
   {
    "duration": 24,
    "start_time": "2023-07-09T20:17:40.951Z"
   },
   {
    "duration": 10,
    "start_time": "2023-07-09T20:17:40.979Z"
   },
   {
    "duration": 1390,
    "start_time": "2023-07-09T20:17:40.991Z"
   },
   {
    "duration": 594,
    "start_time": "2023-07-09T20:17:45.208Z"
   },
   {
    "duration": 4,
    "start_time": "2023-07-09T20:17:55.178Z"
   },
   {
    "duration": 8,
    "start_time": "2023-07-09T20:17:57.683Z"
   },
   {
    "duration": 5,
    "start_time": "2023-07-09T20:18:02.619Z"
   },
   {
    "duration": 546,
    "start_time": "2023-07-09T20:18:14.287Z"
   },
   {
    "duration": 426,
    "start_time": "2023-07-09T20:18:25.696Z"
   },
   {
    "duration": 5,
    "start_time": "2023-07-09T20:18:34.946Z"
   },
   {
    "duration": 435,
    "start_time": "2023-07-09T20:18:49.901Z"
   },
   {
    "duration": 5,
    "start_time": "2023-07-09T20:18:57.937Z"
   },
   {
    "duration": 84,
    "start_time": "2023-07-09T20:19:11.538Z"
   },
   {
    "duration": 5,
    "start_time": "2023-07-09T20:19:14.673Z"
   },
   {
    "duration": 5,
    "start_time": "2023-07-09T20:22:09.712Z"
   },
   {
    "duration": 7,
    "start_time": "2023-07-09T20:22:24.455Z"
   },
   {
    "duration": 4,
    "start_time": "2023-07-09T20:22:31.995Z"
   },
   {
    "duration": 507,
    "start_time": "2023-07-09T20:22:34.623Z"
   },
   {
    "duration": 3,
    "start_time": "2023-07-09T20:22:52.535Z"
   },
   {
    "duration": 4,
    "start_time": "2023-07-09T20:22:54.383Z"
   },
   {
    "duration": 662,
    "start_time": "2023-07-09T20:23:23.771Z"
   },
   {
    "duration": 5,
    "start_time": "2023-07-09T20:23:28.810Z"
   },
   {
    "duration": 2889,
    "start_time": "2023-07-09T20:23:54.661Z"
   },
   {
    "duration": 1366,
    "start_time": "2023-07-09T20:23:57.553Z"
   },
   {
    "duration": 120,
    "start_time": "2023-07-09T20:23:59.623Z"
   },
   {
    "duration": 47,
    "start_time": "2023-07-09T20:24:00.496Z"
   },
   {
    "duration": 59,
    "start_time": "2023-07-09T20:24:01.314Z"
   },
   {
    "duration": 7,
    "start_time": "2023-07-09T20:24:41.893Z"
   },
   {
    "duration": 5,
    "start_time": "2023-07-09T20:25:20.037Z"
   },
   {
    "duration": 2567,
    "start_time": "2023-07-09T20:25:30.740Z"
   },
   {
    "duration": 1222,
    "start_time": "2023-07-09T20:25:33.310Z"
   },
   {
    "duration": 106,
    "start_time": "2023-07-09T20:25:34.534Z"
   },
   {
    "duration": 41,
    "start_time": "2023-07-09T20:25:34.642Z"
   },
   {
    "duration": 37,
    "start_time": "2023-07-09T20:25:34.684Z"
   },
   {
    "duration": 6,
    "start_time": "2023-07-09T20:25:34.841Z"
   },
   {
    "duration": 17,
    "start_time": "2023-07-09T20:25:35.231Z"
   },
   {
    "duration": 6,
    "start_time": "2023-07-09T20:25:35.992Z"
   },
   {
    "duration": 8,
    "start_time": "2023-07-09T20:25:36.431Z"
   },
   {
    "duration": 120,
    "start_time": "2023-07-09T20:25:36.973Z"
   },
   {
    "duration": 41,
    "start_time": "2023-07-09T20:25:39.807Z"
   },
   {
    "duration": 7,
    "start_time": "2023-07-09T20:25:40.523Z"
   },
   {
    "duration": 6,
    "start_time": "2023-07-09T20:25:41.108Z"
   },
   {
    "duration": 9,
    "start_time": "2023-07-09T20:25:41.751Z"
   },
   {
    "duration": 5,
    "start_time": "2023-07-09T20:25:42.215Z"
   },
   {
    "duration": 4,
    "start_time": "2023-07-09T20:25:44.175Z"
   },
   {
    "duration": 5,
    "start_time": "2023-07-09T20:25:44.400Z"
   },
   {
    "duration": 17,
    "start_time": "2023-07-09T20:25:45.003Z"
   },
   {
    "duration": 37,
    "start_time": "2023-07-09T20:25:45.701Z"
   },
   {
    "duration": 8,
    "start_time": "2023-07-09T20:25:45.926Z"
   },
   {
    "duration": 8,
    "start_time": "2023-07-09T20:25:49.617Z"
   },
   {
    "duration": 9,
    "start_time": "2023-07-09T20:25:49.887Z"
   },
   {
    "duration": 4,
    "start_time": "2023-07-09T20:25:50.169Z"
   },
   {
    "duration": 66,
    "start_time": "2023-07-09T20:25:51.920Z"
   },
   {
    "duration": 12,
    "start_time": "2023-07-09T20:25:52.253Z"
   },
   {
    "duration": 14,
    "start_time": "2023-07-09T20:25:52.566Z"
   },
   {
    "duration": 22,
    "start_time": "2023-07-09T20:25:53.435Z"
   },
   {
    "duration": 22,
    "start_time": "2023-07-09T20:25:53.918Z"
   },
   {
    "duration": 1037,
    "start_time": "2023-07-09T20:25:58.174Z"
   },
   {
    "duration": 543,
    "start_time": "2023-07-09T20:26:15.894Z"
   },
   {
    "duration": 18,
    "start_time": "2023-07-09T20:28:48.948Z"
   },
   {
    "duration": 4,
    "start_time": "2023-07-09T20:28:53.038Z"
   },
   {
    "duration": 4,
    "start_time": "2023-07-09T20:28:54.611Z"
   },
   {
    "duration": 707,
    "start_time": "2023-07-09T20:29:07.355Z"
   },
   {
    "duration": 443,
    "start_time": "2023-07-09T20:29:19.219Z"
   },
   {
    "duration": 5,
    "start_time": "2023-07-09T20:29:29.739Z"
   },
   {
    "duration": 444,
    "start_time": "2023-07-09T20:29:40.605Z"
   },
   {
    "duration": 535,
    "start_time": "2023-07-09T20:29:55.004Z"
   },
   {
    "duration": 77,
    "start_time": "2023-07-09T20:35:46.497Z"
   },
   {
    "duration": 1562,
    "start_time": "2023-07-12T08:14:21.361Z"
   },
   {
    "duration": 3557,
    "start_time": "2023-07-12T08:14:33.757Z"
   },
   {
    "duration": 2528,
    "start_time": "2023-07-12T08:14:40.755Z"
   },
   {
    "duration": 3504,
    "start_time": "2023-07-12T08:14:49.835Z"
   },
   {
    "duration": 76,
    "start_time": "2023-07-12T08:14:54.300Z"
   },
   {
    "duration": 6866,
    "start_time": "2023-07-12T08:16:00.193Z"
   },
   {
    "duration": 3657,
    "start_time": "2023-07-12T08:16:07.061Z"
   },
   {
    "duration": 327,
    "start_time": "2023-07-12T08:16:18.952Z"
   },
   {
    "duration": 36,
    "start_time": "2023-07-12T08:16:19.992Z"
   },
   {
    "duration": 38,
    "start_time": "2023-07-12T08:16:20.512Z"
   },
   {
    "duration": 6,
    "start_time": "2023-07-12T08:16:21.283Z"
   },
   {
    "duration": 16,
    "start_time": "2023-07-12T08:16:21.397Z"
   },
   {
    "duration": 5,
    "start_time": "2023-07-12T08:16:21.840Z"
   },
   {
    "duration": 5,
    "start_time": "2023-07-12T08:16:22.057Z"
   },
   {
    "duration": 98,
    "start_time": "2023-07-12T08:16:22.166Z"
   },
   {
    "duration": 40,
    "start_time": "2023-07-12T08:16:23.519Z"
   },
   {
    "duration": 10,
    "start_time": "2023-07-12T08:16:23.768Z"
   },
   {
    "duration": 6,
    "start_time": "2023-07-12T08:16:24.126Z"
   },
   {
    "duration": 6,
    "start_time": "2023-07-12T08:16:24.786Z"
   },
   {
    "duration": 5,
    "start_time": "2023-07-12T08:16:25.046Z"
   },
   {
    "duration": 4,
    "start_time": "2023-07-12T08:16:25.446Z"
   },
   {
    "duration": 5,
    "start_time": "2023-07-12T08:16:25.642Z"
   },
   {
    "duration": 12,
    "start_time": "2023-07-12T08:16:25.938Z"
   },
   {
    "duration": 26,
    "start_time": "2023-07-12T08:16:26.271Z"
   },
   {
    "duration": 9,
    "start_time": "2023-07-12T08:16:26.448Z"
   },
   {
    "duration": 9,
    "start_time": "2023-07-12T08:16:26.995Z"
   },
   {
    "duration": 5,
    "start_time": "2023-07-12T08:16:27.154Z"
   },
   {
    "duration": 3,
    "start_time": "2023-07-12T08:16:27.312Z"
   },
   {
    "duration": 41,
    "start_time": "2023-07-12T08:16:27.498Z"
   },
   {
    "duration": 6,
    "start_time": "2023-07-12T08:16:27.684Z"
   },
   {
    "duration": 11,
    "start_time": "2023-07-12T08:16:27.898Z"
   },
   {
    "duration": 3,
    "start_time": "2023-07-12T08:16:28.326Z"
   },
   {
    "duration": 994,
    "start_time": "2023-07-12T08:16:28.437Z"
   },
   {
    "duration": 4,
    "start_time": "2023-07-12T08:16:29.690Z"
   },
   {
    "duration": 475,
    "start_time": "2023-07-12T08:16:30.183Z"
   },
   {
    "duration": 1074,
    "start_time": "2023-07-12T08:16:31.910Z"
   },
   {
    "duration": 1132,
    "start_time": "2023-07-12T08:16:32.987Z"
   },
   {
    "duration": 3067,
    "start_time": "2023-07-12T08:16:34.121Z"
   },
   {
    "duration": 9,
    "start_time": "2023-07-12T08:16:38.724Z"
   },
   {
    "duration": 3,
    "start_time": "2023-07-12T08:16:38.975Z"
   },
   {
    "duration": 171,
    "start_time": "2023-07-12T08:16:39.568Z"
   },
   {
    "duration": 3,
    "start_time": "2023-07-12T08:16:41.296Z"
   },
   {
    "duration": 8,
    "start_time": "2023-07-12T08:16:41.528Z"
   },
   {
    "duration": 111,
    "start_time": "2023-07-12T08:16:42.420Z"
   },
   {
    "duration": 5,
    "start_time": "2023-07-12T08:16:42.680Z"
   },
   {
    "duration": 3,
    "start_time": "2023-07-12T08:16:43.811Z"
   },
   {
    "duration": 5,
    "start_time": "2023-07-12T08:16:46.180Z"
   },
   {
    "duration": 9,
    "start_time": "2023-07-12T08:16:47.287Z"
   },
   {
    "duration": 8,
    "start_time": "2023-07-12T08:16:47.863Z"
   },
   {
    "duration": 9,
    "start_time": "2023-07-12T08:16:49.180Z"
   },
   {
    "duration": 4,
    "start_time": "2023-07-12T08:16:50.155Z"
   },
   {
    "duration": 9,
    "start_time": "2023-07-12T08:16:50.937Z"
   },
   {
    "duration": 4,
    "start_time": "2023-07-12T08:17:01.178Z"
   },
   {
    "duration": 7,
    "start_time": "2023-07-12T08:17:12.206Z"
   },
   {
    "duration": 3,
    "start_time": "2023-07-12T08:17:34.659Z"
   },
   {
    "duration": 5,
    "start_time": "2023-07-12T08:17:35.169Z"
   },
   {
    "duration": 7,
    "start_time": "2023-07-12T08:17:44.903Z"
   },
   {
    "duration": 8791,
    "start_time": "2023-07-12T08:19:14.667Z"
   },
   {
    "duration": 4459,
    "start_time": "2023-07-12T08:19:23.461Z"
   },
   {
    "duration": 134,
    "start_time": "2023-07-12T08:19:27.923Z"
   },
   {
    "duration": 46,
    "start_time": "2023-07-12T08:19:28.059Z"
   },
   {
    "duration": 54,
    "start_time": "2023-07-12T08:19:28.108Z"
   },
   {
    "duration": 8,
    "start_time": "2023-07-12T08:19:28.165Z"
   },
   {
    "duration": 69,
    "start_time": "2023-07-12T08:19:28.176Z"
   },
   {
    "duration": 36,
    "start_time": "2023-07-12T08:19:28.248Z"
   },
   {
    "duration": 25,
    "start_time": "2023-07-12T08:19:28.286Z"
   },
   {
    "duration": 210,
    "start_time": "2023-07-12T08:19:28.316Z"
   },
   {
    "duration": 45,
    "start_time": "2023-07-12T08:19:28.528Z"
   },
   {
    "duration": 17,
    "start_time": "2023-07-12T08:19:28.576Z"
   },
   {
    "duration": 35,
    "start_time": "2023-07-12T08:19:28.595Z"
   },
   {
    "duration": 27,
    "start_time": "2023-07-12T08:19:28.633Z"
   },
   {
    "duration": 44,
    "start_time": "2023-07-12T08:19:28.662Z"
   },
   {
    "duration": 30,
    "start_time": "2023-07-12T08:19:28.707Z"
   },
   {
    "duration": 20,
    "start_time": "2023-07-12T08:19:28.739Z"
   },
   {
    "duration": 24,
    "start_time": "2023-07-12T08:19:28.761Z"
   },
   {
    "duration": 47,
    "start_time": "2023-07-12T08:19:28.787Z"
   },
   {
    "duration": 13,
    "start_time": "2023-07-12T08:19:28.836Z"
   },
   {
    "duration": 16,
    "start_time": "2023-07-12T08:19:28.851Z"
   },
   {
    "duration": 13,
    "start_time": "2023-07-12T08:19:28.870Z"
   },
   {
    "duration": 20,
    "start_time": "2023-07-12T08:19:28.886Z"
   },
   {
    "duration": 72,
    "start_time": "2023-07-12T08:19:28.909Z"
   },
   {
    "duration": 48,
    "start_time": "2023-07-12T08:19:28.983Z"
   },
   {
    "duration": 49,
    "start_time": "2023-07-12T08:19:29.033Z"
   },
   {
    "duration": 54,
    "start_time": "2023-07-12T08:19:29.084Z"
   },
   {
    "duration": 1245,
    "start_time": "2023-07-12T08:19:29.142Z"
   },
   {
    "duration": 4,
    "start_time": "2023-07-12T08:19:30.390Z"
   },
   {
    "duration": 694,
    "start_time": "2023-07-12T08:19:30.396Z"
   },
   {
    "duration": 1227,
    "start_time": "2023-07-12T08:19:31.092Z"
   },
   {
    "duration": 1357,
    "start_time": "2023-07-12T08:19:32.321Z"
   },
   {
    "duration": 3402,
    "start_time": "2023-07-12T08:19:33.680Z"
   },
   {
    "duration": 25,
    "start_time": "2023-07-12T08:19:37.084Z"
   },
   {
    "duration": 9,
    "start_time": "2023-07-12T08:19:37.111Z"
   },
   {
    "duration": 193,
    "start_time": "2023-07-12T08:19:37.122Z"
   },
   {
    "duration": 3,
    "start_time": "2023-07-12T08:19:37.317Z"
   },
   {
    "duration": 20,
    "start_time": "2023-07-12T08:19:37.322Z"
   },
   {
    "duration": 135,
    "start_time": "2023-07-12T08:19:37.344Z"
   },
   {
    "duration": 6,
    "start_time": "2023-07-12T08:19:37.482Z"
   },
   {
    "duration": 23,
    "start_time": "2023-07-12T08:19:37.490Z"
   },
   {
    "duration": 10,
    "start_time": "2023-07-12T08:19:37.516Z"
   },
   {
    "duration": 16,
    "start_time": "2023-07-12T08:19:37.529Z"
   },
   {
    "duration": 14,
    "start_time": "2023-07-12T08:19:37.548Z"
   },
   {
    "duration": 21,
    "start_time": "2023-07-12T08:19:37.566Z"
   },
   {
    "duration": 19,
    "start_time": "2023-07-12T08:19:37.608Z"
   },
   {
    "duration": 14,
    "start_time": "2023-07-12T08:19:37.630Z"
   },
   {
    "duration": 25,
    "start_time": "2023-07-12T08:19:37.647Z"
   },
   {
    "duration": 9,
    "start_time": "2023-07-12T08:19:37.675Z"
   },
   {
    "duration": 17,
    "start_time": "2023-07-12T08:19:37.686Z"
   },
   {
    "duration": 31121,
    "start_time": "2023-07-12T08:19:37.705Z"
   },
   {
    "duration": 0,
    "start_time": "2023-07-12T08:20:08.830Z"
   },
   {
    "duration": 0,
    "start_time": "2023-07-12T08:20:08.832Z"
   },
   {
    "duration": 0,
    "start_time": "2023-07-12T08:20:08.833Z"
   },
   {
    "duration": 0,
    "start_time": "2023-07-12T08:20:08.836Z"
   },
   {
    "duration": 0,
    "start_time": "2023-07-12T08:20:08.837Z"
   },
   {
    "duration": 0,
    "start_time": "2023-07-12T08:20:08.839Z"
   },
   {
    "duration": 0,
    "start_time": "2023-07-12T08:20:08.841Z"
   },
   {
    "duration": 4,
    "start_time": "2023-07-12T08:20:14.189Z"
   },
   {
    "duration": 6,
    "start_time": "2023-07-12T08:20:16.423Z"
   },
   {
    "duration": 8,
    "start_time": "2023-07-12T08:20:17.026Z"
   },
   {
    "duration": 7,
    "start_time": "2023-07-12T08:20:17.824Z"
   },
   {
    "duration": 711647,
    "start_time": "2023-07-12T08:20:18.139Z"
   },
   {
    "duration": 189,
    "start_time": "2023-07-12T08:33:32.388Z"
   },
   {
    "duration": 119,
    "start_time": "2023-07-12T08:34:58.722Z"
   },
   {
    "duration": 75,
    "start_time": "2023-07-12T08:44:25.726Z"
   },
   {
    "duration": 49,
    "start_time": "2023-07-12T08:45:04.686Z"
   },
   {
    "duration": 11,
    "start_time": "2023-07-12T08:45:26.933Z"
   },
   {
    "duration": 88,
    "start_time": "2023-07-12T08:45:34.683Z"
   },
   {
    "duration": 34,
    "start_time": "2023-07-12T08:45:47.934Z"
   },
   {
    "duration": 30,
    "start_time": "2023-07-12T08:46:59.852Z"
   },
   {
    "duration": 26,
    "start_time": "2023-07-12T08:47:05.165Z"
   },
   {
    "duration": 409,
    "start_time": "2023-07-12T08:47:12.928Z"
   },
   {
    "duration": 59,
    "start_time": "2023-07-12T08:47:27.592Z"
   },
   {
    "duration": 100,
    "start_time": "2023-07-12T08:47:27.880Z"
   },
   {
    "duration": 5,
    "start_time": "2023-07-12T08:47:52.535Z"
   },
   {
    "duration": 6,
    "start_time": "2023-07-12T08:48:00.127Z"
   },
   {
    "duration": 5,
    "start_time": "2023-07-12T08:48:05.109Z"
   },
   {
    "duration": 10,
    "start_time": "2023-07-12T08:48:34.383Z"
   },
   {
    "duration": 58,
    "start_time": "2023-07-12T08:48:36.694Z"
   },
   {
    "duration": 145,
    "start_time": "2023-07-12T08:48:37.045Z"
   },
   {
    "duration": 62,
    "start_time": "2023-07-12T08:49:16.964Z"
   },
   {
    "duration": 216,
    "start_time": "2023-07-12T08:49:17.874Z"
   },
   {
    "duration": 3,
    "start_time": "2023-07-12T08:56:53.676Z"
   },
   {
    "duration": 39,
    "start_time": "2023-07-12T08:56:56.642Z"
   },
   {
    "duration": 1722,
    "start_time": "2023-07-12T08:56:57.052Z"
   },
   {
    "duration": 54,
    "start_time": "2023-07-12T08:57:15.869Z"
   },
   {
    "duration": 266,
    "start_time": "2023-07-12T08:57:16.525Z"
   },
   {
    "duration": 54,
    "start_time": "2023-07-12T08:57:30.900Z"
   },
   {
    "duration": 221,
    "start_time": "2023-07-12T08:57:31.352Z"
   },
   {
    "duration": 38,
    "start_time": "2023-07-12T08:59:13.248Z"
   },
   {
    "duration": 1099,
    "start_time": "2023-07-12T08:59:13.975Z"
   },
   {
    "duration": 44,
    "start_time": "2023-07-12T09:00:02.776Z"
   },
   {
    "duration": 28,
    "start_time": "2023-07-12T09:00:15.525Z"
   },
   {
    "duration": 21,
    "start_time": "2023-07-12T09:00:17.195Z"
   },
   {
    "duration": 165,
    "start_time": "2023-07-12T09:00:30.074Z"
   },
   {
    "duration": 79,
    "start_time": "2023-07-12T09:01:45.398Z"
   },
   {
    "duration": 8998,
    "start_time": "2023-07-12T09:02:00.766Z"
   },
   {
    "duration": 94,
    "start_time": "2023-07-12T09:02:35.253Z"
   },
   {
    "duration": 920,
    "start_time": "2023-07-12T09:02:42.642Z"
   },
   {
    "duration": 94,
    "start_time": "2023-07-12T09:02:44.616Z"
   },
   {
    "duration": 504,
    "start_time": "2023-07-12T09:02:52.134Z"
   },
   {
    "duration": 83,
    "start_time": "2023-07-12T09:02:53.109Z"
   },
   {
    "duration": 50,
    "start_time": "2023-07-12T09:02:59.196Z"
   },
   {
    "duration": 1093,
    "start_time": "2023-07-12T09:02:59.542Z"
   },
   {
    "duration": 137,
    "start_time": "2023-07-12T09:03:01.074Z"
   },
   {
    "duration": 39,
    "start_time": "2023-07-12T09:03:05.004Z"
   },
   {
    "duration": 1122,
    "start_time": "2023-07-12T09:03:05.198Z"
   },
   {
    "duration": 134,
    "start_time": "2023-07-12T09:03:06.322Z"
   },
   {
    "duration": 20,
    "start_time": "2023-07-12T09:06:21.308Z"
   },
   {
    "duration": 20,
    "start_time": "2023-07-12T09:06:58.865Z"
   },
   {
    "duration": 43,
    "start_time": "2023-07-12T09:07:00.976Z"
   },
   {
    "duration": 1041,
    "start_time": "2023-07-12T09:07:02.220Z"
   },
   {
    "duration": 151,
    "start_time": "2023-07-12T09:07:03.771Z"
   },
   {
    "duration": 530,
    "start_time": "2023-07-12T09:07:05.639Z"
   },
   {
    "duration": 73,
    "start_time": "2023-07-12T09:07:06.689Z"
   },
   {
    "duration": 530,
    "start_time": "2023-07-12T09:07:09.090Z"
   },
   {
    "duration": 77,
    "start_time": "2023-07-12T09:07:10.243Z"
   },
   {
    "duration": 71,
    "start_time": "2023-07-12T09:08:48.625Z"
   },
   {
    "duration": 7,
    "start_time": "2023-07-12T09:08:50.232Z"
   },
   {
    "duration": 115,
    "start_time": "2023-07-12T09:08:50.558Z"
   },
   {
    "duration": 1206,
    "start_time": "2023-07-12T09:08:54.313Z"
   },
   {
    "duration": 132,
    "start_time": "2023-07-12T09:08:56.928Z"
   },
   {
    "duration": 53,
    "start_time": "2023-07-12T09:09:04.343Z"
   },
   {
    "duration": 7,
    "start_time": "2023-07-12T09:09:04.958Z"
   },
   {
    "duration": 1484,
    "start_time": "2023-07-12T09:09:05.376Z"
   },
   {
    "duration": 140,
    "start_time": "2023-07-12T09:09:07.295Z"
   },
   {
    "duration": 43,
    "start_time": "2023-07-12T09:09:14.543Z"
   },
   {
    "duration": 8,
    "start_time": "2023-07-12T09:09:14.852Z"
   },
   {
    "duration": 1085,
    "start_time": "2023-07-12T09:09:15.027Z"
   },
   {
    "duration": 117,
    "start_time": "2023-07-12T09:09:16.551Z"
   },
   {
    "duration": 27,
    "start_time": "2023-07-12T09:09:59.961Z"
   },
   {
    "duration": 85,
    "start_time": "2023-07-12T09:16:58.174Z"
   },
   {
    "duration": 85,
    "start_time": "2023-07-12T09:17:02.002Z"
   },
   {
    "duration": 86,
    "start_time": "2023-07-12T09:17:04.639Z"
   },
   {
    "duration": 4,
    "start_time": "2023-07-12T09:17:14.179Z"
   },
   {
    "duration": 75,
    "start_time": "2023-07-12T09:18:57.041Z"
   },
   {
    "duration": 530,
    "start_time": "2023-07-12T09:18:59.326Z"
   },
   {
    "duration": 80,
    "start_time": "2023-07-12T09:19:01.023Z"
   },
   {
    "duration": 85,
    "start_time": "2023-07-12T09:33:02.332Z"
   },
   {
    "duration": 486,
    "start_time": "2023-07-12T09:33:04.770Z"
   },
   {
    "duration": 103,
    "start_time": "2023-07-12T09:33:05.888Z"
   },
   {
    "duration": 494,
    "start_time": "2023-07-12T09:33:07.974Z"
   },
   {
    "duration": 90,
    "start_time": "2023-07-12T09:33:08.920Z"
   },
   {
    "duration": 38,
    "start_time": "2023-07-12T09:33:12.725Z"
   },
   {
    "duration": 8,
    "start_time": "2023-07-12T09:33:12.974Z"
   },
   {
    "duration": 1013,
    "start_time": "2023-07-12T09:33:13.153Z"
   },
   {
    "duration": 165,
    "start_time": "2023-07-12T09:33:14.168Z"
   },
   {
    "duration": 478,
    "start_time": "2023-07-12T09:39:09.240Z"
   },
   {
    "duration": 108,
    "start_time": "2023-07-12T09:39:17.217Z"
   },
   {
    "duration": 6,
    "start_time": "2023-07-12T09:57:05.145Z"
   },
   {
    "duration": 4,
    "start_time": "2023-07-12T09:57:21.513Z"
   },
   {
    "duration": 9,
    "start_time": "2023-07-12T09:57:22.731Z"
   },
   {
    "duration": 35,
    "start_time": "2023-07-12T09:59:04.543Z"
   },
   {
    "duration": 82219,
    "start_time": "2023-07-12T09:59:16.744Z"
   },
   {
    "duration": 4,
    "start_time": "2023-07-12T10:00:45.601Z"
   },
   {
    "duration": 5,
    "start_time": "2023-07-12T10:01:07.369Z"
   },
   {
    "duration": 1273,
    "start_time": "2023-07-12T10:01:32.490Z"
   },
   {
    "duration": 8,
    "start_time": "2023-07-12T10:10:51.712Z"
   },
   {
    "duration": 880,
    "start_time": "2023-07-12T10:10:54.906Z"
   },
   {
    "duration": 35,
    "start_time": "2023-07-12T10:11:14.217Z"
   },
   {
    "duration": 85500,
    "start_time": "2023-07-12T10:11:14.591Z"
   },
   {
    "duration": 1364,
    "start_time": "2023-07-12T10:15:46.616Z"
   },
   {
    "duration": 35,
    "start_time": "2023-07-12T11:53:11.787Z"
   },
   {
    "duration": 61,
    "start_time": "2023-07-12T11:53:47.490Z"
   },
   {
    "duration": 44,
    "start_time": "2023-07-12T11:54:02.408Z"
   },
   {
    "duration": 6,
    "start_time": "2023-07-12T11:54:28.913Z"
   },
   {
    "duration": 5,
    "start_time": "2023-07-12T11:54:42.183Z"
   },
   {
    "duration": 5,
    "start_time": "2023-07-12T15:01:57.746Z"
   },
   {
    "duration": 5,
    "start_time": "2023-07-12T15:06:04.006Z"
   },
   {
    "duration": 15,
    "start_time": "2023-07-12T15:26:39.226Z"
   },
   {
    "duration": 39,
    "start_time": "2023-07-12T15:28:23.854Z"
   },
   {
    "duration": 429,
    "start_time": "2023-07-12T15:29:19.693Z"
   },
   {
    "duration": 5,
    "start_time": "2023-07-12T15:29:51.925Z"
   },
   {
    "duration": 396,
    "start_time": "2023-07-12T15:31:22.324Z"
   },
   {
    "duration": 5,
    "start_time": "2023-07-12T15:46:49.494Z"
   },
   {
    "duration": 4,
    "start_time": "2023-07-12T15:46:54.268Z"
   },
   {
    "duration": 32,
    "start_time": "2023-07-12T15:46:55.170Z"
   },
   {
    "duration": 80338,
    "start_time": "2023-07-12T15:46:56.385Z"
   },
   {
    "duration": 73,
    "start_time": "2023-07-12T15:48:45.662Z"
   },
   {
    "duration": 21,
    "start_time": "2023-07-12T15:48:54.722Z"
   },
   {
    "duration": 484,
    "start_time": "2023-07-12T15:49:03.083Z"
   },
   {
    "duration": 13,
    "start_time": "2023-07-12T15:57:19.541Z"
   },
   {
    "duration": 4,
    "start_time": "2023-07-12T15:57:25.330Z"
   },
   {
    "duration": 43,
    "start_time": "2023-07-12T15:57:25.655Z"
   },
   {
    "duration": 1661,
    "start_time": "2023-07-12T15:57:26.648Z"
   },
   {
    "duration": 6,
    "start_time": "2023-07-12T16:00:04.516Z"
   },
   {
    "duration": 289421,
    "start_time": "2023-07-12T16:00:13.333Z"
   },
   {
    "duration": 0,
    "start_time": "2023-07-12T16:05:02.756Z"
   },
   {
    "duration": 4,
    "start_time": "2023-07-12T16:05:17.544Z"
   },
   {
    "duration": 308985,
    "start_time": "2023-07-12T16:06:14.153Z"
   },
   {
    "duration": 9,
    "start_time": "2023-07-12T16:13:50.306Z"
   },
   {
    "duration": 4,
    "start_time": "2023-07-12T16:19:31.094Z"
   },
   {
    "duration": 7,
    "start_time": "2023-07-12T16:40:32.834Z"
   },
   {
    "duration": 7,
    "start_time": "2023-07-12T16:40:47.421Z"
   },
   {
    "duration": 6,
    "start_time": "2023-07-12T16:40:47.900Z"
   },
   {
    "duration": 4,
    "start_time": "2023-07-12T16:40:48.402Z"
   },
   {
    "duration": 531557,
    "start_time": "2023-07-12T16:40:50.328Z"
   },
   {
    "duration": 6,
    "start_time": "2023-07-12T16:50:12.679Z"
   },
   {
    "duration": 5,
    "start_time": "2023-07-12T17:24:07.201Z"
   },
   {
    "duration": 71,
    "start_time": "2023-07-12T17:24:15.026Z"
   },
   {
    "duration": 109,
    "start_time": "2023-07-12T17:24:20.570Z"
   },
   {
    "duration": 9,
    "start_time": "2023-07-12T17:27:12.471Z"
   },
   {
    "duration": 5,
    "start_time": "2023-07-12T17:27:14.545Z"
   },
   {
    "duration": 6,
    "start_time": "2023-07-12T17:27:14.860Z"
   },
   {
    "duration": 4,
    "start_time": "2023-07-12T17:27:16.647Z"
   },
   {
    "duration": 6,
    "start_time": "2023-07-12T17:27:17.632Z"
   },
   {
    "duration": 506696,
    "start_time": "2023-07-12T17:27:18.801Z"
   },
   {
    "duration": 8,
    "start_time": "2023-07-12T17:35:48.889Z"
   },
   {
    "duration": 7166,
    "start_time": "2023-07-13T09:10:47.101Z"
   },
   {
    "duration": 2881,
    "start_time": "2023-07-13T09:10:54.270Z"
   },
   {
    "duration": 101,
    "start_time": "2023-07-13T09:10:57.153Z"
   },
   {
    "duration": 44,
    "start_time": "2023-07-13T09:10:57.256Z"
   },
   {
    "duration": 33,
    "start_time": "2023-07-13T09:10:57.303Z"
   },
   {
    "duration": 6,
    "start_time": "2023-07-13T09:10:57.338Z"
   },
   {
    "duration": 43,
    "start_time": "2023-07-13T09:10:57.345Z"
   },
   {
    "duration": 5,
    "start_time": "2023-07-13T09:10:57.390Z"
   },
   {
    "duration": 8,
    "start_time": "2023-07-13T09:10:57.397Z"
   },
   {
    "duration": 104,
    "start_time": "2023-07-13T09:10:57.406Z"
   },
   {
    "duration": 34,
    "start_time": "2023-07-13T09:10:57.512Z"
   },
   {
    "duration": 31,
    "start_time": "2023-07-13T09:10:57.547Z"
   },
   {
    "duration": 5,
    "start_time": "2023-07-13T09:10:57.580Z"
   },
   {
    "duration": 5,
    "start_time": "2023-07-13T09:10:57.588Z"
   },
   {
    "duration": 15,
    "start_time": "2023-07-13T09:10:57.594Z"
   },
   {
    "duration": 25,
    "start_time": "2023-07-13T09:10:57.610Z"
   },
   {
    "duration": 8,
    "start_time": "2023-07-13T09:10:57.637Z"
   },
   {
    "duration": 11,
    "start_time": "2023-07-13T09:10:57.647Z"
   },
   {
    "duration": 23,
    "start_time": "2023-07-13T09:10:57.659Z"
   },
   {
    "duration": 7,
    "start_time": "2023-07-13T09:10:57.684Z"
   },
   {
    "duration": 21,
    "start_time": "2023-07-13T09:10:57.692Z"
   },
   {
    "duration": 18,
    "start_time": "2023-07-13T09:10:57.715Z"
   },
   {
    "duration": 7,
    "start_time": "2023-07-13T09:10:57.734Z"
   },
   {
    "duration": 43,
    "start_time": "2023-07-13T09:10:57.742Z"
   },
   {
    "duration": 63,
    "start_time": "2023-07-13T09:10:57.786Z"
   },
   {
    "duration": 30,
    "start_time": "2023-07-13T09:10:57.851Z"
   },
   {
    "duration": 18,
    "start_time": "2023-07-13T09:10:57.882Z"
   },
   {
    "duration": 785,
    "start_time": "2023-07-13T09:10:57.901Z"
   },
   {
    "duration": 3,
    "start_time": "2023-07-13T09:10:58.687Z"
   },
   {
    "duration": 414,
    "start_time": "2023-07-13T09:10:58.691Z"
   },
   {
    "duration": 907,
    "start_time": "2023-07-13T09:10:59.107Z"
   },
   {
    "duration": 916,
    "start_time": "2023-07-13T09:11:00.015Z"
   },
   {
    "duration": 2703,
    "start_time": "2023-07-13T09:11:00.932Z"
   },
   {
    "duration": 7,
    "start_time": "2023-07-13T09:11:03.636Z"
   },
   {
    "duration": 52,
    "start_time": "2023-07-13T09:11:03.645Z"
   },
   {
    "duration": 171,
    "start_time": "2023-07-13T09:11:03.698Z"
   },
   {
    "duration": 4,
    "start_time": "2023-07-13T09:11:03.871Z"
   },
   {
    "duration": 28,
    "start_time": "2023-07-13T09:11:03.877Z"
   },
   {
    "duration": 125,
    "start_time": "2023-07-13T09:11:03.907Z"
   },
   {
    "duration": 4,
    "start_time": "2023-07-13T09:11:04.033Z"
   },
   {
    "duration": 21,
    "start_time": "2023-07-13T09:11:04.041Z"
   },
   {
    "duration": 23,
    "start_time": "2023-07-13T09:11:04.064Z"
   },
   {
    "duration": 29,
    "start_time": "2023-07-13T09:11:04.089Z"
   },
   {
    "duration": 28,
    "start_time": "2023-07-13T09:11:04.119Z"
   },
   {
    "duration": 21,
    "start_time": "2023-07-13T09:11:04.149Z"
   },
   {
    "duration": 31,
    "start_time": "2023-07-13T09:11:04.172Z"
   },
   {
    "duration": 9,
    "start_time": "2023-07-13T09:11:04.205Z"
   },
   {
    "duration": 26,
    "start_time": "2023-07-13T09:11:04.215Z"
   },
   {
    "duration": 24,
    "start_time": "2023-07-13T09:11:04.243Z"
   },
   {
    "duration": 11,
    "start_time": "2023-07-13T09:11:04.269Z"
   },
   {
    "duration": 775512,
    "start_time": "2023-07-13T09:11:04.281Z"
   },
   {
    "duration": 3,
    "start_time": "2023-07-13T09:23:59.795Z"
   },
   {
    "duration": 6167151,
    "start_time": "2023-07-13T09:23:59.799Z"
   },
   {
    "duration": 2,
    "start_time": "2023-07-13T11:06:46.952Z"
   },
   {
    "duration": 8,
    "start_time": "2023-07-13T11:06:46.956Z"
   },
   {
    "duration": 33,
    "start_time": "2023-07-13T11:06:46.965Z"
   },
   {
    "duration": 46,
    "start_time": "2023-07-13T11:06:47.001Z"
   },
   {
    "duration": 113,
    "start_time": "2023-07-13T13:03:22.582Z"
   },
   {
    "duration": 86,
    "start_time": "2023-07-13T13:07:42.110Z"
   },
   {
    "duration": 8417,
    "start_time": "2023-07-13T16:20:31.803Z"
   },
   {
    "duration": 3025,
    "start_time": "2023-07-13T16:20:40.222Z"
   },
   {
    "duration": 107,
    "start_time": "2023-07-13T16:20:43.249Z"
   },
   {
    "duration": 44,
    "start_time": "2023-07-13T16:20:43.358Z"
   },
   {
    "duration": 42,
    "start_time": "2023-07-13T16:20:43.408Z"
   },
   {
    "duration": 5,
    "start_time": "2023-07-13T16:20:43.452Z"
   },
   {
    "duration": 72,
    "start_time": "2023-07-13T16:20:43.459Z"
   },
   {
    "duration": 22,
    "start_time": "2023-07-13T16:20:43.533Z"
   },
   {
    "duration": 27,
    "start_time": "2023-07-13T16:20:43.557Z"
   },
   {
    "duration": 131,
    "start_time": "2023-07-13T16:20:43.586Z"
   },
   {
    "duration": 33,
    "start_time": "2023-07-13T16:20:43.719Z"
   },
   {
    "duration": 26,
    "start_time": "2023-07-13T16:20:43.754Z"
   },
   {
    "duration": 44,
    "start_time": "2023-07-13T16:20:43.781Z"
   },
   {
    "duration": 54,
    "start_time": "2023-07-13T16:20:43.826Z"
   },
   {
    "duration": 60,
    "start_time": "2023-07-13T16:20:43.882Z"
   },
   {
    "duration": 35,
    "start_time": "2023-07-13T16:20:43.944Z"
   },
   {
    "duration": 48,
    "start_time": "2023-07-13T16:20:43.984Z"
   },
   {
    "duration": 38,
    "start_time": "2023-07-13T16:20:44.034Z"
   },
   {
    "duration": 61,
    "start_time": "2023-07-13T16:20:44.074Z"
   },
   {
    "duration": 13,
    "start_time": "2023-07-13T16:20:44.137Z"
   },
   {
    "duration": 33,
    "start_time": "2023-07-13T16:20:44.151Z"
   },
   {
    "duration": 30,
    "start_time": "2023-07-13T16:20:44.192Z"
   },
   {
    "duration": 12,
    "start_time": "2023-07-13T16:20:44.224Z"
   },
   {
    "duration": 77,
    "start_time": "2023-07-13T16:20:44.237Z"
   },
   {
    "duration": 5,
    "start_time": "2023-07-13T16:20:44.316Z"
   },
   {
    "duration": 20,
    "start_time": "2023-07-13T16:20:44.322Z"
   },
   {
    "duration": 60,
    "start_time": "2023-07-13T16:20:44.343Z"
   },
   {
    "duration": 924,
    "start_time": "2023-07-13T16:20:44.407Z"
   },
   {
    "duration": 4,
    "start_time": "2023-07-13T16:20:45.333Z"
   },
   {
    "duration": 516,
    "start_time": "2023-07-13T16:20:45.339Z"
   },
   {
    "duration": 1037,
    "start_time": "2023-07-13T16:20:45.857Z"
   },
   {
    "duration": 993,
    "start_time": "2023-07-13T16:20:46.901Z"
   },
   {
    "duration": 2918,
    "start_time": "2023-07-13T16:20:47.896Z"
   },
   {
    "duration": 7,
    "start_time": "2023-07-13T16:20:50.817Z"
   },
   {
    "duration": 11,
    "start_time": "2023-07-13T16:20:50.825Z"
   },
   {
    "duration": 170,
    "start_time": "2023-07-13T16:20:50.838Z"
   },
   {
    "duration": 8,
    "start_time": "2023-07-13T16:20:51.010Z"
   },
   {
    "duration": 11,
    "start_time": "2023-07-13T16:20:51.019Z"
   },
   {
    "duration": 17,
    "start_time": "2023-07-13T16:20:51.032Z"
   },
   {
    "duration": 11,
    "start_time": "2023-07-13T16:20:51.050Z"
   },
   {
    "duration": 45,
    "start_time": "2023-07-13T16:20:51.063Z"
   },
   {
    "duration": 14,
    "start_time": "2023-07-13T16:20:51.110Z"
   },
   {
    "duration": 5,
    "start_time": "2023-07-13T16:20:51.126Z"
   },
   {
    "duration": 6,
    "start_time": "2023-07-13T16:20:51.133Z"
   },
   {
    "duration": 8,
    "start_time": "2023-07-13T16:20:51.141Z"
   },
   {
    "duration": 19,
    "start_time": "2023-07-13T16:20:51.151Z"
   },
   {
    "duration": 48,
    "start_time": "2023-07-13T16:20:51.172Z"
   },
   {
    "duration": 16,
    "start_time": "2023-07-13T16:20:51.225Z"
   },
   {
    "duration": 16,
    "start_time": "2023-07-13T16:20:51.243Z"
   },
   {
    "duration": 47,
    "start_time": "2023-07-13T16:20:51.261Z"
   },
   {
    "duration": 990327,
    "start_time": "2023-07-13T16:20:51.310Z"
   },
   {
    "duration": 0,
    "start_time": "2023-07-13T16:37:21.638Z"
   },
   {
    "duration": 0,
    "start_time": "2023-07-13T16:37:21.640Z"
   },
   {
    "duration": 0,
    "start_time": "2023-07-13T16:37:21.641Z"
   },
   {
    "duration": 0,
    "start_time": "2023-07-13T16:37:21.642Z"
   },
   {
    "duration": 0,
    "start_time": "2023-07-13T16:37:21.643Z"
   },
   {
    "duration": 0,
    "start_time": "2023-07-13T16:37:21.645Z"
   },
   {
    "duration": 0,
    "start_time": "2023-07-13T16:37:21.646Z"
   },
   {
    "duration": 0,
    "start_time": "2023-07-13T16:37:21.647Z"
   },
   {
    "duration": 0,
    "start_time": "2023-07-13T16:37:21.648Z"
   },
   {
    "duration": 0,
    "start_time": "2023-07-13T16:37:21.649Z"
   },
   {
    "duration": 0,
    "start_time": "2023-07-13T16:37:21.650Z"
   },
   {
    "duration": 0,
    "start_time": "2023-07-13T16:37:21.675Z"
   },
   {
    "duration": 0,
    "start_time": "2023-07-13T16:37:21.678Z"
   },
   {
    "duration": 0,
    "start_time": "2023-07-13T16:37:21.679Z"
   },
   {
    "duration": 0,
    "start_time": "2023-07-13T16:37:21.679Z"
   },
   {
    "duration": 0,
    "start_time": "2023-07-13T16:37:21.680Z"
   },
   {
    "duration": 0,
    "start_time": "2023-07-13T16:37:21.680Z"
   },
   {
    "duration": 0,
    "start_time": "2023-07-13T16:37:21.681Z"
   },
   {
    "duration": 0,
    "start_time": "2023-07-13T16:37:21.682Z"
   },
   {
    "duration": 0,
    "start_time": "2023-07-13T16:37:21.684Z"
   },
   {
    "duration": 72197,
    "start_time": "2023-07-13T16:39:26.922Z"
   },
   {
    "duration": 6,
    "start_time": "2023-07-13T16:40:57.100Z"
   },
   {
    "duration": 4,
    "start_time": "2023-07-13T16:41:00.103Z"
   },
   {
    "duration": 955522,
    "start_time": "2023-07-13T16:41:02.095Z"
   },
   {
    "duration": 4,
    "start_time": "2023-07-13T16:59:31.262Z"
   },
   {
    "duration": 4,
    "start_time": "2023-07-13T16:59:40.565Z"
   },
   {
    "duration": 135985,
    "start_time": "2023-07-13T16:59:42.205Z"
   },
   {
    "duration": 496471,
    "start_time": "2023-07-13T17:02:15.592Z"
   },
   {
    "duration": 0,
    "start_time": "2023-07-13T17:10:32.065Z"
   },
   {
    "duration": 4,
    "start_time": "2023-07-13T17:10:38.647Z"
   },
   {
    "duration": 5,
    "start_time": "2023-07-13T17:10:40.464Z"
   },
   {
    "duration": 107483,
    "start_time": "2023-07-13T17:10:47.356Z"
   },
   {
    "duration": 0,
    "start_time": "2023-07-13T17:12:34.841Z"
   },
   {
    "duration": 0,
    "start_time": "2023-07-13T17:12:34.842Z"
   },
   {
    "duration": 1323453,
    "start_time": "2023-07-13T17:12:40.358Z"
   },
   {
    "duration": 8265,
    "start_time": "2023-07-13T17:42:11.141Z"
   },
   {
    "duration": 3976,
    "start_time": "2023-07-13T17:42:19.408Z"
   },
   {
    "duration": 97,
    "start_time": "2023-07-13T17:42:23.386Z"
   },
   {
    "duration": 30,
    "start_time": "2023-07-13T17:42:23.485Z"
   },
   {
    "duration": 96,
    "start_time": "2023-07-13T17:42:23.517Z"
   },
   {
    "duration": 62,
    "start_time": "2023-07-13T17:42:23.615Z"
   },
   {
    "duration": 55,
    "start_time": "2023-07-13T17:42:23.679Z"
   },
   {
    "duration": 40,
    "start_time": "2023-07-13T17:42:23.736Z"
   },
   {
    "duration": 28,
    "start_time": "2023-07-13T17:42:23.778Z"
   },
   {
    "duration": 269,
    "start_time": "2023-07-13T17:42:23.809Z"
   },
   {
    "duration": 34,
    "start_time": "2023-07-13T17:42:24.080Z"
   },
   {
    "duration": 62,
    "start_time": "2023-07-13T17:42:24.116Z"
   },
   {
    "duration": 26,
    "start_time": "2023-07-13T17:42:24.180Z"
   },
   {
    "duration": 21,
    "start_time": "2023-07-13T17:42:24.208Z"
   },
   {
    "duration": 45,
    "start_time": "2023-07-13T17:42:24.231Z"
   },
   {
    "duration": 25,
    "start_time": "2023-07-13T17:42:24.278Z"
   },
   {
    "duration": 23,
    "start_time": "2023-07-13T17:42:24.304Z"
   },
   {
    "duration": 49,
    "start_time": "2023-07-13T17:42:24.329Z"
   },
   {
    "duration": 52,
    "start_time": "2023-07-13T17:42:24.380Z"
   },
   {
    "duration": 47,
    "start_time": "2023-07-13T17:42:24.433Z"
   },
   {
    "duration": 42,
    "start_time": "2023-07-13T17:42:24.482Z"
   },
   {
    "duration": 55,
    "start_time": "2023-07-13T17:42:24.525Z"
   },
   {
    "duration": 33,
    "start_time": "2023-07-13T17:42:24.582Z"
   },
   {
    "duration": 55,
    "start_time": "2023-07-13T17:42:24.617Z"
   },
   {
    "duration": 5,
    "start_time": "2023-07-13T17:42:24.673Z"
   },
   {
    "duration": 21,
    "start_time": "2023-07-13T17:42:24.679Z"
   },
   {
    "duration": 4,
    "start_time": "2023-07-13T17:42:24.702Z"
   },
   {
    "duration": 969,
    "start_time": "2023-07-13T17:42:24.710Z"
   },
   {
    "duration": 3,
    "start_time": "2023-07-13T17:42:25.681Z"
   },
   {
    "duration": 917,
    "start_time": "2023-07-13T17:42:25.686Z"
   },
   {
    "duration": 1547,
    "start_time": "2023-07-13T17:42:26.604Z"
   },
   {
    "duration": 1254,
    "start_time": "2023-07-13T17:42:28.153Z"
   },
   {
    "duration": 3775,
    "start_time": "2023-07-13T17:42:29.409Z"
   },
   {
    "duration": 7,
    "start_time": "2023-07-13T17:42:33.185Z"
   },
   {
    "duration": 108,
    "start_time": "2023-07-13T17:42:33.194Z"
   },
   {
    "duration": 226,
    "start_time": "2023-07-13T17:42:33.304Z"
   },
   {
    "duration": 6,
    "start_time": "2023-07-13T17:42:33.532Z"
   },
   {
    "duration": 10,
    "start_time": "2023-07-13T17:42:33.539Z"
   },
   {
    "duration": 7,
    "start_time": "2023-07-13T17:42:33.550Z"
   },
   {
    "duration": 8,
    "start_time": "2023-07-13T17:42:33.559Z"
   },
   {
    "duration": 4,
    "start_time": "2023-07-13T17:42:33.575Z"
   },
   {
    "duration": 14,
    "start_time": "2023-07-13T17:42:33.580Z"
   },
   {
    "duration": 8,
    "start_time": "2023-07-13T17:42:33.595Z"
   },
   {
    "duration": 7,
    "start_time": "2023-07-13T17:42:33.604Z"
   },
   {
    "duration": 23,
    "start_time": "2023-07-13T17:42:33.612Z"
   },
   {
    "duration": 27,
    "start_time": "2023-07-13T17:42:33.636Z"
   },
   {
    "duration": 11,
    "start_time": "2023-07-13T17:42:33.665Z"
   },
   {
    "duration": 24,
    "start_time": "2023-07-13T17:42:33.678Z"
   },
   {
    "duration": 13,
    "start_time": "2023-07-13T17:42:33.704Z"
   },
   {
    "duration": 8,
    "start_time": "2023-07-13T17:42:33.719Z"
   },
   {
    "duration": 1052262,
    "start_time": "2023-07-13T17:42:33.728Z"
   },
   {
    "duration": 0,
    "start_time": "2023-07-13T18:00:05.991Z"
   },
   {
    "duration": 0,
    "start_time": "2023-07-13T18:00:05.993Z"
   },
   {
    "duration": 0,
    "start_time": "2023-07-13T18:00:05.994Z"
   },
   {
    "duration": 0,
    "start_time": "2023-07-13T18:00:05.995Z"
   },
   {
    "duration": 0,
    "start_time": "2023-07-13T18:00:05.997Z"
   },
   {
    "duration": 0,
    "start_time": "2023-07-13T18:00:05.998Z"
   },
   {
    "duration": 0,
    "start_time": "2023-07-13T18:00:05.999Z"
   },
   {
    "duration": 0,
    "start_time": "2023-07-13T18:00:06.001Z"
   },
   {
    "duration": 0,
    "start_time": "2023-07-13T18:00:06.002Z"
   },
   {
    "duration": 0,
    "start_time": "2023-07-13T18:00:06.003Z"
   },
   {
    "duration": 0,
    "start_time": "2023-07-13T18:00:06.004Z"
   },
   {
    "duration": 0,
    "start_time": "2023-07-13T18:00:06.005Z"
   },
   {
    "duration": 0,
    "start_time": "2023-07-13T18:00:06.007Z"
   },
   {
    "duration": 0,
    "start_time": "2023-07-13T18:00:06.008Z"
   },
   {
    "duration": 0,
    "start_time": "2023-07-13T18:00:06.009Z"
   },
   {
    "duration": 0,
    "start_time": "2023-07-13T18:00:06.010Z"
   },
   {
    "duration": 0,
    "start_time": "2023-07-13T18:00:06.075Z"
   },
   {
    "duration": 0,
    "start_time": "2023-07-13T18:00:06.077Z"
   },
   {
    "duration": 0,
    "start_time": "2023-07-13T18:00:06.078Z"
   },
   {
    "duration": 0,
    "start_time": "2023-07-13T18:00:06.079Z"
   }
  ],
  "kernelspec": {
   "display_name": "Python 3 (ipykernel)",
   "language": "python",
   "name": "python3"
  },
  "language_info": {
   "codemirror_mode": {
    "name": "ipython",
    "version": 3
   },
   "file_extension": ".py",
   "mimetype": "text/x-python",
   "name": "python",
   "nbconvert_exporter": "python",
   "pygments_lexer": "ipython3",
   "version": "3.9.21"
  },
  "toc": {
   "base_numbering": 1,
   "nav_menu": {},
   "number_sections": true,
   "sideBar": true,
   "skip_h1_title": true,
   "title_cell": "Содержание",
   "title_sidebar": "Содержание",
   "toc_cell": true,
   "toc_position": {
    "height": "calc(100% - 180px)",
    "left": "10px",
    "top": "150px",
    "width": "753.767px"
   },
   "toc_section_display": true,
   "toc_window_display": false
  },
  "varInspector": {
   "cols": {
    "lenName": 16,
    "lenType": 16,
    "lenVar": 40
   },
   "kernels_config": {
    "python": {
     "delete_cmd_postfix": "",
     "delete_cmd_prefix": "del ",
     "library": "var_list.py",
     "varRefreshCmd": "print(var_dic_list())"
    },
    "r": {
     "delete_cmd_postfix": ") ",
     "delete_cmd_prefix": "rm(",
     "library": "var_list.r",
     "varRefreshCmd": "cat(var_dic_list()) "
    }
   },
   "position": {
    "height": "573.837px",
    "left": "2588.11px",
    "right": "20px",
    "top": "571.997px",
    "width": "735.521px"
   },
   "types_to_exclude": [
    "module",
    "function",
    "builtin_function_or_method",
    "instance",
    "_Feature"
   ],
   "window_display": true
  }
 },
 "nbformat": 4,
 "nbformat_minor": 4
}
